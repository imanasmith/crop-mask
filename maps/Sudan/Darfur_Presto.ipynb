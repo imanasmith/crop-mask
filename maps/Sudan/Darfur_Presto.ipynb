{
 "cells": [
  {
   "cell_type": "markdown",
   "id": "afffe87f",
   "metadata": {},
   "source": [
    "# Run Presto on Darfur Dataset\n",
    "\n",
    "**Author**: Ivan Zvonkov\n",
    "\n",
    "**Last Modified**: Feb 19, 2024\n",
    "\n",
    "**Description**: Runs Presto on Darfur dataset."
   ]
  },
  {
   "cell_type": "code",
   "execution_count": 1,
   "id": "01806419",
   "metadata": {},
   "outputs": [],
   "source": [
    "import sys\n",
    "import pandas as pd\n",
    "\n",
    "from tqdm.notebook import tqdm\n",
    "\n",
    "sys.path.append(\"../..\")\n",
    "\n",
    "from datasets import datasets"
   ]
  },
  {
   "cell_type": "markdown",
   "id": "39a854d8",
   "metadata": {},
   "source": [
    "## 1. Load in data"
   ]
  },
  {
   "cell_type": "code",
   "execution_count": 2,
   "id": "d2ba03dd",
   "metadata": {},
   "outputs": [
    {
     "data": {
      "application/vnd.jupyter.widget-view+json": {
       "model_id": "481c5f7b3b1643f9880154f2aa21f696",
       "version_major": 2,
       "version_minor": 0
      },
      "text/plain": [
       "  0%|          | 0/47 [00:00<?, ?it/s]"
      ]
     },
     "metadata": {},
     "output_type": "display_data"
    },
    {
     "name": "stderr",
     "output_type": "stream",
     "text": [
      "/var/folders/1v/87y9n_d5143c_6cp072v3b1c0000gn/T/ipykernel_57996/4119029012.py:4: DtypeWarning: Columns (17) have mixed types.Specify dtype option on import or set low_memory=False.\n",
      "  df = d.load_df(to_np=True, disable_tqdm=True)\n"
     ]
    }
   ],
   "source": [
    "# Takes a minute and a half\n",
    "dfs = []\n",
    "for d in tqdm(datasets):\n",
    "    df = d.load_df(to_np=True, disable_tqdm=True)\n",
    "    df[\"name\"] = d.name\n",
    "    dfs.append(df)\n",
    "df = pd.concat(dfs)\n",
    "df[\"is_crop\"] = df[\"class_probability\"] > 0.5"
   ]
  },
  {
   "cell_type": "code",
   "execution_count": 150,
   "id": "ff66c19c",
   "metadata": {},
   "outputs": [
    {
     "data": {
      "text/plain": [
       "114573"
      ]
     },
     "execution_count": 150,
     "metadata": {},
     "output_type": "execute_result"
    }
   ],
   "source": [
    "len(df)"
   ]
  },
  {
   "cell_type": "code",
   "execution_count": 151,
   "id": "aaab9df9",
   "metadata": {},
   "outputs": [],
   "source": [
    "# Filter out 0.5\n",
    "df = df[df[\"class_probability\"] != 0.5].copy()"
   ]
  },
  {
   "cell_type": "code",
   "execution_count": 152,
   "id": "78f14917",
   "metadata": {},
   "outputs": [
    {
     "data": {
      "text/plain": [
       "112719"
      ]
     },
     "execution_count": 152,
     "metadata": {},
     "output_type": "execute_result"
    }
   ],
   "source": [
    "len(df)"
   ]
  },
  {
   "cell_type": "markdown",
   "id": "119bbf4e",
   "metadata": {},
   "source": [
    "## 2. Setup training and evaluation sets"
   ]
  },
  {
   "cell_type": "code",
   "execution_count": 153,
   "id": "b454404c",
   "metadata": {},
   "outputs": [],
   "source": [
    "from src.bboxes import bboxes"
   ]
  },
  {
   "cell_type": "code",
   "execution_count": 154,
   "id": "4b4af85a",
   "metadata": {},
   "outputs": [
    {
     "data": {
      "text/plain": [
       "training      405\n",
       "testing       335\n",
       "validation    296\n",
       "Name: subset, dtype: int64"
      ]
     },
     "execution_count": 154,
     "metadata": {},
     "output_type": "execute_result"
    }
   ],
   "source": [
    "df[df[\"name\"] == \"SudanGedarefDarfurAlJazirah2022\"][\"subset\"].value_counts()"
   ]
  },
  {
   "cell_type": "code",
   "execution_count": 155,
   "id": "97841c2f",
   "metadata": {},
   "outputs": [
    {
     "data": {
      "text/plain": [
       "training      277\n",
       "testing       239\n",
       "validation    215\n",
       "Name: subset, dtype: int64"
      ]
     },
     "execution_count": 155,
     "metadata": {},
     "output_type": "execute_result"
    }
   ],
   "source": [
    "# Fewer points because many failed on GEE\n",
    "df[df[\"name\"] == \"SudanGedarefDarfurAlJazirah2023\"][\"subset\"].value_counts()"
   ]
  },
  {
   "cell_type": "code",
   "execution_count": 156,
   "id": "d3ca6878",
   "metadata": {},
   "outputs": [],
   "source": [
    "is_test_2022 = (df[\"name\"] == \"SudanGedarefDarfurAlJazirah2022\") & (df[\"subset\"] != \"training\")\n",
    "is_test_2023 = (df[\"name\"] == \"SudanGedarefDarfurAlJazirah2023\") & (df[\"subset\"] != \"training\")"
   ]
  },
  {
   "cell_type": "code",
   "execution_count": 157,
   "id": "abfc92b7",
   "metadata": {},
   "outputs": [],
   "source": [
    "bbox_name = \"Sudan_South\"\n",
    "\n",
    "is_local_lat = (df.lat >= bboxes[bbox_name].min_lat) & (df.lat <= bboxes[bbox_name].max_lat)\n",
    "is_local_lon = (df.lon >= bboxes[bbox_name].min_lon) & (df.lon <= bboxes[bbox_name].max_lon)"
   ]
  },
  {
   "cell_type": "code",
   "execution_count": 158,
   "id": "0ec388b6",
   "metadata": {},
   "outputs": [],
   "source": [
    "df[\"months\"] = df[\"eo_data\"].apply(lambda x: x.shape[0])"
   ]
  },
  {
   "cell_type": "code",
   "execution_count": 159,
   "id": "0dce63c4",
   "metadata": {},
   "outputs": [
    {
     "data": {
      "text/plain": [
       "19    1036\n",
       "Name: months, dtype: int64"
      ]
     },
     "execution_count": 159,
     "metadata": {},
     "output_type": "execute_result"
    }
   ],
   "source": [
    "df[df[\"name\"] == \"SudanGedarefDarfurAlJazirah2022\"][\"months\"].value_counts()"
   ]
  },
  {
   "cell_type": "code",
   "execution_count": 160,
   "id": "1301fe6c",
   "metadata": {},
   "outputs": [
    {
     "data": {
      "text/plain": [
       "10    731\n",
       "Name: months, dtype: int64"
      ]
     },
     "execution_count": 160,
     "metadata": {},
     "output_type": "execute_result"
    }
   ],
   "source": [
    "df[df[\"name\"] == \"SudanGedarefDarfurAlJazirah2023\"][\"months\"].value_counts()"
   ]
  },
  {
   "cell_type": "code",
   "execution_count": 161,
   "id": "828b10d3",
   "metadata": {},
   "outputs": [],
   "source": [
    "# Have to exclude both test sets from either training sets with Presto\n",
    "# because Presto uses lat lons as input, so bias would be introduced\n",
    "df_train_2022 = df[is_local_lat & is_local_lon & ~is_test_2022 & ~is_test_2022 & (df[\"months\"] > 18)]\n",
    "df_train_2023 = df[is_local_lat & is_local_lon & ~is_test_2023 & ~is_test_2023]\n",
    "df_test_2022 = df[is_test_2022].copy() # Will add predictions to this\n",
    "df_test_2023 = df[is_test_2023].copy() # Will add predictions to this"
   ]
  },
  {
   "cell_type": "code",
   "execution_count": 162,
   "id": "9bcaf0bf",
   "metadata": {},
   "outputs": [
    {
     "data": {
      "text/plain": [
       "(7410, 631)"
      ]
     },
     "execution_count": 162,
     "metadata": {},
     "output_type": "execute_result"
    }
   ],
   "source": [
    "len(df_train_2022), len(df_test_2022)"
   ]
  },
  {
   "cell_type": "code",
   "execution_count": 163,
   "id": "ffbadf19",
   "metadata": {},
   "outputs": [
    {
     "data": {
      "text/plain": [
       "(8318, 454)"
      ]
     },
     "execution_count": 163,
     "metadata": {},
     "output_type": "execute_result"
    }
   ],
   "source": [
    "len(df_train_2023), len(df_test_2023)"
   ]
  },
  {
   "cell_type": "markdown",
   "id": "3cbd44ea",
   "metadata": {},
   "source": [
    "## 3. Convert to Presto Tensor Datasets "
   ]
  },
  {
   "cell_type": "code",
   "execution_count": 164,
   "id": "8bd28045",
   "metadata": {},
   "outputs": [],
   "source": [
    "import numpy as np\n",
    "import torch\n",
    "from torch.utils.data import Dataset, DataLoader\n",
    "from openmapflow.bands import BANDS\n",
    "from src.single_file_presto_v2 import Presto, DEVICE, Aggregate"
   ]
  },
  {
   "cell_type": "code",
   "execution_count": 165,
   "id": "928e8484",
   "metadata": {},
   "outputs": [],
   "source": [
    "ADD_BY = np.zeros(18)\n",
    "ADD_BY[0:2] = [25.0, 25.0]     # Sentinel-1 VV, VH (range from -50 to 1)\n",
    "ADD_BY[13] = -272.15           # ERA5 Celcius\n",
    "\n",
    "DIVIDE_BY = np.ones(18)\n",
    "DIVIDE_BY[0:2] = [25.0, 25.0]   # Sentinel-1 VV, VH (range from -50 to 1)\n",
    "DIVIDE_BY[2:13] = [10000.0] * 11 # Sentinel-2 high band values\n",
    "DIVIDE_BY[13] = 35.0            # ERA5 high celcius value\n",
    "DIVIDE_BY[14] = 0.03            # ERA5 high precipitation value\n",
    "DIVIDE_BY[15] = 2000.0          # SRTM elevation high value\n",
    "DIVIDE_BY[16] = 50.0            # Slope high value\n",
    "\n",
    "def normalize(x):\n",
    "    keep_indices = [idx for idx, val in enumerate(BANDS) if val != \"B9\"] # remove the b9 band\n",
    "    normalized = ((x + ADD_BY) / DIVIDE_BY).astype(np.float32)\n",
    "    return normalized[:, keep_indices]"
   ]
  },
  {
   "cell_type": "code",
   "execution_count": 166,
   "id": "d23e9b7f",
   "metadata": {},
   "outputs": [],
   "source": [
    "class PrestoDataset(Dataset):\n",
    "    def __init__(self, arg_df, start_month=1, months=12):\n",
    "        xs_list = [normalize(x[start_month:start_month+months]) for x in arg_df[\"eo_data\"].to_list()]\n",
    "        self.xs_tensors = [torch.from_numpy(x).to(DEVICE).float() for x in xs_list]\n",
    "\n",
    "        self.latlons = [np.stack([lat, lon], axis=-1) for lat, lon in zip(arg_df[\"eo_lat\"].to_list(), arg_df[\"eo_lon\"].to_list())]\n",
    "        self.latlons_tensors = [torch.from_numpy(latlon).to(DEVICE).float() for latlon in self.latlons]\n",
    "        \n",
    "        self.is_crop_tensors = [torch.tensor(is_crop, dtype=torch.float32) for is_crop in arg_df[\"is_crop\"].astype(int).to_list()]\n",
    "        self.start_month = start_month\n",
    "        self.dw_mask = (torch.ones(months) * 9).long()\n",
    "        \n",
    "    def __len__(self):\n",
    "        return len(self.xs_tensors)\n",
    "    \n",
    "    def __getitem__(self, idx):\n",
    "        x = self.xs_tensors[idx]\n",
    "        latlons = self.latlons_tensors[idx]\n",
    "        is_crop = self.is_crop_tensors[idx]\n",
    "        return x, latlons, self.dw_mask, self.start_month, is_crop"
   ]
  },
  {
   "cell_type": "code",
   "execution_count": 167,
   "id": "bead5ee8",
   "metadata": {},
   "outputs": [],
   "source": [
    "train_dataset_2022 = PrestoDataset(df_train_2022, start_month=1)\n",
    "test_dataset_2022 = PrestoDataset(df_test_2022, start_month=1) \n",
    "train_dataset_2023 = PrestoDataset(df_train_2023, start_month=0, months=10)\n",
    "test_dataset_2023 = PrestoDataset(df_test_2023, start_month=0, months=10)"
   ]
  },
  {
   "cell_type": "markdown",
   "id": "bc45a14e",
   "metadata": {},
   "source": [
    "## 4. Generate encodings using Presto"
   ]
  },
  {
   "cell_type": "code",
   "execution_count": 171,
   "id": "79711247",
   "metadata": {},
   "outputs": [],
   "source": [
    "encoder_decoder = Presto.load_pretrained(\"../../data/presto/default_model_v2.pt\")\n",
    "pretrained_model = encoder_decoder.encoder.eval()"
   ]
  },
  {
   "cell_type": "code",
   "execution_count": 172,
   "id": "a3a591f7",
   "metadata": {},
   "outputs": [],
   "source": [
    "def generate_encodings(dataset, aggregate=Aggregate.MEAN):\n",
    "    dataloader = DataLoader(dataset=dataset, batch_size=64, shuffle=False)\n",
    "    feature_list = []\n",
    "    for (x, latlons, dw, start_month, _) in tqdm(dataloader, desc=\"Encodings\", leave=False):\n",
    "        with torch.no_grad():\n",
    "            encodings = (pretrained_model(\n",
    "                x, dynamic_world=dw, latlons=latlons, month=start_month, aggregate=aggregate\n",
    "            )).cpu().numpy()\n",
    "            feature_list.append(encodings)\n",
    "    return np.concatenate(feature_list)"
   ]
  },
  {
   "cell_type": "code",
   "execution_count": 173,
   "id": "ffcede20",
   "metadata": {},
   "outputs": [
    {
     "data": {
      "application/vnd.jupyter.widget-view+json": {
       "model_id": "",
       "version_major": 2,
       "version_minor": 0
      },
      "text/plain": [
       "Encodings:   0%|          | 0/116 [00:00<?, ?it/s]"
      ]
     },
     "metadata": {},
     "output_type": "display_data"
    },
    {
     "data": {
      "application/vnd.jupyter.widget-view+json": {
       "model_id": "",
       "version_major": 2,
       "version_minor": 0
      },
      "text/plain": [
       "Encodings:   0%|          | 0/10 [00:00<?, ?it/s]"
      ]
     },
     "metadata": {},
     "output_type": "display_data"
    }
   ],
   "source": [
    "X_train_2022 = generate_encodings(train_dataset_2022)\n",
    "X_test_2022 = generate_encodings(test_dataset_2022)\n",
    "y_train_2022 = df_train_2022[\"is_crop\"].to_list() \n",
    "y_test_2022 = df_test_2022[\"is_crop\"].to_list()"
   ]
  },
  {
   "cell_type": "code",
   "execution_count": 174,
   "id": "7af691b7",
   "metadata": {},
   "outputs": [
    {
     "data": {
      "application/vnd.jupyter.widget-view+json": {
       "model_id": "",
       "version_major": 2,
       "version_minor": 0
      },
      "text/plain": [
       "Encodings:   0%|          | 0/130 [00:00<?, ?it/s]"
      ]
     },
     "metadata": {},
     "output_type": "display_data"
    },
    {
     "data": {
      "application/vnd.jupyter.widget-view+json": {
       "model_id": "",
       "version_major": 2,
       "version_minor": 0
      },
      "text/plain": [
       "Encodings:   0%|          | 0/8 [00:00<?, ?it/s]"
      ]
     },
     "metadata": {},
     "output_type": "display_data"
    }
   ],
   "source": [
    "X_train_2023 = generate_encodings(train_dataset_2023)\n",
    "X_test_2023 = generate_encodings(test_dataset_2023)\n",
    "y_train_2023 = df_train_2023[\"is_crop\"].to_list() \n",
    "y_test_2023 = df_test_2023[\"is_crop\"].to_list()"
   ]
  },
  {
   "cell_type": "markdown",
   "id": "3abc9851",
   "metadata": {},
   "source": [
    "## 5. Train Logistic Regression on Encodings"
   ]
  },
  {
   "cell_type": "code",
   "execution_count": 175,
   "id": "5c4e5442",
   "metadata": {},
   "outputs": [],
   "source": [
    "from sklearn.linear_model import LogisticRegression"
   ]
  },
  {
   "cell_type": "code",
   "execution_count": 176,
   "id": "6b4c9e3e",
   "metadata": {},
   "outputs": [],
   "source": [
    "DEFAULT_SEED = 42"
   ]
  },
  {
   "cell_type": "code",
   "execution_count": 177,
   "id": "122d2ff3",
   "metadata": {},
   "outputs": [],
   "source": [
    "model = LogisticRegression(class_weight=\"balanced\", max_iter=1000, random_state=DEFAULT_SEED)\n",
    "model.fit(X_train_2022, y_train_2022)\n",
    "y_pred_proba = model.predict_proba(X_test_2022)[:, 1]\n",
    "df_test_2022[\"preds\"] = (y_pred_proba > 0.5).astype(int)"
   ]
  },
  {
   "cell_type": "code",
   "execution_count": 178,
   "id": "e88c0c59",
   "metadata": {},
   "outputs": [],
   "source": [
    "model = LogisticRegression(class_weight=\"balanced\", max_iter=1000, random_state=DEFAULT_SEED)\n",
    "model.fit(X_train_2023, y_train_2023)\n",
    "y_pred_proba = model.predict_proba(X_test_2023)[:, 1]\n",
    "df_test_2023[\"preds\"] = (y_pred_proba > 0.5).astype(int)"
   ]
  },
  {
   "cell_type": "markdown",
   "id": "87f670e4",
   "metadata": {},
   "source": [
    "## 6. Isolate Darfur Predictions"
   ]
  },
  {
   "cell_type": "code",
   "execution_count": 179,
   "id": "8f3ade5e",
   "metadata": {},
   "outputs": [],
   "source": [
    "# Isolate Darfur points\n",
    "import ee\n",
    "import geemap"
   ]
  },
  {
   "cell_type": "code",
   "execution_count": 180,
   "id": "c9e5356b",
   "metadata": {},
   "outputs": [],
   "source": [
    "ee.Initialize()"
   ]
  },
  {
   "cell_type": "code",
   "execution_count": 181,
   "id": "bfdc9825",
   "metadata": {},
   "outputs": [],
   "source": [
    "# Load ROIs from Google Earth Engine\n",
    "roi_fc = ee.FeatureCollection(\"projects/ee-gmuhawenayo/assets/rois\")\n",
    "Central_Darfur_roi = roi_fc.filter(\"NAME_1 == 'Central Darfur'\")\n",
    "West_Darfur_roi = roi_fc.filter(\"NAME_1 == 'West Darfur'\")\n",
    "South_Darfur_roi = roi_fc.filter(\"NAME_1 == 'South Darfur'\")"
   ]
  },
  {
   "cell_type": "code",
   "execution_count": 182,
   "id": "ae7645fb",
   "metadata": {},
   "outputs": [],
   "source": [
    "# Convert reference sample sets to feature collections\n",
    "def ee_feature_from_row(row):\n",
    "    return ee.Feature(ee.Geometry.Point(row.lon, row.lat), {\"is_crop\": row.is_crop, \"preds\": row.preds})\n",
    "\n",
    "ee_fc_2022 = ee.FeatureCollection(df_test_2022.apply(ee_feature_from_row, axis=1).to_list())\n",
    "ee_fc_2023 = ee.FeatureCollection(df_test_2023.apply(ee_feature_from_row, axis=1).to_list())"
   ]
  },
  {
   "cell_type": "code",
   "execution_count": 183,
   "id": "e677d42f",
   "metadata": {},
   "outputs": [],
   "source": [
    "df_2022_Central_Darfur = geemap.ee_to_gdf(ee_fc_2022.filterBounds(Central_Darfur_roi))\n",
    "df_2022_West_Darfur = geemap.ee_to_gdf(ee_fc_2022.filterBounds(West_Darfur_roi))\n",
    "df_2022_South_Darfur = geemap.ee_to_gdf(ee_fc_2022.filterBounds(South_Darfur_roi))\n",
    "\n",
    "df_2023_Central_Darfur = geemap.ee_to_gdf(ee_fc_2023.filterBounds(Central_Darfur_roi))\n",
    "df_2023_West_Darfur = geemap.ee_to_gdf(ee_fc_2023.filterBounds(West_Darfur_roi))\n",
    "df_2023_South_Darfur = geemap.ee_to_gdf(ee_fc_2023.filterBounds(South_Darfur_roi))"
   ]
  },
  {
   "cell_type": "code",
   "execution_count": 184,
   "id": "811a7d3f",
   "metadata": {},
   "outputs": [
    {
     "data": {
      "text/plain": [
       "103"
      ]
     },
     "execution_count": 184,
     "metadata": {},
     "output_type": "execute_result"
    }
   ],
   "source": [
    "len(df_2022_Central_Darfur)"
   ]
  },
  {
   "cell_type": "code",
   "execution_count": 185,
   "id": "de513a13",
   "metadata": {},
   "outputs": [
    {
     "data": {
      "text/plain": [
       "61"
      ]
     },
     "execution_count": 185,
     "metadata": {},
     "output_type": "execute_result"
    }
   ],
   "source": [
    "len(df_2022_West_Darfur)"
   ]
  },
  {
   "cell_type": "code",
   "execution_count": 186,
   "id": "13b44fc3",
   "metadata": {},
   "outputs": [
    {
     "data": {
      "text/plain": [
       "163"
      ]
     },
     "execution_count": 186,
     "metadata": {},
     "output_type": "execute_result"
    }
   ],
   "source": [
    "len(df_2022_South_Darfur)"
   ]
  },
  {
   "cell_type": "markdown",
   "id": "a60e860d",
   "metadata": {},
   "source": [
    "## 7. Darfur Metrics"
   ]
  },
  {
   "cell_type": "code",
   "execution_count": 187,
   "id": "acd21744",
   "metadata": {},
   "outputs": [],
   "source": [
    "from sklearn.metrics import (\n",
    "    f1_score, accuracy_score, precision_score, recall_score, confusion_matrix, ConfusionMatrixDisplay\n",
    ")\n",
    "import matplotlib.pyplot as plt"
   ]
  },
  {
   "cell_type": "code",
   "execution_count": 188,
   "id": "ec81f867",
   "metadata": {},
   "outputs": [],
   "source": [
    "def metrics(region_name, region_df):\n",
    "    y_test, y_pred = region_df[\"is_crop\"], region_df[\"preds\"]\n",
    "    cm = confusion_matrix(y_test, y_pred)\n",
    "    disp = ConfusionMatrixDisplay(confusion_matrix=cm, display_labels=[\"Non-crop\", \"Crop\"])\n",
    "    fig, ax = plt.subplots(figsize=(2, 2))\n",
    "    disp.plot(ax=ax)\n",
    "    print(\"-\"* 50)\n",
    "    print(f\"REGION: {region_name}\")\n",
    "    print(\"-\"* 50)\n",
    "    print(f\"Users: {precision_score(y_test, y_pred):.3} \\tOverall: {accuracy_score(y_test, y_pred):.3}\")\n",
    "    print(f\"Producers: {recall_score(y_test, y_pred):.3} \\tF1: {f1_score(y_test, y_pred):.3}\")"
   ]
  },
  {
   "cell_type": "markdown",
   "id": "93686073",
   "metadata": {},
   "source": [
    "### Darfur 2022"
   ]
  },
  {
   "cell_type": "code",
   "execution_count": 189,
   "id": "e2cd6126",
   "metadata": {},
   "outputs": [
    {
     "name": "stdout",
     "output_type": "stream",
     "text": [
      "--------------------------------------------------\n",
      "REGION: Darfur 2022\n",
      "--------------------------------------------------\n",
      "Users: 0.311 \tOverall: 0.844\n",
      "Producers: 0.412 \tF1: 0.354\n"
     ]
    },
    {
     "data": {
      "image/png": "[encoded data removed]",
      "text/plain": [
       "<Figure size 200x200 with 2 Axes>"
      ]
     },
     "metadata": {},
     "output_type": "display_data"
    }
   ],
   "source": [
    "metrics(\"Darfur 2022\", pd.concat([df_2022_Central_Darfur, df_2022_West_Darfur, df_2022_South_Darfur]))"
   ]
  },
  {
   "cell_type": "code",
   "execution_count": 190,
   "id": "183dfd9c",
   "metadata": {},
   "outputs": [
    {
     "name": "stdout",
     "output_type": "stream",
     "text": [
      "--------------------------------------------------\n",
      "REGION: Central Darfur 2022\n",
      "--------------------------------------------------\n",
      "Users: 0.188 \tOverall: 0.748\n",
      "Producers: 0.188 \tF1: 0.188\n"
     ]
    },
    {
     "data": {
      "image/png": "[encoded data removed]",
      "text/plain": [
       "<Figure size 200x200 with 2 Axes>"
      ]
     },
     "metadata": {},
     "output_type": "display_data"
    }
   ],
   "source": [
    "metrics(\"Central Darfur 2022\", df_2022_Central_Darfur)"
   ]
  },
  {
   "cell_type": "code",
   "execution_count": 191,
   "id": "d03d0bdb",
   "metadata": {},
   "outputs": [
    {
     "name": "stdout",
     "output_type": "stream",
     "text": [
      "--------------------------------------------------\n",
      "REGION: West Darfur 2022\n",
      "--------------------------------------------------\n",
      "Users: 0.375 \tOverall: 0.918\n",
      "Producers: 1.0 \tF1: 0.545\n"
     ]
    },
    {
     "data": {
      "image/png": "[encoded data removed]",
      "text/plain": [
       "<Figure size 200x200 with 2 Axes>"
      ]
     },
     "metadata": {},
     "output_type": "display_data"
    }
   ],
   "source": [
    "metrics(\"West Darfur 2022\", df_2022_West_Darfur)"
   ]
  },
  {
   "cell_type": "code",
   "execution_count": 192,
   "id": "eec5c727",
   "metadata": {},
   "outputs": [
    {
     "name": "stdout",
     "output_type": "stream",
     "text": [
      "--------------------------------------------------\n",
      "REGION: South Darfur 2022\n",
      "--------------------------------------------------\n",
      "Users: 0.381 \tOverall: 0.877\n",
      "Producers: 0.533 \tF1: 0.444\n"
     ]
    },
    {
     "data": {
      "image/png": "[encoded data removed]",
      "text/plain": [
       "<Figure size 200x200 with 2 Axes>"
      ]
     },
     "metadata": {},
     "output_type": "display_data"
    }
   ],
   "source": [
    "metrics(\"South Darfur 2022\", df_2022_South_Darfur)"
   ]
  },
  {
   "cell_type": "markdown",
   "id": "0052d707",
   "metadata": {},
   "source": [
    "### Darfur 2023"
   ]
  },
  {
   "cell_type": "code",
   "execution_count": 193,
   "id": "103731e4",
   "metadata": {},
   "outputs": [
    {
     "name": "stdout",
     "output_type": "stream",
     "text": [
      "--------------------------------------------------\n",
      "REGION: Darfur 2023\n",
      "--------------------------------------------------\n",
      "Users: 0.353 \tOverall: 0.909\n",
      "Producers: 0.261 \tF1: 0.3\n"
     ]
    },
    {
     "data": {
      "image/png": "[encoded data removed]",
      "text/plain": [
       "<Figure size 200x200 with 2 Axes>"
      ]
     },
     "metadata": {},
     "output_type": "display_data"
    }
   ],
   "source": [
    "metrics(\"Darfur 2023\", pd.concat([df_2023_Central_Darfur, df_2023_West_Darfur, df_2023_South_Darfur]))"
   ]
  },
  {
   "cell_type": "code",
   "execution_count": 194,
   "id": "f9e08ecf",
   "metadata": {},
   "outputs": [
    {
     "name": "stdout",
     "output_type": "stream",
     "text": [
      "--------------------------------------------------\n",
      "REGION: Central Darfur 2023\n",
      "--------------------------------------------------\n",
      "Users: 0.0 \tOverall: 0.854\n",
      "Producers: 0.0 \tF1: 0.0\n"
     ]
    },
    {
     "data": {
      "image/png": "[encoded data removed]",
      "text/plain": [
       "<Figure size 200x200 with 2 Axes>"
      ]
     },
     "metadata": {},
     "output_type": "display_data"
    }
   ],
   "source": [
    "metrics(\"Central Darfur 2023\", df_2023_Central_Darfur)"
   ]
  },
  {
   "cell_type": "code",
   "execution_count": 195,
   "id": "eee0d35d",
   "metadata": {},
   "outputs": [
    {
     "name": "stdout",
     "output_type": "stream",
     "text": [
      "--------------------------------------------------\n",
      "REGION: West Darfur 2023\n",
      "--------------------------------------------------\n",
      "Users: 1.0 \tOverall: 0.966\n",
      "Producers: 0.333 \tF1: 0.5\n"
     ]
    },
    {
     "data": {
      "image/png": "[encoded data removed]",
      "text/plain": [
       "<Figure size 200x200 with 2 Axes>"
      ]
     },
     "metadata": {},
     "output_type": "display_data"
    }
   ],
   "source": [
    "metrics(\"West Darfur 2023\", df_2023_West_Darfur)"
   ]
  },
  {
   "cell_type": "code",
   "execution_count": 196,
   "id": "3749ac35",
   "metadata": {},
   "outputs": [
    {
     "name": "stdout",
     "output_type": "stream",
     "text": [
      "--------------------------------------------------\n",
      "REGION: South Darfur 2023\n",
      "--------------------------------------------------\n",
      "Users: 0.5 \tOverall: 0.925\n",
      "Producers: 0.455 \tF1: 0.476\n"
     ]
    },
    {
     "data": {
      "image/png": "[encoded data removed]",
      "text/plain": [
       "<Figure size 200x200 with 2 Axes>"
      ]
     },
     "metadata": {},
     "output_type": "display_data"
    }
   ],
   "source": [
    "metrics(\"South Darfur 2023\", df_2023_South_Darfur)"
   ]
  },
  {
   "cell_type": "code",
   "execution_count": null,
   "id": "535267d9",
   "metadata": {},
   "outputs": [],
   "source": []
  }
 ],
 "metadata": {
  "kernelspec": {
   "display_name": "Python 3 (ipykernel)",
   "language": "python",
   "name": "python3"
  },
  "language_info": {
   "codemirror_mode": {
    "name": "ipython",
    "version": 3
   },
   "file_extension": ".py",
   "mimetype": "text/x-python",
   "name": "python",
   "nbconvert_exporter": "python",
   "pygments_lexer": "ipython3",
   "version": "3.9.16"
  }
 },
 "nbformat": 4,
 "nbformat_minor": 5
}
