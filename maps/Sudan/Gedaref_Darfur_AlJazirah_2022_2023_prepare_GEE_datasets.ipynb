{
 "cells": [
  {
   "cell_type": "markdown",
   "id": "7546e27e",
   "metadata": {},
   "source": [
    "# Prepare Google Earth Engine Dataset\n",
    "\n",
    "Author: Ivan Zvonkov\n",
    "\n",
    "Last modified: Feb 15, 2024\n",
    "\n",
    "Description: Takes processed csv files from data/datasets and converts to simple csv to be uploaded as a GEE table asset.\n",
    "\n"
   ]
  },
  {
   "cell_type": "code",
   "execution_count": 1,
   "id": "6fd5d373",
   "metadata": {},
   "outputs": [],
   "source": [
    "import pandas as pd\n",
    "from pathlib import Path"
   ]
  },
  {
   "cell_type": "code",
   "execution_count": 22,
   "id": "e33bb6b8",
   "metadata": {},
   "outputs": [],
   "source": [
    "df_2022 = pd.read_csv(\"../../data/datasets/SudanGedarefDarfurAlJazirah2022.csv\")\n",
    "df_2023 = pd.read_csv(\"../../data/datasets/SudanGedarefDarfurAlJazirah2023.csv\")"
   ]
  },
  {
   "cell_type": "code",
   "execution_count": 23,
   "id": "220c76a1",
   "metadata": {},
   "outputs": [],
   "source": [
    "renames = {\"class_probability\": \"label\", \"lat\": \"latitude\", \"lon\": \"longitude\"}\n",
    "df_2022 = df_2022.rename(columns=renames)\n",
    "df_2023 = df_2023.rename(columns=renames)"
   ]
  },
  {
   "cell_type": "code",
   "execution_count": null,
   "id": "e4a9cb35",
   "metadata": {},
   "outputs": [],
   "source": []
  },
  {
   "cell_type": "code",
   "execution_count": 25,
   "id": "5dea5378",
   "metadata": {},
   "outputs": [],
   "source": [
    "clean_df_2022 = df_2022[(df_2022[\"label\"] != 0.5) & (df_2022[\"num_labelers\"] > 1)]\n",
    "clean_df_2023 = df_2023[(df_2023[\"label\"] != 0.5) & (df_2023[\"num_labelers\"] > 1)]"
   ]
  },
  {
   "cell_type": "code",
   "execution_count": 26,
   "id": "0de67824",
   "metadata": {},
   "outputs": [],
   "source": [
    "keep_columns = [\"latitude\", \"longitude\", \"subset\", \"label\"]\n",
    "clean_df_2022[keep_columns].to_csv(\"GedarefDarfurAlJazirah2022_gee.csv\", index=False)\n",
    "clean_df_2023[keep_columns].to_csv(\"GedarefDarfurAlJazirah2023_gee.csv\", index=False)"
   ]
  },
  {
   "cell_type": "markdown",
   "id": "f65b2468",
   "metadata": {},
   "source": [
    "Once the csv files are saved, they are manually uploaded to GEE. The API is not used as it requires additional upload to Google Cloud."
   ]
  },
  {
   "cell_type": "code",
   "execution_count": null,
   "id": "028eba0b",
   "metadata": {},
   "outputs": [],
   "source": []
  }
 ],
 "metadata": {
  "kernelspec": {
   "display_name": "Python 3 (ipykernel)",
   "language": "python",
   "name": "python3"
  },
  "language_info": {
   "codemirror_mode": {
    "name": "ipython",
    "version": 3
   },
   "file_extension": ".py",
   "mimetype": "text/x-python",
   "name": "python",
   "nbconvert_exporter": "python",
   "pygments_lexer": "ipython3",
   "version": "3.9.16"
  }
 },
 "nbformat": 4,
 "nbformat_minor": 5
}
