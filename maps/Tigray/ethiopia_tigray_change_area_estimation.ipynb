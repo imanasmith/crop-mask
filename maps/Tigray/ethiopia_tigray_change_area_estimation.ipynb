{
 "cells": [
  {
   "cell_type": "code",
   "execution_count": null,
   "metadata": {},
   "outputs": [],
   "source": [
    "import os, sys\n",
    "import numpy as np\n",
    "import pandas as pd\n",
    "import geopandas as gpd\n",
    "import rasterio as rio\n",
    "import seaborn as sns\n",
    "import matplotlib.pyplot as plt\n",
    "import rasterio.plot\n",
    "from rasterio.transform import rowcol\n",
    "from sklearn.metrics import confusion_matrix\n",
    "from typing import Optional, List, Callable"
   ]
  },
  {
   "cell_type": "code",
   "execution_count": null,
   "metadata": {},
   "outputs": [],
   "source": [
    "module_path = os.path.abspath(os.path.join('..'))\n",
    "if module_path not in sys.path:\n",
    "    sys.path.append(module_path)\n",
    "\n",
    "from src.area_utils import (\n",
    "    binarize,\n",
    "    load_raster,\n",
    "    compute_area_estimate,\n",
    "    create_area_estimate_summary,\n",
    "    compute_area_error_matrix,\n",
    "    create_confusion_matrix_summary,\n",
    ")"
   ]
  },
  {
   "cell_type": "code",
   "execution_count": null,
   "metadata": {},
   "outputs": [],
   "source": [
    "country_iso_code = 'ETH' # Can be found https://www.iso.org/obp/ui/#search under the Alpha-3 code column\n",
    "adm1_of_interest = ['Tigray']\n",
    "\n",
    "gadm2_path = f'https://geodata.ucdavis.edu/gadm/gadm4.1/json/gadm41_{country_iso_code}_2.json.zip'\n",
    "roi = gpd.read_file(gadm2_path)\n",
    "roi = roi.query('NAME_1 in @adm1_of_interest')\n",
    "roi.head()"
   ]
  },
  {
   "cell_type": "code",
   "execution_count": null,
   "metadata": {},
   "outputs": [],
   "source": [
    "# Optionally restrict ROI to an admin2 boundary\n",
    "adm2_of_interest = [\"\"]\n",
    "roi = roi.query('NAME_2 in @adm2_of_interest')"
   ]
  },
  {
   "cell_type": "code",
   "execution_count": null,
   "metadata": {},
   "outputs": [],
   "source": [
    "# Merge selected region(s) into a single polygon\n",
    "roi = roi.dissolve()"
   ]
  },
  {
   "cell_type": "code",
   "execution_count": null,
   "metadata": {},
   "outputs": [],
   "source": [
    "# Optionally define a shapefile to use instead\n",
    "shape_fn = \"\"\n",
    "roi = gpd.read_file(shape_fn)"
   ]
  },
  {
   "cell_type": "code",
   "execution_count": null,
   "metadata": {},
   "outputs": [],
   "source": [
    "roi.plot()"
   ]
  },
  {
   "cell_type": "code",
   "execution_count": null,
   "metadata": {},
   "outputs": [],
   "source": [
    "fn = lambda y : f\"Ethiopia_Tigray_{y}_threshold-3-5.tif\""
   ]
  },
  {
   "cell_type": "code",
   "execution_count": null,
   "metadata": {
    "scrolled": true
   },
   "outputs": [],
   "source": [
    "cropmap_y1, y1_meta = load_raster(fn(2020), roi)\n",
    "cropmap_y2, y2_meta = load_raster(fn(2021), roi)"
   ]
  },
  {
   "cell_type": "code",
   "execution_count": null,
   "metadata": {},
   "outputs": [],
   "source": [
    "cropmask_y1 = binarize(cropmap_y1, y1_meta)\n",
    "cropmask_y2 = binarize(cropmap_y2, y2_meta)"
   ]
  },
  {
   "cell_type": "code",
   "execution_count": null,
   "metadata": {},
   "outputs": [],
   "source": [
    "# Plot each crop-mask \n",
    "fig, axes = plt.subplots(nrows = 1, ncols = 2, figsize = (18, 9))\n",
    "axes[0].imshow(cropmask_y1, cmap = 'YlGn', vmin = 0, vmax = 1)\n",
    "axes[1].imshow(cropmask_y2, cmap = 'YlGn', vmin = 0, vmax = 1)\n",
    "axes[0].set_title(\"2020\", fontsize = 16, fontweight = \"semibold\")\n",
    "axes[1].set_title(\"2021\", fontsize = 16, fontweight = \"semibold\")\n",
    "for ax in axes:\n",
    "    ax.set_axis_off()\n",
    "plt.tight_layout()"
   ]
  },
  {
   "cell_type": "code",
   "execution_count": null,
   "metadata": {},
   "outputs": [],
   "source": [
    "# Calculate change map\n",
    "change_map = cropmask_y1 * 2 + cropmask_y2\n",
    "change_meta = y1_meta.copy()"
   ]
  },
  {
   "cell_type": "code",
   "execution_count": null,
   "metadata": {},
   "outputs": [],
   "source": [
    "# Alternatively, load change map in from file\n",
    "\n",
    "change_map_fn = \"tigray-change-threshold-3-5.tif\"\n",
    "change_map, change_meta = load_raster(change_map_fn)"
   ]
  },
  {
   "cell_type": "code",
   "execution_count": null,
   "metadata": {},
   "outputs": [],
   "source": [
    "# Check that the unique values are 0, 1, 2, 3, 255/nodata\n",
    "np.unique(change_map.flatten())"
   ]
  },
  {
   "cell_type": "code",
   "execution_count": null,
   "metadata": {},
   "outputs": [],
   "source": [
    "# Visualize the change map\n",
    "# -> Green (0) : Stable NP\n",
    "# -> Gray (3) : Stable P\n",
    "plt.imshow(change_map, cmap='Accent')\n",
    "plt.axis(\"off\")\n",
    "plt.title(\"Change Map\", fontsize = 16, fontweight = \"semibold\")\n",
    "plt.tight_layout()"
   ]
  },
  {
   "cell_type": "code",
   "execution_count": null,
   "metadata": {},
   "outputs": [],
   "source": [
    "# Save change-map\n",
    "\n",
    "with rio.open(\"tigray-change-threshold-3-5.tif\", \"w\", **change_meta) as dst:\n",
    "    dst.write(np.expand_dims(change_map, 0))"
   ]
  },
  {
   "cell_type": "code",
   "execution_count": null,
   "metadata": {},
   "outputs": [],
   "source": [
    "pixel_size = change_meta[\"transform\"][0]\n",
    "print(\"Pixel Size - {:.2f} meters\".format(pixel_size))"
   ]
  },
  {
   "cell_type": "code",
   "execution_count": null,
   "metadata": {},
   "outputs": [],
   "source": [
    "stable_np_px = np.where(change_map.data.flatten() == 0)[0].shape[0]\n",
    "p_gain_px = np.where(change_map.data.flatten() == 1)[0].shape[0]\n",
    "p_loss_px = np.where(change_map.data.flatten() == 2)[0].shape[0]\n",
    "stable_p_px = np.where(change_map.data.flatten() == 3)[0].shape[0]\n",
    "total_px = np.where(change_map.data.flatten() != change_map.fill_value)[0].shape[0] # Do not count masked values"
   ]
  },
  {
   "cell_type": "code",
   "execution_count": null,
   "metadata": {},
   "outputs": [],
   "source": [
    "# Load in labeled reference samples\n",
    "ref_sample_path = '../data/shapefiles/change_2020-2021_strat_ref_samples_labeled.zip'\n",
    "gdf = gpd.read_file(ref_sample_path).set_crs(\"EPSG:4326\")\n",
    "gdf = gdf.to_crs(change_meta[\"crs\"])\n",
    "gdf.head()"
   ]
  },
  {
   "cell_type": "code",
   "execution_count": null,
   "metadata": {},
   "outputs": [],
   "source": [
    "# Load additional reference samples\n",
    "set1 = pd.read_csv('../data/shapefiles/ceo-Tigray-2020-2021-Feb-to-Dec---Additional-change-reference-samples-(set-1)-sample-data-2023-11-16.csv')\n",
    "set2 = pd.read_csv('../data/shapefiles/ceo-Tigray-2020-2021-Feb-to-Dec---Additional-change-reference-samples-(set-2)-sample-data-2023-11-16.csv')\n",
    "\n",
    "# make sure they agree\n",
    "print(np.all(set1.columns[-2] == set1.columns[-2]))\n",
    "print(np.all(set1.columns[-1] == set1.columns[-1]))\n",
    "\n",
    "# convert to gdf\n",
    "newpts = gpd.GeoDataFrame(set1, geometry=gpd.points_from_xy(x=set1.lon, y=set1.lat))\n",
    "newpts.crs = 'EPSG:4326'\n",
    "newpts = newpts.to_crs('EPSG:32637')\n",
    "\n",
    "# add change class column\n",
    "for idx, row in newpts.iterrows():\n",
    "    if row['Do you see *active* cropland at this point in 2020? '] == 'Crop':\n",
    "        if row['Do you see *active* cropland at this point in 2021? '] == 'Crop':\n",
    "            change_class = '3' # stable planted \n",
    "        else:\n",
    "            change_class = '2' # planted loss \n",
    "    else: # 2020 is noncrop\n",
    "        if row['Do you see *active* cropland at this point in 2021? '] == 'Crop':\n",
    "            change_class = '1' # planted gain \n",
    "        else:\n",
    "            change_class = '0' # stable not planted \n",
    "    newpts.loc[idx, 'Change class'] = change_class\n",
    "\n",
    "print(newpts.columns)\n",
    "newpts.head()\n",
    "newpts['Change class'].value_counts()\n",
    "\n",
    "newpts.columns = ['plotid', 'sampleid', 'lon', 'lat', 'email', 'flagged', 'collection',\n",
    "                    'analysis_d', 'imagery_ti', 'imagery_at', 'sample_geo', 'pl_samplei',\n",
    "                    'Was this a', 'Was this_1', 'geometry', 'Change cla']\n",
    "newgdf = pd.concat([gdf, newpts]).reset_index()\n",
    "newgdf"
   ]
  },
  {
   "cell_type": "code",
   "execution_count": null,
   "metadata": {},
   "outputs": [],
   "source": [
    "# Overlay labeled reference sample onto change map\n",
    "\n",
    "raster = rio.open(\"tigray-change-threshold-3-5.tif\")\n",
    "fig, ax = plt.subplots(nrows = 1, ncols = 1, figsize = (12, 8))\n",
    "rasterio.plot.show(raster, cmap = \"Accent\", ax = ax)\n",
    "newgdf.plot(ax = ax)\n",
    "ax.set_axis_off()\n",
    "plt.title(\"Reference Sample\", fontsize = 16, fontweight = \"semibold\")\n",
    "plt.tight_layout()"
   ]
  },
  {
   "cell_type": "code",
   "execution_count": null,
   "metadata": {},
   "outputs": [],
   "source": [
    "# Extract predictions from map for comparison with reference sample\n",
    "for r, row in newgdf.iterrows():\n",
    "    geometry = row[\"geometry\"]\n",
    "    x, y = geometry.x, geometry.y\n",
    "    try:\n",
    "        px, py = rowcol(change_meta[\"transform\"], x, y)\n",
    "        newgdf.loc[r, \"Mapped class\"] = change_map[px,py]\n",
    "    except IndexError:\n",
    "        newgdf.loc[r, \"Mapped class\"] = None"
   ]
  },
  {
   "cell_type": "code",
   "execution_count": null,
   "metadata": {},
   "outputs": [],
   "source": [
    "# How many out of bounds reference-sample points\n",
    "print(f\"Number of out of bound samples: {newgdf['Mapped class'].isna().sum()}\")"
   ]
  },
  {
   "cell_type": "code",
   "execution_count": null,
   "metadata": {},
   "outputs": [],
   "source": [
    "# Remove out of bound points\n",
    "newgdf = newgdf[~newgdf[\"Mapped class\"].isna()]\n",
    "newgdf[\"Mapped class\"] = newgdf[\"Mapped class\"].astype(np.uint8)"
   ]
  },
  {
   "cell_type": "code",
   "execution_count": null,
   "metadata": {},
   "outputs": [],
   "source": [
    "# Compute confusion matrix\n",
    "y_true = np.array(newgdf['Change cla']).astype(np.uint8)\n",
    "y_pred = np.array(newgdf['Mapped class']).astype(np.uint8)\n",
    "cm = confusion_matrix(y_true, y_pred) \n",
    "print(cm) # Colums - predictions, Rows - actual\n",
    "# Stable NP, PGain, PLoss, Stable P"
   ]
  },
  {
   "cell_type": "code",
   "execution_count": null,
   "metadata": {},
   "outputs": [],
   "source": [
    "def plot_confusion_matrix(cm, labels, datatype=\"d\") -> None:\n",
    "    \"\"\"Pretty prints confusion matrix.\n",
    "\n",
    "    Expects row 'Reference' and column 'Prediction/Map' ordered confusion matrix.\n",
    "\n",
    "    Args:\n",
    "        cm:\n",
    "            Confusion matrix of reference and map samples expressed in terms of\n",
    "            sample counts, n[i,j]. Row-column ordered reference-row, map-column.\n",
    "        labels:\n",
    "            List-like containing labels in same order as confusion matrix. For\n",
    "            example:\n",
    "\n",
    "            [\"Stable NP\", \"PGain\", \"PLoss\", \"Stable P\"]\n",
    "\n",
    "            [\"Non-Crop\", \"Crop\"]\n",
    "\n",
    "    \"\"\"\n",
    "\n",
    "    _, ax = plt.subplots(nrows=1, ncols=1)\n",
    "    sns.heatmap(cm, cmap=\"crest\", annot=True, fmt=datatype, cbar=False, \n",
    "                square=True, ax=ax, annot_kws={\"size\": 20})\n",
    "    ax.xaxis.tick_top()\n",
    "    ax.xaxis.set_label_coords(0.50, 1.2)\n",
    "    ax.yaxis.set_label_coords(-0.125, 0.50)\n",
    "    ax.set_xticklabels(labels=labels, fontsize=16)\n",
    "    ax.set_yticklabels(labels=labels, fontsize=16)\n",
    "    ax.set_xlabel(\"Map\", fontsize=20)\n",
    "    ax.set_ylabel(\"Reference\", fontsize=20)\n",
    "    plt.tight_layout()"
   ]
  },
  {
   "cell_type": "code",
   "execution_count": null,
   "metadata": {},
   "outputs": [],
   "source": [
    "# Pretty print confusion matrix\n",
    "plot_confusion_matrix(cm, labels = [\"Stable NP\", \"PGain\", \"PLoss\", \"Stable P\"])"
   ]
  },
  {
   "cell_type": "code",
   "execution_count": null,
   "metadata": {},
   "outputs": [],
   "source": [
    "cm_summary = create_confusion_matrix_summary(cm, columns = [\"Stable NP\", \"PGain\", \"PLoss\", \"Stable P\"])"
   ]
  },
  {
   "cell_type": "code",
   "execution_count": null,
   "metadata": {},
   "outputs": [],
   "source": [
    "# total_px_area = change_map.flatten().shape[0] # <- Overcounts!\n",
    "# Marginal pixel total of mapped classes\n",
    "a_j = np.array([stable_np_px, p_gain_px, p_loss_px, stable_p_px], dtype = np.int64)"
   ]
  },
  {
   "cell_type": "code",
   "execution_count": null,
   "metadata": {},
   "outputs": [],
   "source": [
    "# Plot the error matrix expressed in terms of proportion of area\n",
    "# as suggested by good practice recommendations\n",
    "total_px = a_j.sum()\n",
    "w_j = a_j / total_px\n",
    "am = compute_area_error_matrix(cm, w_j)\n",
    "plot_confusion_matrix(am, labels = [\"Stable NP\", \"PGain\", \"PLoss\", \"Stable P\"], datatype=\"0.2f\")"
   ]
  },
  {
   "cell_type": "code",
   "execution_count": null,
   "metadata": {},
   "outputs": [],
   "source": [
    "estimates = compute_area_estimate(cm, a_j, px_size = pixel_size)"
   ]
  },
  {
   "cell_type": "code",
   "execution_count": null,
   "metadata": {},
   "outputs": [],
   "source": [
    "u_j, err_u_j = estimates[\"user\"]\n",
    "print(f\"User's accuracy and 95% CI\\n{u_j.round(2)}\\n{(err_u_j).round(2)}\")"
   ]
  },
  {
   "cell_type": "code",
   "execution_count": null,
   "metadata": {},
   "outputs": [],
   "source": [
    "p_i, err_p_i = estimates[\"producer\"]\n",
    "print(f\"Producer's accuracy and 95% CI\\n{p_i.round(2)}\\n{(err_p_i).round(2)}\")"
   ]
  },
  {
   "cell_type": "code",
   "execution_count": null,
   "metadata": {},
   "outputs": [],
   "source": [
    "acc, err_acc = estimates[\"accuracy\"]\n",
    "print(f\"Overall accuracy and 95% CI\\n{acc.round(2)} \\u00B1 {(err_acc).round(2)}\")"
   ]
  },
  {
   "cell_type": "code",
   "execution_count": null,
   "metadata": {},
   "outputs": [],
   "source": [
    "a_ha, err_ha = estimates[\"area\"][\"ha\"]\n",
    "print(f\"Estimated area [ha] and 95% CI of area [ha] \\n{np.stack([a_ha, err_ha]).round(2)}\")"
   ]
  },
  {
   "cell_type": "code",
   "execution_count": null,
   "metadata": {},
   "outputs": [],
   "source": [
    "summary = create_area_estimate_summary(a_ha, err_ha, u_j, err_u_j, p_i, err_p_i, columns = [\"Stable NP\", \"PGain\", \"PLoss\", \"Stable P\"])"
   ]
  }
 ],
 "metadata": {
  "kernelspec": {
   "display_name": "Python 3 (ipykernel)",
   "language": "python",
   "name": "python3"
  },
  "language_info": {
   "codemirror_mode": {
    "name": "ipython",
    "version": 3
   },
   "file_extension": ".py",
   "mimetype": "text/x-python",
   "name": "python",
   "nbconvert_exporter": "python",
   "pygments_lexer": "ipython3",
   "version": "3.8.15"
  }
 },
 "nbformat": 4,
 "nbformat_minor": 2
}
