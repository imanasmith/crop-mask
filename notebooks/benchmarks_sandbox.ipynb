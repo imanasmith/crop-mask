{
 "cells": [
  {
   "cell_type": "markdown",
   "id": "ac7c7e8c",
   "metadata": {},
   "source": [
    "# Benchmarks Sandbox\n",
    "\n",
    "**Author**: Ivan Zvonkov\n",
    "\n",
    "**Last Modified**: Feb 6, 2024\n",
    "\n",
    "**Description**: Code for benchmarking against different variations in models."
   ]
  },
  {
   "cell_type": "code",
   "execution_count": 1,
   "id": "53e931c7",
   "metadata": {},
   "outputs": [],
   "source": [
    "import sys\n",
    "import pandas as pd\n",
    "\n",
    "from tqdm.notebook import tqdm\n",
    "\n",
    "sys.path.append(\"..\")\n",
    "\n",
    "from datasets import datasets\n",
    "from src.bboxes import bboxes"
   ]
  },
  {
   "cell_type": "markdown",
   "id": "d92c8ec3",
   "metadata": {},
   "source": [
    "## 1. Load Datasets"
   ]
  },
  {
   "cell_type": "code",
   "execution_count": 2,
   "id": "72374660",
   "metadata": {},
   "outputs": [
    {
     "data": {
      "application/vnd.jupyter.widget-view+json": {
       "model_id": "",
       "version_major": 2,
       "version_minor": 0
      },
      "text/plain": [
       "  0%|          | 0/45 [00:00<?, ?it/s]"
      ]
     },
     "metadata": {},
     "output_type": "display_data"
    },
    {
     "name": "stderr",
     "output_type": "stream",
     "text": [
      "/var/folders/1v/87y9n_d5143c_6cp072v3b1c0000gn/T/ipykernel_25504/4119029012.py:4: DtypeWarning: Columns (17) have mixed types.Specify dtype option on import or set low_memory=False.\n",
      "  df = d.load_df(to_np=True, disable_tqdm=True)\n"
     ]
    }
   ],
   "source": [
    "# Takes a minute and a half\n",
    "dfs = []\n",
    "for d in tqdm(datasets):\n",
    "    df = d.load_df(to_np=True, disable_tqdm=True)\n",
    "    df[\"name\"] = d.name\n",
    "    dfs.append(df)\n",
    "df = pd.concat(dfs)\n",
    "df[\"is_crop\"] = df[\"class_probability\"] > 0.5"
   ]
  },
  {
   "cell_type": "markdown",
   "id": "d29c939f",
   "metadata": {},
   "source": [
    "## 2. Compute stats for candidate test sets"
   ]
  },
  {
   "cell_type": "code",
   "execution_count": 3,
   "id": "9e38c30d",
   "metadata": {},
   "outputs": [
    {
     "data": {
      "text/html": [
       "<div>\n",
       "<style scoped>\n",
       "    .dataframe tbody tr th:only-of-type {\n",
       "        vertical-align: middle;\n",
       "    }\n",
       "\n",
       "    .dataframe tbody tr th {\n",
       "        vertical-align: top;\n",
       "    }\n",
       "\n",
       "    .dataframe thead th {\n",
       "        text-align: right;\n",
       "    }\n",
       "</style>\n",
       "<table border=\"1\" class=\"dataframe\">\n",
       "  <thead>\n",
       "    <tr style=\"text-align: right;\">\n",
       "      <th></th>\n",
       "      <th>Name</th>\n",
       "      <th>Total</th>\n",
       "      <th>Crop Amount</th>\n",
       "      <th>Crop Rate</th>\n",
       "    </tr>\n",
       "  </thead>\n",
       "  <tbody>\n",
       "    <tr>\n",
       "      <th>0</th>\n",
       "      <td>Kenya</td>\n",
       "      <td>822</td>\n",
       "      <td>566</td>\n",
       "      <td>0.689</td>\n",
       "    </tr>\n",
       "    <tr>\n",
       "      <th>1</th>\n",
       "      <td>Mali_lower_CEO_2019</td>\n",
       "      <td>271</td>\n",
       "      <td>94</td>\n",
       "      <td>0.347</td>\n",
       "    </tr>\n",
       "    <tr>\n",
       "      <th>2</th>\n",
       "      <td>Mali_upper_CEO_2019</td>\n",
       "      <td>323</td>\n",
       "      <td>17</td>\n",
       "      <td>0.053</td>\n",
       "    </tr>\n",
       "    <tr>\n",
       "      <th>3</th>\n",
       "      <td>Togo</td>\n",
       "      <td>310</td>\n",
       "      <td>107</td>\n",
       "      <td>0.345</td>\n",
       "    </tr>\n",
       "    <tr>\n",
       "      <th>4</th>\n",
       "      <td>Rwanda</td>\n",
       "      <td>555</td>\n",
       "      <td>191</td>\n",
       "      <td>0.344</td>\n",
       "    </tr>\n",
       "    <tr>\n",
       "      <th>5</th>\n",
       "      <td>Uganda</td>\n",
       "      <td>456</td>\n",
       "      <td>52</td>\n",
       "      <td>0.114</td>\n",
       "    </tr>\n",
       "    <tr>\n",
       "      <th>6</th>\n",
       "      <td>Ethiopia_Tigray_2020</td>\n",
       "      <td>507</td>\n",
       "      <td>139</td>\n",
       "      <td>0.274</td>\n",
       "    </tr>\n",
       "    <tr>\n",
       "      <th>7</th>\n",
       "      <td>Ethiopia_Tigray_2021</td>\n",
       "      <td>367</td>\n",
       "      <td>120</td>\n",
       "      <td>0.327</td>\n",
       "    </tr>\n",
       "    <tr>\n",
       "      <th>8</th>\n",
       "      <td>Ethiopia_Bure_Jimma_2019</td>\n",
       "      <td>498</td>\n",
       "      <td>161</td>\n",
       "      <td>0.323</td>\n",
       "    </tr>\n",
       "    <tr>\n",
       "      <th>9</th>\n",
       "      <td>Ethiopia_Bure_Jimma_2020</td>\n",
       "      <td>455</td>\n",
       "      <td>129</td>\n",
       "      <td>0.284</td>\n",
       "    </tr>\n",
       "    <tr>\n",
       "      <th>10</th>\n",
       "      <td>Malawi_CEO_2020</td>\n",
       "      <td>457</td>\n",
       "      <td>67</td>\n",
       "      <td>0.147</td>\n",
       "    </tr>\n",
       "    <tr>\n",
       "      <th>11</th>\n",
       "      <td>Zambia_CEO_2019</td>\n",
       "      <td>438</td>\n",
       "      <td>20</td>\n",
       "      <td>0.046</td>\n",
       "    </tr>\n",
       "    <tr>\n",
       "      <th>12</th>\n",
       "      <td>Tanzania_CEO_2019</td>\n",
       "      <td>2037</td>\n",
       "      <td>626</td>\n",
       "      <td>0.307</td>\n",
       "    </tr>\n",
       "    <tr>\n",
       "      <th>13</th>\n",
       "      <td>Namibia_CEO_2020</td>\n",
       "      <td>444</td>\n",
       "      <td>5</td>\n",
       "      <td>0.011</td>\n",
       "    </tr>\n",
       "    <tr>\n",
       "      <th>14</th>\n",
       "      <td>Sudan_Blue_Nile_CEO_2019</td>\n",
       "      <td>526</td>\n",
       "      <td>173</td>\n",
       "      <td>0.329</td>\n",
       "    </tr>\n",
       "    <tr>\n",
       "      <th>15</th>\n",
       "      <td>Hawaii_CEO_2020</td>\n",
       "      <td>360</td>\n",
       "      <td>6</td>\n",
       "      <td>0.017</td>\n",
       "    </tr>\n",
       "    <tr>\n",
       "      <th>16</th>\n",
       "      <td>Senegal_CEO_2022</td>\n",
       "      <td>610</td>\n",
       "      <td>90</td>\n",
       "      <td>0.148</td>\n",
       "    </tr>\n",
       "    <tr>\n",
       "      <th>17</th>\n",
       "      <td>KenyaCEO2019</td>\n",
       "      <td>288</td>\n",
       "      <td>23</td>\n",
       "      <td>0.080</td>\n",
       "    </tr>\n",
       "    <tr>\n",
       "      <th>18</th>\n",
       "      <td>SudanBlueNileCEO2020</td>\n",
       "      <td>533</td>\n",
       "      <td>121</td>\n",
       "      <td>0.227</td>\n",
       "    </tr>\n",
       "    <tr>\n",
       "      <th>19</th>\n",
       "      <td>SudanAlGadarefCEO2019</td>\n",
       "      <td>533</td>\n",
       "      <td>135</td>\n",
       "      <td>0.253</td>\n",
       "    </tr>\n",
       "    <tr>\n",
       "      <th>20</th>\n",
       "      <td>MaliStratifiedCEO2019</td>\n",
       "      <td>468</td>\n",
       "      <td>19</td>\n",
       "      <td>0.041</td>\n",
       "    </tr>\n",
       "    <tr>\n",
       "      <th>21</th>\n",
       "      <td>SudanAlGadarefCEO2020</td>\n",
       "      <td>532</td>\n",
       "      <td>202</td>\n",
       "      <td>0.380</td>\n",
       "    </tr>\n",
       "    <tr>\n",
       "      <th>22</th>\n",
       "      <td>NamibiaNorthStratified2020</td>\n",
       "      <td>669</td>\n",
       "      <td>4</td>\n",
       "      <td>0.006</td>\n",
       "    </tr>\n",
       "    <tr>\n",
       "      <th>23</th>\n",
       "      <td>SudanGedarefDarfurAlJazirah2022</td>\n",
       "      <td>375</td>\n",
       "      <td>127</td>\n",
       "      <td>0.339</td>\n",
       "    </tr>\n",
       "    <tr>\n",
       "      <th>24</th>\n",
       "      <td>Uganda_NorthCEO2022</td>\n",
       "      <td>319</td>\n",
       "      <td>56</td>\n",
       "      <td>0.176</td>\n",
       "    </tr>\n",
       "  </tbody>\n",
       "</table>\n",
       "</div>"
      ],
      "text/plain": [
       "                               Name  Total  Crop Amount  Crop Rate\n",
       "0                             Kenya    822          566      0.689\n",
       "1               Mali_lower_CEO_2019    271           94      0.347\n",
       "2               Mali_upper_CEO_2019    323           17      0.053\n",
       "3                              Togo    310          107      0.345\n",
       "4                            Rwanda    555          191      0.344\n",
       "5                            Uganda    456           52      0.114\n",
       "6              Ethiopia_Tigray_2020    507          139      0.274\n",
       "7              Ethiopia_Tigray_2021    367          120      0.327\n",
       "8          Ethiopia_Bure_Jimma_2019    498          161      0.323\n",
       "9          Ethiopia_Bure_Jimma_2020    455          129      0.284\n",
       "10                  Malawi_CEO_2020    457           67      0.147\n",
       "11                  Zambia_CEO_2019    438           20      0.046\n",
       "12                Tanzania_CEO_2019   2037          626      0.307\n",
       "13                 Namibia_CEO_2020    444            5      0.011\n",
       "14         Sudan_Blue_Nile_CEO_2019    526          173      0.329\n",
       "15                  Hawaii_CEO_2020    360            6      0.017\n",
       "16                 Senegal_CEO_2022    610           90      0.148\n",
       "17                     KenyaCEO2019    288           23      0.080\n",
       "18             SudanBlueNileCEO2020    533          121      0.227\n",
       "19            SudanAlGadarefCEO2019    533          135      0.253\n",
       "20            MaliStratifiedCEO2019    468           19      0.041\n",
       "21            SudanAlGadarefCEO2020    532          202      0.380\n",
       "22       NamibiaNorthStratified2020    669            4      0.006\n",
       "23  SudanGedarefDarfurAlJazirah2022    375          127      0.339\n",
       "24              Uganda_NorthCEO2022    319           56      0.176"
      ]
     },
     "execution_count": 3,
     "metadata": {},
     "output_type": "execute_result"
    }
   ],
   "source": [
    "# Compute stats for each candidate test set\n",
    "test_set_names = df[df[\"subset\"] == \"testing\"][\"name\"].unique()\n",
    "stats_list = []\n",
    "for name in test_set_names:        \n",
    "    test_df = df[(df[\"subset\"] == \"testing\") & (df[\"name\"] == name)]\n",
    "    stats = {\n",
    "        \"Name\": name , \n",
    "        \"Total\": len(test_df), \n",
    "        \"Crop Amount\": test_df[\"is_crop\"].sum()\n",
    "    }\n",
    "    stats[\"Crop Rate\"] = round(stats[\"Crop Amount\"] / stats[\"Total\"], 3)\n",
    "    stats_list.append(stats)\n",
    "stats = pd.DataFrame(stats_list)\n",
    "stats"
   ]
  },
  {
   "cell_type": "markdown",
   "id": "db3806da",
   "metadata": {},
   "source": [
    "## 3. Select test sets for benchmark"
   ]
  },
  {
   "cell_type": "code",
   "execution_count": 4,
   "id": "29e4ddd9",
   "metadata": {},
   "outputs": [],
   "source": [
    "# Test set candidates to be filtered out\n",
    "not_representative = [\"Kenya\"]\n",
    "too_few_crops = [\"Mali_upper_CEO_2019\", \"Zambia_CEO_2019\", \"Namibia_CEO_2020\", \"Hawaii_CEO_2020\",\n",
    "                  \"KenyaCEO2019\", \"MaliStratifiedCEO2019\", \"NamibiaNorthStratified2020\"]"
   ]
  },
  {
   "cell_type": "code",
   "execution_count": 5,
   "id": "3d39a6d3",
   "metadata": {},
   "outputs": [
    {
     "data": {
      "text/html": [
       "<div>\n",
       "<style scoped>\n",
       "    .dataframe tbody tr th:only-of-type {\n",
       "        vertical-align: middle;\n",
       "    }\n",
       "\n",
       "    .dataframe tbody tr th {\n",
       "        vertical-align: top;\n",
       "    }\n",
       "\n",
       "    .dataframe thead th {\n",
       "        text-align: right;\n",
       "    }\n",
       "</style>\n",
       "<table border=\"1\" class=\"dataframe\">\n",
       "  <thead>\n",
       "    <tr style=\"text-align: right;\">\n",
       "      <th></th>\n",
       "      <th>Name</th>\n",
       "      <th>Total</th>\n",
       "      <th>Crop Amount</th>\n",
       "      <th>Crop Rate</th>\n",
       "    </tr>\n",
       "  </thead>\n",
       "  <tbody>\n",
       "    <tr>\n",
       "      <th>1</th>\n",
       "      <td>Mali_lower_CEO_2019</td>\n",
       "      <td>271</td>\n",
       "      <td>94</td>\n",
       "      <td>0.347</td>\n",
       "    </tr>\n",
       "    <tr>\n",
       "      <th>3</th>\n",
       "      <td>Togo</td>\n",
       "      <td>310</td>\n",
       "      <td>107</td>\n",
       "      <td>0.345</td>\n",
       "    </tr>\n",
       "    <tr>\n",
       "      <th>4</th>\n",
       "      <td>Rwanda</td>\n",
       "      <td>555</td>\n",
       "      <td>191</td>\n",
       "      <td>0.344</td>\n",
       "    </tr>\n",
       "    <tr>\n",
       "      <th>5</th>\n",
       "      <td>Uganda</td>\n",
       "      <td>456</td>\n",
       "      <td>52</td>\n",
       "      <td>0.114</td>\n",
       "    </tr>\n",
       "    <tr>\n",
       "      <th>6</th>\n",
       "      <td>Ethiopia_Tigray_2020</td>\n",
       "      <td>507</td>\n",
       "      <td>139</td>\n",
       "      <td>0.274</td>\n",
       "    </tr>\n",
       "    <tr>\n",
       "      <th>7</th>\n",
       "      <td>Ethiopia_Tigray_2021</td>\n",
       "      <td>367</td>\n",
       "      <td>120</td>\n",
       "      <td>0.327</td>\n",
       "    </tr>\n",
       "    <tr>\n",
       "      <th>8</th>\n",
       "      <td>Ethiopia_Bure_Jimma_2019</td>\n",
       "      <td>498</td>\n",
       "      <td>161</td>\n",
       "      <td>0.323</td>\n",
       "    </tr>\n",
       "    <tr>\n",
       "      <th>9</th>\n",
       "      <td>Ethiopia_Bure_Jimma_2020</td>\n",
       "      <td>455</td>\n",
       "      <td>129</td>\n",
       "      <td>0.284</td>\n",
       "    </tr>\n",
       "    <tr>\n",
       "      <th>10</th>\n",
       "      <td>Malawi_CEO_2020</td>\n",
       "      <td>457</td>\n",
       "      <td>67</td>\n",
       "      <td>0.147</td>\n",
       "    </tr>\n",
       "    <tr>\n",
       "      <th>12</th>\n",
       "      <td>Tanzania_CEO_2019</td>\n",
       "      <td>2037</td>\n",
       "      <td>626</td>\n",
       "      <td>0.307</td>\n",
       "    </tr>\n",
       "    <tr>\n",
       "      <th>14</th>\n",
       "      <td>Sudan_Blue_Nile_CEO_2019</td>\n",
       "      <td>526</td>\n",
       "      <td>173</td>\n",
       "      <td>0.329</td>\n",
       "    </tr>\n",
       "    <tr>\n",
       "      <th>16</th>\n",
       "      <td>Senegal_CEO_2022</td>\n",
       "      <td>610</td>\n",
       "      <td>90</td>\n",
       "      <td>0.148</td>\n",
       "    </tr>\n",
       "    <tr>\n",
       "      <th>18</th>\n",
       "      <td>SudanBlueNileCEO2020</td>\n",
       "      <td>533</td>\n",
       "      <td>121</td>\n",
       "      <td>0.227</td>\n",
       "    </tr>\n",
       "    <tr>\n",
       "      <th>19</th>\n",
       "      <td>SudanAlGadarefCEO2019</td>\n",
       "      <td>533</td>\n",
       "      <td>135</td>\n",
       "      <td>0.253</td>\n",
       "    </tr>\n",
       "    <tr>\n",
       "      <th>21</th>\n",
       "      <td>SudanAlGadarefCEO2020</td>\n",
       "      <td>532</td>\n",
       "      <td>202</td>\n",
       "      <td>0.380</td>\n",
       "    </tr>\n",
       "    <tr>\n",
       "      <th>23</th>\n",
       "      <td>SudanGedarefDarfurAlJazirah2022</td>\n",
       "      <td>375</td>\n",
       "      <td>127</td>\n",
       "      <td>0.339</td>\n",
       "    </tr>\n",
       "    <tr>\n",
       "      <th>24</th>\n",
       "      <td>Uganda_NorthCEO2022</td>\n",
       "      <td>319</td>\n",
       "      <td>56</td>\n",
       "      <td>0.176</td>\n",
       "    </tr>\n",
       "  </tbody>\n",
       "</table>\n",
       "</div>"
      ],
      "text/plain": [
       "                               Name  Total  Crop Amount  Crop Rate\n",
       "1               Mali_lower_CEO_2019    271           94      0.347\n",
       "3                              Togo    310          107      0.345\n",
       "4                            Rwanda    555          191      0.344\n",
       "5                            Uganda    456           52      0.114\n",
       "6              Ethiopia_Tigray_2020    507          139      0.274\n",
       "7              Ethiopia_Tigray_2021    367          120      0.327\n",
       "8          Ethiopia_Bure_Jimma_2019    498          161      0.323\n",
       "9          Ethiopia_Bure_Jimma_2020    455          129      0.284\n",
       "10                  Malawi_CEO_2020    457           67      0.147\n",
       "12                Tanzania_CEO_2019   2037          626      0.307\n",
       "14         Sudan_Blue_Nile_CEO_2019    526          173      0.329\n",
       "16                 Senegal_CEO_2022    610           90      0.148\n",
       "18             SudanBlueNileCEO2020    533          121      0.227\n",
       "19            SudanAlGadarefCEO2019    533          135      0.253\n",
       "21            SudanAlGadarefCEO2020    532          202      0.380\n",
       "23  SudanGedarefDarfurAlJazirah2022    375          127      0.339\n",
       "24              Uganda_NorthCEO2022    319           56      0.176"
      ]
     },
     "execution_count": 5,
     "metadata": {},
     "output_type": "execute_result"
    }
   ],
   "source": [
    "# Finalized benchmark test sets\n",
    "benchmark = stats[~stats[\"Name\"].isin(not_representative + too_few_crops)].copy()\n",
    "benchmark"
   ]
  },
  {
   "cell_type": "code",
   "execution_count": 6,
   "id": "77ea9374",
   "metadata": {},
   "outputs": [],
   "source": [
    "# Associated bbox name\n",
    "dataset_name_to_bbox_name = {\n",
    "    \"Mali_lower_CEO_2019\": \"Mali_lower\",\n",
    "    \"Togo\": \"Togo\",\n",
    "    \"Rwanda\": \"Rwanda\",\n",
    "    \"Uganda\": \"Uganda\",\n",
    "    \"Ethiopia_Tigray_2020\": \"Ethiopia_Tigray\",\n",
    "    \"Ethiopia_Tigray_2021\": \"Ethiopia_Tigray\",\n",
    "    \"Ethiopia_Bure_Jimma_2019\": \"Ethiopia_Bure_Jimma\",\n",
    "    \"Ethiopia_Bure_Jimma_2020\": \"Ethiopia_Bure_Jimma\",\n",
    "    \"Malawi_CEO_2020\": \"Malawi\",\n",
    "    \"Tanzania_CEO_2019\": \"Tanzania\",\n",
    "    \"Sudan_Blue_Nile_CEO_2019\": \"Sudan_Blue_Nile\",\n",
    "    \"SudanBlueNileCEO2020\": \"Sudan_Blue_Nile\",\n",
    "    \"Senegal_CEO_2022\": \"Senegal\",\n",
    "    \"SudanAlGadarefCEO2019\": \"Sudan_Al_Gadaref\",\n",
    "    \"SudanAlGadarefCEO2020\": \"Sudan_Al_Gadaref\",\n",
    "    \"SudanGedarefDarfurAlJazirah2022\": \"Sudan_South\",\n",
    "    \"Uganda_NorthCEO2022\": \"Uganda\"\n",
    "}"
   ]
  },
  {
   "cell_type": "code",
   "execution_count": 7,
   "id": "95bf13ee",
   "metadata": {},
   "outputs": [
    {
     "data": {
      "application/vnd.jupyter.widget-view+json": {
       "model_id": "",
       "version_major": 2,
       "version_minor": 0
      },
      "text/plain": [
       "  0%|          | 0/17 [00:00<?, ?it/s]"
      ]
     },
     "metadata": {},
     "output_type": "display_data"
    },
    {
     "data": {
      "text/html": [
       "<div>\n",
       "<style scoped>\n",
       "    .dataframe tbody tr th:only-of-type {\n",
       "        vertical-align: middle;\n",
       "    }\n",
       "\n",
       "    .dataframe tbody tr th {\n",
       "        vertical-align: top;\n",
       "    }\n",
       "\n",
       "    .dataframe thead th {\n",
       "        text-align: right;\n",
       "    }\n",
       "</style>\n",
       "<table border=\"1\" class=\"dataframe\">\n",
       "  <thead>\n",
       "    <tr style=\"text-align: right;\">\n",
       "      <th></th>\n",
       "      <th>Name</th>\n",
       "      <th>Validation</th>\n",
       "      <th>Training</th>\n",
       "    </tr>\n",
       "  </thead>\n",
       "  <tbody>\n",
       "    <tr>\n",
       "      <th>0</th>\n",
       "      <td>Mali_lower_CEO_2019</td>\n",
       "      <td>275</td>\n",
       "      <td>1096</td>\n",
       "    </tr>\n",
       "    <tr>\n",
       "      <th>1</th>\n",
       "      <td>Togo</td>\n",
       "      <td>268</td>\n",
       "      <td>1062</td>\n",
       "    </tr>\n",
       "    <tr>\n",
       "      <th>2</th>\n",
       "      <td>Rwanda</td>\n",
       "      <td>520</td>\n",
       "      <td>676</td>\n",
       "    </tr>\n",
       "    <tr>\n",
       "      <th>3</th>\n",
       "      <td>Uganda</td>\n",
       "      <td>454</td>\n",
       "      <td>19943</td>\n",
       "    </tr>\n",
       "    <tr>\n",
       "      <th>4</th>\n",
       "      <td>Ethiopia_Tigray_2020</td>\n",
       "      <td>520</td>\n",
       "      <td>4916</td>\n",
       "    </tr>\n",
       "    <tr>\n",
       "      <th>5</th>\n",
       "      <td>Ethiopia_Tigray_2021</td>\n",
       "      <td>351</td>\n",
       "      <td>5225</td>\n",
       "    </tr>\n",
       "    <tr>\n",
       "      <th>6</th>\n",
       "      <td>Ethiopia_Bure_Jimma_2019</td>\n",
       "      <td>488</td>\n",
       "      <td>1597</td>\n",
       "    </tr>\n",
       "    <tr>\n",
       "      <th>7</th>\n",
       "      <td>Ethiopia_Bure_Jimma_2020</td>\n",
       "      <td>483</td>\n",
       "      <td>1645</td>\n",
       "    </tr>\n",
       "    <tr>\n",
       "      <th>8</th>\n",
       "      <td>Malawi_CEO_2020</td>\n",
       "      <td>490</td>\n",
       "      <td>6934</td>\n",
       "    </tr>\n",
       "    <tr>\n",
       "      <th>9</th>\n",
       "      <td>Tanzania_CEO_2019</td>\n",
       "      <td>2044</td>\n",
       "      <td>24035</td>\n",
       "    </tr>\n",
       "    <tr>\n",
       "      <th>10</th>\n",
       "      <td>Sudan_Blue_Nile_CEO_2019</td>\n",
       "      <td>506</td>\n",
       "      <td>1957</td>\n",
       "    </tr>\n",
       "    <tr>\n",
       "      <th>11</th>\n",
       "      <td>SudanBlueNileCEO2020</td>\n",
       "      <td>518</td>\n",
       "      <td>1938</td>\n",
       "    </tr>\n",
       "    <tr>\n",
       "      <th>12</th>\n",
       "      <td>Senegal_CEO_2022</td>\n",
       "      <td>579</td>\n",
       "      <td>597</td>\n",
       "    </tr>\n",
       "    <tr>\n",
       "      <th>13</th>\n",
       "      <td>SudanAlGadarefCEO2019</td>\n",
       "      <td>518</td>\n",
       "      <td>2879</td>\n",
       "    </tr>\n",
       "    <tr>\n",
       "      <th>14</th>\n",
       "      <td>SudanAlGadarefCEO2020</td>\n",
       "      <td>539</td>\n",
       "      <td>2859</td>\n",
       "    </tr>\n",
       "    <tr>\n",
       "      <th>15</th>\n",
       "      <td>SudanGedarefDarfurAlJazirah2022</td>\n",
       "      <td>338</td>\n",
       "      <td>8582</td>\n",
       "    </tr>\n",
       "    <tr>\n",
       "      <th>16</th>\n",
       "      <td>Uganda_NorthCEO2022</td>\n",
       "      <td>294</td>\n",
       "      <td>20240</td>\n",
       "    </tr>\n",
       "  </tbody>\n",
       "</table>\n",
       "</div>"
      ],
      "text/plain": [
       "                               Name  Validation  Training\n",
       "0               Mali_lower_CEO_2019         275      1096\n",
       "1                              Togo         268      1062\n",
       "2                            Rwanda         520       676\n",
       "3                            Uganda         454     19943\n",
       "4              Ethiopia_Tigray_2020         520      4916\n",
       "5              Ethiopia_Tigray_2021         351      5225\n",
       "6          Ethiopia_Bure_Jimma_2019         488      1597\n",
       "7          Ethiopia_Bure_Jimma_2020         483      1645\n",
       "8                   Malawi_CEO_2020         490      6934\n",
       "9                 Tanzania_CEO_2019        2044     24035\n",
       "10         Sudan_Blue_Nile_CEO_2019         506      1957\n",
       "11             SudanBlueNileCEO2020         518      1938\n",
       "12                 Senegal_CEO_2022         579       597\n",
       "13            SudanAlGadarefCEO2019         518      2879\n",
       "14            SudanAlGadarefCEO2020         539      2859\n",
       "15  SudanGedarefDarfurAlJazirah2022         338      8582\n",
       "16              Uganda_NorthCEO2022         294     20240"
      ]
     },
     "execution_count": 7,
     "metadata": {},
     "output_type": "execute_result"
    }
   ],
   "source": [
    "amounts = []\n",
    "\n",
    "for dataset_name, bbox_name in tqdm(dataset_name_to_bbox_name.items()):\n",
    "    is_local_lat = (df.lat >= bboxes[bbox_name].min_lat) & (df.lat <= bboxes[bbox_name].max_lat)\n",
    "    is_local_lon = (df.lon >= bboxes[bbox_name].min_lon) & (df.lon <= bboxes[bbox_name].max_lon)\n",
    "    is_test = (df[\"name\"] == dataset_name) & (df[\"subset\"] == \"testing\")\n",
    "    test_df = df[is_test]\n",
    "    is_val = (df[\"name\"] == dataset_name) & (df[\"subset\"] == \"validation\")    \n",
    "    train_df = df[~is_test & ~is_val & is_local_lat & is_local_lon]\n",
    "    \n",
    "    amounts.append({\n",
    "        \"Name\": dataset_name,\n",
    "        \"Validation\": is_val.sum(),\n",
    "        \"Training\": len(train_df)\n",
    "    })\n",
    "    \n",
    "pd.DataFrame(amounts)"
   ]
  },
  {
   "cell_type": "markdown",
   "id": "fa2fcf92",
   "metadata": {},
   "source": [
    "## Baselines Playground\n",
    "Code to run experiments including: 1) withholding bands, 2) different bbox sizes, 3) catboost"
   ]
  },
  {
   "cell_type": "code",
   "execution_count": 8,
   "id": "9db47409",
   "metadata": {},
   "outputs": [],
   "source": [
    "!pip install catboost -q"
   ]
  },
  {
   "cell_type": "code",
   "execution_count": 8,
   "id": "a9a42594",
   "metadata": {},
   "outputs": [],
   "source": [
    "from openmapflow.bands import BANDS\n",
    "from openmapflow.engineer import calculate_ndvi\n",
    "\n",
    "from catboost import CatBoostClassifier\n",
    "from sklearn.ensemble import RandomForestClassifier\n",
    "from sklearn.metrics import f1_score\n",
    "from src.bboxes import bboxes\n",
    "\n",
    "import numpy as np"
   ]
  },
  {
   "cell_type": "code",
   "execution_count": 9,
   "id": "c27780eb",
   "metadata": {},
   "outputs": [],
   "source": [
    "# Recompute NDVI\n",
    "df[\"eo_data\"] = df[\"eo_data\"].apply(lambda x: calculate_ndvi(x[:, : len(BANDS) - 1]))"
   ]
  },
  {
   "cell_type": "code",
   "execution_count": 10,
   "id": "ee42dba4",
   "metadata": {},
   "outputs": [],
   "source": [
    "ADD_BY = np.zeros(18)\n",
    "ADD_BY[0:2] = [25.0, 25.0]     # Sentinel-1 VV, VH (range from -50 to 1)\n",
    "ADD_BY[13] = -272.15           # ERA5 Celcius\n",
    "\n",
    "DIVIDE_BY = np.ones(18)\n",
    "DIVIDE_BY[0:2] = [25.0, 25.0]   # Sentinel-1 VV, VH (range from -50 to 1)\n",
    "DIVIDE_BY[2:13] = [10000.0] * 11 # Sentinel-2 high band values\n",
    "DIVIDE_BY[13] = 35.0            # ERA5 high celcius value\n",
    "DIVIDE_BY[14] = 0.03            # ERA5 high precipitation value\n",
    "DIVIDE_BY[15] = 2000.0          # SRTM elevation high value\n",
    "DIVIDE_BY[16] = 50.0            # Slope high value\n",
    "\n",
    "def normalize(x):\n",
    "    keep_indices = [idx for idx, val in enumerate(BANDS) if val != \"B9\"] # remove the b9 band\n",
    "    normalized = ((x + ADD_BY) / DIVIDE_BY).astype(np.float32)\n",
    "    return normalized[:, keep_indices]"
   ]
  },
  {
   "cell_type": "code",
   "execution_count": 11,
   "id": "82660fba",
   "metadata": {},
   "outputs": [],
   "source": [
    "start_month = 2\n",
    "end_month = start_month + 12\n",
    "\n",
    "def generate_X_y(df):    \n",
    "    X = df[\"eo_data\"].apply(lambda x: x[start_month:end_month].flatten()).to_list()\n",
    "    y = df[\"is_crop\"].astype(int).to_list()\n",
    "    return X, y\n",
    "\n",
    "def generate_X_y_NDVI(df):    \n",
    "    X = df[\"eo_data\"].apply(lambda x: x[start_month:end_month, -1]).to_list()\n",
    "    y = df[\"is_crop\"].to_list()\n",
    "    return X, y\n",
    "\n",
    "def generate_X_y_S2(df):    \n",
    "    X = df[\"eo_data\"].apply(lambda x: x[start_month:end_month, 2:13].flatten()).to_list()\n",
    "    y = df[\"is_crop\"].to_list()\n",
    "    return X, y\n",
    "\n",
    "def generate_X_y_S1_S2(df):    \n",
    "    X = df[\"eo_data\"].apply(lambda x: x[start_month:end_month, :13].flatten()).to_list()\n",
    "    y = df[\"is_crop\"].to_list()\n",
    "    return X, y\n",
    "\n",
    "def generate_X_y_S1_S2_SRTM(df):    \n",
    "    X = df[\"eo_data\"].apply(lambda x: x[start_month:end_month, np.r_[:13, 15:17]].flatten()).to_list()\n",
    "    y = df[\"is_crop\"].to_list()\n",
    "    return X, y\n",
    "\n",
    "def generate_X_y_S1_S2_SRTM_ERA5(df):    \n",
    "    X = df[\"eo_data\"].apply(lambda x: x[start_month:end_month, :17].flatten()).to_list()\n",
    "    y = df[\"is_crop\"].to_list()\n",
    "    return X, y\n",
    "\n",
    "def generate_X_y_normalized(df):    \n",
    "    X = df[\"eo_data\"].apply(lambda x: normalize(x[start_month:end_month]).flatten()).to_list()\n",
    "    y = df[\"is_crop\"].astype(int).to_list()\n",
    "    return X, y"
   ]
  },
  {
   "cell_type": "code",
   "execution_count": 23,
   "id": "4204cdd8",
   "metadata": {},
   "outputs": [
    {
     "data": {
      "application/vnd.jupyter.widget-view+json": {
       "model_id": "d60201e437934d349454717697c4f65f",
       "version_major": 2,
       "version_minor": 0
      },
      "text/plain": [
       "  0%|          | 0/17 [00:00<?, ?it/s]"
      ]
     },
     "metadata": {},
     "output_type": "display_data"
    }
   ],
   "source": [
    "f1_scores = {}\n",
    "for dataset_name, bbox_name in tqdm(dataset_name_to_bbox_name.items()):\n",
    "    buf = 0\n",
    "    is_local_lat = (df.lat >= (bboxes[bbox_name].min_lat - buf)) & (df.lat <= (bboxes[bbox_name].max_lat + buf))\n",
    "    is_local_lon = (df.lon >= (bboxes[bbox_name].min_lon - buf)) & (df.lon <= (bboxes[bbox_name].max_lon + buf))\n",
    "    \n",
    "    is_test = (df[\"name\"] == dataset_name) & (df[\"subset\"] == \"testing\")\n",
    "    test_df = df[is_test]\n",
    "    \n",
    "    # is_val = (df[\"name\"] == dataset_name) & (df[\"subset\"] == \"validation\")\n",
    "    \n",
    "    train_df = df[~is_test & is_local_lat & is_local_lon]\n",
    "    \n",
    "    X_train, y_train = generate_X_y(train_df)\n",
    "    X_test, y_test = generate_X_y(test_df)\n",
    "    \n",
    "    model = RandomForestClassifier(random_state=0) # CatBoostClassifier(random_state=0)\n",
    "    model.fit(X_train, y_train)\n",
    "    y_pred = model.predict(X_test)\n",
    "    f1_scores[dataset_name] = f1_score(y_test, y_pred)"
   ]
  },
  {
   "cell_type": "code",
   "execution_count": 24,
   "id": "85faeeea",
   "metadata": {},
   "outputs": [],
   "source": [
    "for dataset, f1 in f1_scores.items():\n",
    "    benchmark.loc[benchmark[\"Name\"] == dataset, \"RF Feb-Feb F1 Score\"] = f1"
   ]
  },
  {
   "cell_type": "code",
   "execution_count": 25,
   "id": "5c767087",
   "metadata": {},
   "outputs": [
    {
     "data": {
      "text/html": [
       "<div>\n",
       "<style scoped>\n",
       "    .dataframe tbody tr th:only-of-type {\n",
       "        vertical-align: middle;\n",
       "    }\n",
       "\n",
       "    .dataframe tbody tr th {\n",
       "        vertical-align: top;\n",
       "    }\n",
       "\n",
       "    .dataframe thead th {\n",
       "        text-align: right;\n",
       "    }\n",
       "</style>\n",
       "<table border=\"1\" class=\"dataframe\">\n",
       "  <thead>\n",
       "    <tr style=\"text-align: right;\">\n",
       "      <th></th>\n",
       "      <th>Name</th>\n",
       "      <th>Total</th>\n",
       "      <th>Crop Amount</th>\n",
       "      <th>Crop Rate</th>\n",
       "      <th>RF Feb-Feb F1 Score</th>\n",
       "    </tr>\n",
       "  </thead>\n",
       "  <tbody>\n",
       "    <tr>\n",
       "      <th>1</th>\n",
       "      <td>Mali_lower_CEO_2019</td>\n",
       "      <td>271</td>\n",
       "      <td>94</td>\n",
       "      <td>0.347</td>\n",
       "      <td>0.613757</td>\n",
       "    </tr>\n",
       "    <tr>\n",
       "      <th>3</th>\n",
       "      <td>Togo</td>\n",
       "      <td>310</td>\n",
       "      <td>107</td>\n",
       "      <td>0.345</td>\n",
       "      <td>0.756098</td>\n",
       "    </tr>\n",
       "    <tr>\n",
       "      <th>4</th>\n",
       "      <td>Rwanda</td>\n",
       "      <td>555</td>\n",
       "      <td>191</td>\n",
       "      <td>0.344</td>\n",
       "      <td>0.549575</td>\n",
       "    </tr>\n",
       "    <tr>\n",
       "      <th>5</th>\n",
       "      <td>Uganda</td>\n",
       "      <td>456</td>\n",
       "      <td>52</td>\n",
       "      <td>0.114</td>\n",
       "      <td>0.441860</td>\n",
       "    </tr>\n",
       "    <tr>\n",
       "      <th>6</th>\n",
       "      <td>Ethiopia_Tigray_2020</td>\n",
       "      <td>507</td>\n",
       "      <td>139</td>\n",
       "      <td>0.274</td>\n",
       "      <td>0.638132</td>\n",
       "    </tr>\n",
       "    <tr>\n",
       "      <th>7</th>\n",
       "      <td>Ethiopia_Tigray_2021</td>\n",
       "      <td>367</td>\n",
       "      <td>120</td>\n",
       "      <td>0.327</td>\n",
       "      <td>0.641148</td>\n",
       "    </tr>\n",
       "    <tr>\n",
       "      <th>8</th>\n",
       "      <td>Ethiopia_Bure_Jimma_2019</td>\n",
       "      <td>498</td>\n",
       "      <td>161</td>\n",
       "      <td>0.323</td>\n",
       "      <td>0.796296</td>\n",
       "    </tr>\n",
       "    <tr>\n",
       "      <th>9</th>\n",
       "      <td>Ethiopia_Bure_Jimma_2020</td>\n",
       "      <td>455</td>\n",
       "      <td>129</td>\n",
       "      <td>0.284</td>\n",
       "      <td>0.857143</td>\n",
       "    </tr>\n",
       "    <tr>\n",
       "      <th>10</th>\n",
       "      <td>Malawi_CEO_2020</td>\n",
       "      <td>457</td>\n",
       "      <td>67</td>\n",
       "      <td>0.147</td>\n",
       "      <td>0.202020</td>\n",
       "    </tr>\n",
       "    <tr>\n",
       "      <th>12</th>\n",
       "      <td>Tanzania_CEO_2019</td>\n",
       "      <td>2037</td>\n",
       "      <td>626</td>\n",
       "      <td>0.307</td>\n",
       "      <td>0.844167</td>\n",
       "    </tr>\n",
       "    <tr>\n",
       "      <th>14</th>\n",
       "      <td>Sudan_Blue_Nile_CEO_2019</td>\n",
       "      <td>526</td>\n",
       "      <td>173</td>\n",
       "      <td>0.329</td>\n",
       "      <td>0.910714</td>\n",
       "    </tr>\n",
       "    <tr>\n",
       "      <th>16</th>\n",
       "      <td>Senegal_CEO_2022</td>\n",
       "      <td>610</td>\n",
       "      <td>90</td>\n",
       "      <td>0.148</td>\n",
       "      <td>0.448000</td>\n",
       "    </tr>\n",
       "    <tr>\n",
       "      <th>18</th>\n",
       "      <td>SudanBlueNileCEO2020</td>\n",
       "      <td>533</td>\n",
       "      <td>121</td>\n",
       "      <td>0.227</td>\n",
       "      <td>0.770428</td>\n",
       "    </tr>\n",
       "    <tr>\n",
       "      <th>19</th>\n",
       "      <td>SudanAlGadarefCEO2019</td>\n",
       "      <td>533</td>\n",
       "      <td>135</td>\n",
       "      <td>0.253</td>\n",
       "      <td>0.586873</td>\n",
       "    </tr>\n",
       "    <tr>\n",
       "      <th>21</th>\n",
       "      <td>SudanAlGadarefCEO2020</td>\n",
       "      <td>532</td>\n",
       "      <td>202</td>\n",
       "      <td>0.380</td>\n",
       "      <td>0.676329</td>\n",
       "    </tr>\n",
       "    <tr>\n",
       "      <th>23</th>\n",
       "      <td>SudanGedarefDarfurAlJazirah2022</td>\n",
       "      <td>375</td>\n",
       "      <td>127</td>\n",
       "      <td>0.339</td>\n",
       "      <td>0.781116</td>\n",
       "    </tr>\n",
       "    <tr>\n",
       "      <th>24</th>\n",
       "      <td>Uganda_NorthCEO2022</td>\n",
       "      <td>319</td>\n",
       "      <td>56</td>\n",
       "      <td>0.176</td>\n",
       "      <td>0.345679</td>\n",
       "    </tr>\n",
       "  </tbody>\n",
       "</table>\n",
       "</div>"
      ],
      "text/plain": [
       "                               Name  Total  Crop Amount  Crop Rate  \\\n",
       "1               Mali_lower_CEO_2019    271           94      0.347   \n",
       "3                              Togo    310          107      0.345   \n",
       "4                            Rwanda    555          191      0.344   \n",
       "5                            Uganda    456           52      0.114   \n",
       "6              Ethiopia_Tigray_2020    507          139      0.274   \n",
       "7              Ethiopia_Tigray_2021    367          120      0.327   \n",
       "8          Ethiopia_Bure_Jimma_2019    498          161      0.323   \n",
       "9          Ethiopia_Bure_Jimma_2020    455          129      0.284   \n",
       "10                  Malawi_CEO_2020    457           67      0.147   \n",
       "12                Tanzania_CEO_2019   2037          626      0.307   \n",
       "14         Sudan_Blue_Nile_CEO_2019    526          173      0.329   \n",
       "16                 Senegal_CEO_2022    610           90      0.148   \n",
       "18             SudanBlueNileCEO2020    533          121      0.227   \n",
       "19            SudanAlGadarefCEO2019    533          135      0.253   \n",
       "21            SudanAlGadarefCEO2020    532          202      0.380   \n",
       "23  SudanGedarefDarfurAlJazirah2022    375          127      0.339   \n",
       "24              Uganda_NorthCEO2022    319           56      0.176   \n",
       "\n",
       "    RF Feb-Feb F1 Score  \n",
       "1              0.613757  \n",
       "3              0.756098  \n",
       "4              0.549575  \n",
       "5              0.441860  \n",
       "6              0.638132  \n",
       "7              0.641148  \n",
       "8              0.796296  \n",
       "9              0.857143  \n",
       "10             0.202020  \n",
       "12             0.844167  \n",
       "14             0.910714  \n",
       "16             0.448000  \n",
       "18             0.770428  \n",
       "19             0.586873  \n",
       "21             0.676329  \n",
       "23             0.781116  \n",
       "24             0.345679  "
      ]
     },
     "execution_count": 25,
     "metadata": {},
     "output_type": "execute_result"
    }
   ],
   "source": [
    "benchmark"
   ]
  },
  {
   "cell_type": "markdown",
   "id": "fcb92da9",
   "metadata": {},
   "source": [
    "## Presto Benchmark"
   ]
  },
  {
   "cell_type": "code",
   "execution_count": 39,
   "id": "0d54af51",
   "metadata": {},
   "outputs": [],
   "source": [
    "%load_ext autoreload\n",
    "%autoreload 2"
   ]
  },
  {
   "cell_type": "code",
   "execution_count": 12,
   "id": "17c71e11",
   "metadata": {},
   "outputs": [],
   "source": [
    "presto_benchmark = stats[~stats[\"Name\"].isin(not_representative + too_few_crops)].copy()"
   ]
  },
  {
   "cell_type": "code",
   "execution_count": 96,
   "id": "7b6e4903",
   "metadata": {},
   "outputs": [],
   "source": [
    "from src.single_file_presto_v2 import Presto, DEVICE, Aggregate\n",
    "\n",
    "import numpy as np\n",
    "import torch\n",
    "\n",
    "from copy import deepcopy\n",
    "from torch.utils.data import Dataset, DataLoader"
   ]
  },
  {
   "cell_type": "markdown",
   "id": "209caaaf",
   "metadata": {},
   "source": [
    "### Presto Encodings"
   ]
  },
  {
   "cell_type": "code",
   "execution_count": 97,
   "id": "aeec5ba1",
   "metadata": {},
   "outputs": [],
   "source": [
    "dw_mask = (torch.ones(12) * 9).long()\n",
    "\n",
    "class PrestoDataset(Dataset):\n",
    "    def __init__(self, arg_df, start_month=1):\n",
    "        xs_list = [normalize(x[start_month:start_month+12]) for x in arg_df[\"eo_data\"].to_list()]\n",
    "        self.xs_tensors = [torch.from_numpy(x).to(DEVICE).float() for x in xs_list]\n",
    "\n",
    "        self.latlons = [np.stack([lat, lon], axis=-1) for lat, lon in zip(arg_df[\"eo_lat\"].to_list(), arg_df[\"eo_lon\"].to_list())]\n",
    "        self.latlons_tensors = [torch.from_numpy(latlon).to(DEVICE).float() for latlon in self.latlons]\n",
    "        \n",
    "        self.is_crop_tensors = [torch.tensor(is_crop, dtype=torch.float32) for is_crop in arg_df[\"is_crop\"].astype(int).to_list()]\n",
    "        self.start_month = start_month\n",
    "        \n",
    "    def __len__(self):\n",
    "        return len(self.xs_tensors)\n",
    "    \n",
    "    def __getitem__(self, idx):\n",
    "        x = self.xs_tensors[idx]\n",
    "        latlons = self.latlons_tensors[idx]\n",
    "        is_crop = self.is_crop_tensors[idx]\n",
    "        return x, latlons, dw_mask, self.start_month, is_crop"
   ]
  },
  {
   "cell_type": "code",
   "execution_count": 98,
   "id": "eaf12d47",
   "metadata": {},
   "outputs": [],
   "source": [
    "DEFAULT_SEED = 42"
   ]
  },
  {
   "cell_type": "code",
   "execution_count": 99,
   "id": "87006785",
   "metadata": {},
   "outputs": [],
   "source": [
    "from sklearn.linear_model import LogisticRegression\n",
    "from sklearn.ensemble import RandomForestClassifier"
   ]
  },
  {
   "cell_type": "code",
   "execution_count": 100,
   "id": "a4cfaf77",
   "metadata": {},
   "outputs": [],
   "source": [
    "encoder_decoder = Presto.load_pretrained(\"../data/presto/default_model_v2.pt\")\n",
    "pretrained_model = encoder_decoder.encoder.eval()"
   ]
  },
  {
   "cell_type": "code",
   "execution_count": 101,
   "id": "cd9e5493",
   "metadata": {},
   "outputs": [],
   "source": [
    "def generate_encodings(dataset, aggregate):\n",
    "    dataloader = DataLoader(dataset=dataset, batch_size=64, shuffle=False)\n",
    "    feature_list = []\n",
    "    for (x, latlons, dw, start_month, _) in tqdm(dataloader, desc=\"Encodings\", leave=False):\n",
    "        with torch.no_grad():\n",
    "            encodings = (pretrained_model(\n",
    "                x, dynamic_world=dw, latlons=latlons, month=start_month, aggregate=aggregate\n",
    "            ).cpu().numpy())\n",
    "            feature_list.append(encodings)\n",
    "    return np.concatenate(feature_list)"
   ]
  },
  {
   "cell_type": "code",
   "execution_count": 102,
   "id": "a98ac408",
   "metadata": {},
   "outputs": [],
   "source": [
    "# Use Sklearn scaling of encodings\n",
    "from sklearn.pipeline import make_pipeline\n",
    "from sklearn.preprocessing import StandardScaler"
   ]
  },
  {
   "cell_type": "markdown",
   "id": "3da1c2e7",
   "metadata": {},
   "source": [
    "## Presto Encodings Benchmark"
   ]
  },
  {
   "cell_type": "code",
   "execution_count": 104,
   "id": "e5b4ae73",
   "metadata": {},
   "outputs": [
    {
     "data": {
      "application/vnd.jupyter.widget-view+json": {
       "model_id": "84cc0dcb39ea4ebb851fa5b918546d3c",
       "version_major": 2,
       "version_minor": 0
      },
      "text/plain": [
       "  0%|          | 0/17 [00:00<?, ?it/s]"
      ]
     },
     "metadata": {},
     "output_type": "display_data"
    },
    {
     "data": {
      "application/vnd.jupyter.widget-view+json": {
       "model_id": "",
       "version_major": 2,
       "version_minor": 0
      },
      "text/plain": [
       "Encodings:   0%|          | 0/22 [00:00<?, ?it/s]"
      ]
     },
     "metadata": {},
     "output_type": "display_data"
    },
    {
     "data": {
      "application/vnd.jupyter.widget-view+json": {
       "model_id": "",
       "version_major": 2,
       "version_minor": 0
      },
      "text/plain": [
       "Encodings:   0%|          | 0/5 [00:00<?, ?it/s]"
      ]
     },
     "metadata": {},
     "output_type": "display_data"
    },
    {
     "name": "stdout",
     "output_type": "stream",
     "text": [
      "Mali_lower_CEO_2019: 0.6198830409356726\n"
     ]
    },
    {
     "data": {
      "application/vnd.jupyter.widget-view+json": {
       "model_id": "",
       "version_major": 2,
       "version_minor": 0
      },
      "text/plain": [
       "Encodings:   0%|          | 0/21 [00:00<?, ?it/s]"
      ]
     },
     "metadata": {},
     "output_type": "display_data"
    },
    {
     "data": {
      "application/vnd.jupyter.widget-view+json": {
       "model_id": "",
       "version_major": 2,
       "version_minor": 0
      },
      "text/plain": [
       "Encodings:   0%|          | 0/5 [00:00<?, ?it/s]"
      ]
     },
     "metadata": {},
     "output_type": "display_data"
    },
    {
     "name": "stdout",
     "output_type": "stream",
     "text": [
      "Togo: 0.7317073170731708\n"
     ]
    },
    {
     "name": "stderr",
     "output_type": "stream",
     "text": [
      "/usr/local/Caskroom/miniconda/base/envs/landcover-mapping/lib/python3.9/site-packages/sklearn/linear_model/_logistic.py:458: ConvergenceWarning: lbfgs failed to converge (status=1):\n",
      "STOP: TOTAL NO. of ITERATIONS REACHED LIMIT.\n",
      "\n",
      "Increase the number of iterations (max_iter) or scale the data as shown in:\n",
      "    https://scikit-learn.org/stable/modules/preprocessing.html\n",
      "Please also refer to the documentation for alternative solver options:\n",
      "    https://scikit-learn.org/stable/modules/linear_model.html#logistic-regression\n",
      "  n_iter_i = _check_optimize_result(\n"
     ]
    },
    {
     "data": {
      "application/vnd.jupyter.widget-view+json": {
       "model_id": "",
       "version_major": 2,
       "version_minor": 0
      },
      "text/plain": [
       "Encodings:   0%|          | 0/19 [00:00<?, ?it/s]"
      ]
     },
     "metadata": {},
     "output_type": "display_data"
    },
    {
     "data": {
      "application/vnd.jupyter.widget-view+json": {
       "model_id": "",
       "version_major": 2,
       "version_minor": 0
      },
      "text/plain": [
       "Encodings:   0%|          | 0/9 [00:00<?, ?it/s]"
      ]
     },
     "metadata": {},
     "output_type": "display_data"
    },
    {
     "name": "stderr",
     "output_type": "stream",
     "text": [
      "/usr/local/Caskroom/miniconda/base/envs/landcover-mapping/lib/python3.9/site-packages/sklearn/linear_model/_logistic.py:458: ConvergenceWarning: lbfgs failed to converge (status=1):\n",
      "STOP: TOTAL NO. of ITERATIONS REACHED LIMIT.\n",
      "\n",
      "Increase the number of iterations (max_iter) or scale the data as shown in:\n",
      "    https://scikit-learn.org/stable/modules/preprocessing.html\n",
      "Please also refer to the documentation for alternative solver options:\n",
      "    https://scikit-learn.org/stable/modules/linear_model.html#logistic-regression\n",
      "  n_iter_i = _check_optimize_result(\n"
     ]
    },
    {
     "name": "stdout",
     "output_type": "stream",
     "text": [
      "Rwanda: 0.6847290640394088\n"
     ]
    },
    {
     "data": {
      "application/vnd.jupyter.widget-view+json": {
       "model_id": "",
       "version_major": 2,
       "version_minor": 0
      },
      "text/plain": [
       "Encodings:   0%|          | 0/319 [00:00<?, ?it/s]"
      ]
     },
     "metadata": {},
     "output_type": "display_data"
    },
    {
     "data": {
      "application/vnd.jupyter.widget-view+json": {
       "model_id": "",
       "version_major": 2,
       "version_minor": 0
      },
      "text/plain": [
       "Encodings:   0%|          | 0/8 [00:00<?, ?it/s]"
      ]
     },
     "metadata": {},
     "output_type": "display_data"
    },
    {
     "name": "stderr",
     "output_type": "stream",
     "text": [
      "/usr/local/Caskroom/miniconda/base/envs/landcover-mapping/lib/python3.9/site-packages/sklearn/linear_model/_logistic.py:458: ConvergenceWarning: lbfgs failed to converge (status=1):\n",
      "STOP: TOTAL NO. of ITERATIONS REACHED LIMIT.\n",
      "\n",
      "Increase the number of iterations (max_iter) or scale the data as shown in:\n",
      "    https://scikit-learn.org/stable/modules/preprocessing.html\n",
      "Please also refer to the documentation for alternative solver options:\n",
      "    https://scikit-learn.org/stable/modules/linear_model.html#logistic-regression\n",
      "  n_iter_i = _check_optimize_result(\n"
     ]
    },
    {
     "name": "stdout",
     "output_type": "stream",
     "text": [
      "Uganda: 0.5098039215686275\n"
     ]
    },
    {
     "data": {
      "application/vnd.jupyter.widget-view+json": {
       "model_id": "",
       "version_major": 2,
       "version_minor": 0
      },
      "text/plain": [
       "Encodings:   0%|          | 0/85 [00:00<?, ?it/s]"
      ]
     },
     "metadata": {},
     "output_type": "display_data"
    },
    {
     "data": {
      "application/vnd.jupyter.widget-view+json": {
       "model_id": "",
       "version_major": 2,
       "version_minor": 0
      },
      "text/plain": [
       "Encodings:   0%|          | 0/8 [00:00<?, ?it/s]"
      ]
     },
     "metadata": {},
     "output_type": "display_data"
    },
    {
     "name": "stderr",
     "output_type": "stream",
     "text": [
      "/usr/local/Caskroom/miniconda/base/envs/landcover-mapping/lib/python3.9/site-packages/sklearn/linear_model/_logistic.py:458: ConvergenceWarning: lbfgs failed to converge (status=1):\n",
      "STOP: TOTAL NO. of ITERATIONS REACHED LIMIT.\n",
      "\n",
      "Increase the number of iterations (max_iter) or scale the data as shown in:\n",
      "    https://scikit-learn.org/stable/modules/preprocessing.html\n",
      "Please also refer to the documentation for alternative solver options:\n",
      "    https://scikit-learn.org/stable/modules/linear_model.html#logistic-regression\n",
      "  n_iter_i = _check_optimize_result(\n"
     ]
    },
    {
     "name": "stdout",
     "output_type": "stream",
     "text": [
      "Ethiopia_Tigray_2020: 0.671480144404332\n"
     ]
    },
    {
     "data": {
      "application/vnd.jupyter.widget-view+json": {
       "model_id": "",
       "version_major": 2,
       "version_minor": 0
      },
      "text/plain": [
       "Encodings:   0%|          | 0/88 [00:00<?, ?it/s]"
      ]
     },
     "metadata": {},
     "output_type": "display_data"
    },
    {
     "data": {
      "application/vnd.jupyter.widget-view+json": {
       "model_id": "",
       "version_major": 2,
       "version_minor": 0
      },
      "text/plain": [
       "Encodings:   0%|          | 0/6 [00:00<?, ?it/s]"
      ]
     },
     "metadata": {},
     "output_type": "display_data"
    },
    {
     "name": "stdout",
     "output_type": "stream",
     "text": [
      "Ethiopia_Tigray_2021: 0.7222222222222223\n"
     ]
    },
    {
     "name": "stderr",
     "output_type": "stream",
     "text": [
      "/usr/local/Caskroom/miniconda/base/envs/landcover-mapping/lib/python3.9/site-packages/sklearn/linear_model/_logistic.py:458: ConvergenceWarning: lbfgs failed to converge (status=1):\n",
      "STOP: TOTAL NO. of ITERATIONS REACHED LIMIT.\n",
      "\n",
      "Increase the number of iterations (max_iter) or scale the data as shown in:\n",
      "    https://scikit-learn.org/stable/modules/preprocessing.html\n",
      "Please also refer to the documentation for alternative solver options:\n",
      "    https://scikit-learn.org/stable/modules/linear_model.html#logistic-regression\n",
      "  n_iter_i = _check_optimize_result(\n"
     ]
    },
    {
     "data": {
      "application/vnd.jupyter.widget-view+json": {
       "model_id": "",
       "version_major": 2,
       "version_minor": 0
      },
      "text/plain": [
       "Encodings:   0%|          | 0/33 [00:00<?, ?it/s]"
      ]
     },
     "metadata": {},
     "output_type": "display_data"
    },
    {
     "data": {
      "application/vnd.jupyter.widget-view+json": {
       "model_id": "",
       "version_major": 2,
       "version_minor": 0
      },
      "text/plain": [
       "Encodings:   0%|          | 0/8 [00:00<?, ?it/s]"
      ]
     },
     "metadata": {},
     "output_type": "display_data"
    },
    {
     "name": "stdout",
     "output_type": "stream",
     "text": [
      "Ethiopia_Bure_Jimma_2019: 0.8571428571428571\n"
     ]
    },
    {
     "name": "stderr",
     "output_type": "stream",
     "text": [
      "/usr/local/Caskroom/miniconda/base/envs/landcover-mapping/lib/python3.9/site-packages/sklearn/linear_model/_logistic.py:458: ConvergenceWarning: lbfgs failed to converge (status=1):\n",
      "STOP: TOTAL NO. of ITERATIONS REACHED LIMIT.\n",
      "\n",
      "Increase the number of iterations (max_iter) or scale the data as shown in:\n",
      "    https://scikit-learn.org/stable/modules/preprocessing.html\n",
      "Please also refer to the documentation for alternative solver options:\n",
      "    https://scikit-learn.org/stable/modules/linear_model.html#logistic-regression\n",
      "  n_iter_i = _check_optimize_result(\n"
     ]
    },
    {
     "data": {
      "application/vnd.jupyter.widget-view+json": {
       "model_id": "",
       "version_major": 2,
       "version_minor": 0
      },
      "text/plain": [
       "Encodings:   0%|          | 0/34 [00:00<?, ?it/s]"
      ]
     },
     "metadata": {},
     "output_type": "display_data"
    },
    {
     "data": {
      "application/vnd.jupyter.widget-view+json": {
       "model_id": "",
       "version_major": 2,
       "version_minor": 0
      },
      "text/plain": [
       "Encodings:   0%|          | 0/8 [00:00<?, ?it/s]"
      ]
     },
     "metadata": {},
     "output_type": "display_data"
    },
    {
     "name": "stderr",
     "output_type": "stream",
     "text": [
      "/usr/local/Caskroom/miniconda/base/envs/landcover-mapping/lib/python3.9/site-packages/sklearn/linear_model/_logistic.py:458: ConvergenceWarning: lbfgs failed to converge (status=1):\n",
      "STOP: TOTAL NO. of ITERATIONS REACHED LIMIT.\n",
      "\n",
      "Increase the number of iterations (max_iter) or scale the data as shown in:\n",
      "    https://scikit-learn.org/stable/modules/preprocessing.html\n",
      "Please also refer to the documentation for alternative solver options:\n",
      "    https://scikit-learn.org/stable/modules/linear_model.html#logistic-regression\n",
      "  n_iter_i = _check_optimize_result(\n"
     ]
    },
    {
     "name": "stdout",
     "output_type": "stream",
     "text": [
      "Ethiopia_Bure_Jimma_2020: 0.8673835125448028\n"
     ]
    },
    {
     "data": {
      "application/vnd.jupyter.widget-view+json": {
       "model_id": "",
       "version_major": 2,
       "version_minor": 0
      },
      "text/plain": [
       "Encodings:   0%|          | 0/116 [00:00<?, ?it/s]"
      ]
     },
     "metadata": {},
     "output_type": "display_data"
    },
    {
     "data": {
      "application/vnd.jupyter.widget-view+json": {
       "model_id": "",
       "version_major": 2,
       "version_minor": 0
      },
      "text/plain": [
       "Encodings:   0%|          | 0/8 [00:00<?, ?it/s]"
      ]
     },
     "metadata": {},
     "output_type": "display_data"
    },
    {
     "name": "stderr",
     "output_type": "stream",
     "text": [
      "/usr/local/Caskroom/miniconda/base/envs/landcover-mapping/lib/python3.9/site-packages/sklearn/linear_model/_logistic.py:458: ConvergenceWarning: lbfgs failed to converge (status=1):\n",
      "STOP: TOTAL NO. of ITERATIONS REACHED LIMIT.\n",
      "\n",
      "Increase the number of iterations (max_iter) or scale the data as shown in:\n",
      "    https://scikit-learn.org/stable/modules/preprocessing.html\n",
      "Please also refer to the documentation for alternative solver options:\n",
      "    https://scikit-learn.org/stable/modules/linear_model.html#logistic-regression\n",
      "  n_iter_i = _check_optimize_result(\n"
     ]
    },
    {
     "name": "stdout",
     "output_type": "stream",
     "text": [
      "Malawi_CEO_2020: 0.4079601990049751\n"
     ]
    },
    {
     "data": {
      "application/vnd.jupyter.widget-view+json": {
       "model_id": "",
       "version_major": 2,
       "version_minor": 0
      },
      "text/plain": [
       "Encodings:   0%|          | 0/408 [00:00<?, ?it/s]"
      ]
     },
     "metadata": {},
     "output_type": "display_data"
    },
    {
     "data": {
      "application/vnd.jupyter.widget-view+json": {
       "model_id": "",
       "version_major": 2,
       "version_minor": 0
      },
      "text/plain": [
       "Encodings:   0%|          | 0/32 [00:00<?, ?it/s]"
      ]
     },
     "metadata": {},
     "output_type": "display_data"
    },
    {
     "name": "stderr",
     "output_type": "stream",
     "text": [
      "/usr/local/Caskroom/miniconda/base/envs/landcover-mapping/lib/python3.9/site-packages/sklearn/linear_model/_logistic.py:458: ConvergenceWarning: lbfgs failed to converge (status=1):\n",
      "STOP: TOTAL NO. of ITERATIONS REACHED LIMIT.\n",
      "\n",
      "Increase the number of iterations (max_iter) or scale the data as shown in:\n",
      "    https://scikit-learn.org/stable/modules/preprocessing.html\n",
      "Please also refer to the documentation for alternative solver options:\n",
      "    https://scikit-learn.org/stable/modules/linear_model.html#logistic-regression\n",
      "  n_iter_i = _check_optimize_result(\n"
     ]
    },
    {
     "name": "stdout",
     "output_type": "stream",
     "text": [
      "Tanzania_CEO_2019: 0.8313155770782888\n"
     ]
    },
    {
     "data": {
      "application/vnd.jupyter.widget-view+json": {
       "model_id": "",
       "version_major": 2,
       "version_minor": 0
      },
      "text/plain": [
       "Encodings:   0%|          | 0/39 [00:00<?, ?it/s]"
      ]
     },
     "metadata": {},
     "output_type": "display_data"
    },
    {
     "data": {
      "application/vnd.jupyter.widget-view+json": {
       "model_id": "",
       "version_major": 2,
       "version_minor": 0
      },
      "text/plain": [
       "Encodings:   0%|          | 0/9 [00:00<?, ?it/s]"
      ]
     },
     "metadata": {},
     "output_type": "display_data"
    },
    {
     "name": "stdout",
     "output_type": "stream",
     "text": [
      "Sudan_Blue_Nile_CEO_2019: 0.9201101928374655\n"
     ]
    },
    {
     "data": {
      "application/vnd.jupyter.widget-view+json": {
       "model_id": "",
       "version_major": 2,
       "version_minor": 0
      },
      "text/plain": [
       "Encodings:   0%|          | 0/39 [00:00<?, ?it/s]"
      ]
     },
     "metadata": {},
     "output_type": "display_data"
    },
    {
     "data": {
      "application/vnd.jupyter.widget-view+json": {
       "model_id": "",
       "version_major": 2,
       "version_minor": 0
      },
      "text/plain": [
       "Encodings:   0%|          | 0/9 [00:00<?, ?it/s]"
      ]
     },
     "metadata": {},
     "output_type": "display_data"
    },
    {
     "name": "stdout",
     "output_type": "stream",
     "text": [
      "SudanBlueNileCEO2020: 0.7789473684210527\n"
     ]
    },
    {
     "data": {
      "application/vnd.jupyter.widget-view+json": {
       "model_id": "",
       "version_major": 2,
       "version_minor": 0
      },
      "text/plain": [
       "Encodings:   0%|          | 0/19 [00:00<?, ?it/s]"
      ]
     },
     "metadata": {},
     "output_type": "display_data"
    },
    {
     "data": {
      "application/vnd.jupyter.widget-view+json": {
       "model_id": "",
       "version_major": 2,
       "version_minor": 0
      },
      "text/plain": [
       "Encodings:   0%|          | 0/10 [00:00<?, ?it/s]"
      ]
     },
     "metadata": {},
     "output_type": "display_data"
    },
    {
     "name": "stderr",
     "output_type": "stream",
     "text": [
      "/usr/local/Caskroom/miniconda/base/envs/landcover-mapping/lib/python3.9/site-packages/sklearn/linear_model/_logistic.py:458: ConvergenceWarning: lbfgs failed to converge (status=1):\n",
      "STOP: TOTAL NO. of ITERATIONS REACHED LIMIT.\n",
      "\n",
      "Increase the number of iterations (max_iter) or scale the data as shown in:\n",
      "    https://scikit-learn.org/stable/modules/preprocessing.html\n",
      "Please also refer to the documentation for alternative solver options:\n",
      "    https://scikit-learn.org/stable/modules/linear_model.html#logistic-regression\n",
      "  n_iter_i = _check_optimize_result(\n"
     ]
    },
    {
     "name": "stdout",
     "output_type": "stream",
     "text": [
      "Senegal_CEO_2022: 0.6244343891402715\n"
     ]
    },
    {
     "data": {
      "application/vnd.jupyter.widget-view+json": {
       "model_id": "",
       "version_major": 2,
       "version_minor": 0
      },
      "text/plain": [
       "Encodings:   0%|          | 0/54 [00:00<?, ?it/s]"
      ]
     },
     "metadata": {},
     "output_type": "display_data"
    },
    {
     "data": {
      "application/vnd.jupyter.widget-view+json": {
       "model_id": "",
       "version_major": 2,
       "version_minor": 0
      },
      "text/plain": [
       "Encodings:   0%|          | 0/9 [00:00<?, ?it/s]"
      ]
     },
     "metadata": {},
     "output_type": "display_data"
    },
    {
     "name": "stdout",
     "output_type": "stream",
     "text": [
      "SudanAlGadarefCEO2019: 0.5892857142857143\n"
     ]
    },
    {
     "name": "stderr",
     "output_type": "stream",
     "text": [
      "/usr/local/Caskroom/miniconda/base/envs/landcover-mapping/lib/python3.9/site-packages/sklearn/linear_model/_logistic.py:458: ConvergenceWarning: lbfgs failed to converge (status=1):\n",
      "STOP: TOTAL NO. of ITERATIONS REACHED LIMIT.\n",
      "\n",
      "Increase the number of iterations (max_iter) or scale the data as shown in:\n",
      "    https://scikit-learn.org/stable/modules/preprocessing.html\n",
      "Please also refer to the documentation for alternative solver options:\n",
      "    https://scikit-learn.org/stable/modules/linear_model.html#logistic-regression\n",
      "  n_iter_i = _check_optimize_result(\n"
     ]
    },
    {
     "data": {
      "application/vnd.jupyter.widget-view+json": {
       "model_id": "",
       "version_major": 2,
       "version_minor": 0
      },
      "text/plain": [
       "Encodings:   0%|          | 0/54 [00:00<?, ?it/s]"
      ]
     },
     "metadata": {},
     "output_type": "display_data"
    },
    {
     "data": {
      "application/vnd.jupyter.widget-view+json": {
       "model_id": "",
       "version_major": 2,
       "version_minor": 0
      },
      "text/plain": [
       "Encodings:   0%|          | 0/9 [00:00<?, ?it/s]"
      ]
     },
     "metadata": {},
     "output_type": "display_data"
    },
    {
     "name": "stderr",
     "output_type": "stream",
     "text": [
      "/usr/local/Caskroom/miniconda/base/envs/landcover-mapping/lib/python3.9/site-packages/sklearn/linear_model/_logistic.py:458: ConvergenceWarning: lbfgs failed to converge (status=1):\n",
      "STOP: TOTAL NO. of ITERATIONS REACHED LIMIT.\n",
      "\n",
      "Increase the number of iterations (max_iter) or scale the data as shown in:\n",
      "    https://scikit-learn.org/stable/modules/preprocessing.html\n",
      "Please also refer to the documentation for alternative solver options:\n",
      "    https://scikit-learn.org/stable/modules/linear_model.html#logistic-regression\n",
      "  n_iter_i = _check_optimize_result(\n"
     ]
    },
    {
     "name": "stdout",
     "output_type": "stream",
     "text": [
      "SudanAlGadarefCEO2020: 0.7209775967413442\n"
     ]
    },
    {
     "data": {
      "application/vnd.jupyter.widget-view+json": {
       "model_id": "",
       "version_major": 2,
       "version_minor": 0
      },
      "text/plain": [
       "Encodings:   0%|          | 0/140 [00:00<?, ?it/s]"
      ]
     },
     "metadata": {},
     "output_type": "display_data"
    },
    {
     "data": {
      "application/vnd.jupyter.widget-view+json": {
       "model_id": "",
       "version_major": 2,
       "version_minor": 0
      },
      "text/plain": [
       "Encodings:   0%|          | 0/6 [00:00<?, ?it/s]"
      ]
     },
     "metadata": {},
     "output_type": "display_data"
    },
    {
     "name": "stderr",
     "output_type": "stream",
     "text": [
      "/usr/local/Caskroom/miniconda/base/envs/landcover-mapping/lib/python3.9/site-packages/sklearn/linear_model/_logistic.py:458: ConvergenceWarning: lbfgs failed to converge (status=1):\n",
      "STOP: TOTAL NO. of ITERATIONS REACHED LIMIT.\n",
      "\n",
      "Increase the number of iterations (max_iter) or scale the data as shown in:\n",
      "    https://scikit-learn.org/stable/modules/preprocessing.html\n",
      "Please also refer to the documentation for alternative solver options:\n",
      "    https://scikit-learn.org/stable/modules/linear_model.html#logistic-regression\n",
      "  n_iter_i = _check_optimize_result(\n"
     ]
    },
    {
     "name": "stdout",
     "output_type": "stream",
     "text": [
      "SudanGedarefDarfurAlJazirah2022: 0.7615658362989324\n"
     ]
    },
    {
     "data": {
      "application/vnd.jupyter.widget-view+json": {
       "model_id": "",
       "version_major": 2,
       "version_minor": 0
      },
      "text/plain": [
       "Encodings:   0%|          | 0/321 [00:00<?, ?it/s]"
      ]
     },
     "metadata": {},
     "output_type": "display_data"
    },
    {
     "data": {
      "application/vnd.jupyter.widget-view+json": {
       "model_id": "",
       "version_major": 2,
       "version_minor": 0
      },
      "text/plain": [
       "Encodings:   0%|          | 0/5 [00:00<?, ?it/s]"
      ]
     },
     "metadata": {},
     "output_type": "display_data"
    },
    {
     "name": "stdout",
     "output_type": "stream",
     "text": [
      "Uganda_NorthCEO2022: 0.4333333333333333\n"
     ]
    },
    {
     "name": "stderr",
     "output_type": "stream",
     "text": [
      "/usr/local/Caskroom/miniconda/base/envs/landcover-mapping/lib/python3.9/site-packages/sklearn/linear_model/_logistic.py:458: ConvergenceWarning: lbfgs failed to converge (status=1):\n",
      "STOP: TOTAL NO. of ITERATIONS REACHED LIMIT.\n",
      "\n",
      "Increase the number of iterations (max_iter) or scale the data as shown in:\n",
      "    https://scikit-learn.org/stable/modules/preprocessing.html\n",
      "Please also refer to the documentation for alternative solver options:\n",
      "    https://scikit-learn.org/stable/modules/linear_model.html#logistic-regression\n",
      "  n_iter_i = _check_optimize_result(\n"
     ]
    }
   ],
   "source": [
    "f1_scores = {}\n",
    "for dataset_name, bbox_name in tqdm(dataset_name_to_bbox_name.items()):\n",
    "    buf = 0\n",
    "    is_local_lat = (df.lat >= (bboxes[bbox_name].min_lat - buf)) & (df.lat <= (bboxes[bbox_name].max_lat + buf))\n",
    "    is_local_lon = (df.lon >= (bboxes[bbox_name].min_lon - buf)) & (df.lon <= (bboxes[bbox_name].max_lon + buf))\n",
    "    \n",
    "    is_test = (df[\"name\"] == dataset_name) & (df[\"subset\"] == \"testing\")\n",
    "    test_df = df[is_test]    \n",
    "    train_df = df[~is_test & is_local_lat & is_local_lon]\n",
    " \n",
    "    train_dataset = PrestoDataset(train_df, start_month=1)\n",
    "    test_dataset = PrestoDataset(test_df, start_month=1) \n",
    "    X_train = generate_encodings(train_dataset, Aggregate.BAND_GROUPS_MEAN)\n",
    "    X_test = generate_encodings(test_dataset, Aggregate.BAND_GROUPS_MEAN)\n",
    "    \n",
    "    y_train = train_df[\"is_crop\"].to_list() \n",
    "    y_test = test_df[\"is_crop\"].to_list()\n",
    "    \n",
    "    model = LogisticRegression(class_weight=\"balanced\", max_iter=1000, random_state=DEFAULT_SEED)\n",
    "    #pipe = make_pipeline(StandardScaler(), model)\n",
    "    #pipe.fit(X_train, y_train)\n",
    "    #model = RandomForestClassifier(class_weight=\"balanced\", random_state=DEFAULT_SEED)\n",
    "    model.fit(X_train, y_train)\n",
    "    \n",
    "    #y_pred = model.predict(X_test)\n",
    "    y_pred_proba = model.predict_proba(X_test)[:, 1]\n",
    "    y_pred = (y_pred_proba > 0.5).astype(int)\n",
    "    \n",
    "    f1_scores[dataset_name] = f1_score(y_test, y_pred)\n",
    "    print(f\"{dataset_name}: {f1_scores[dataset_name]}\")"
   ]
  },
  {
   "cell_type": "code",
   "execution_count": 105,
   "id": "83931aea",
   "metadata": {},
   "outputs": [],
   "source": [
    "benchmark_name = \"Presto LR Feb-Feb F1 Score (no DW, band group encodings, per group LayerNorm)\"\n",
    "for dataset, f1 in f1_scores.items():\n",
    "    presto_benchmark.loc[presto_benchmark[\"Name\"] == dataset, benchmark_name] = f1\n",
    "    "
   ]
  },
  {
   "cell_type": "code",
   "execution_count": 106,
   "id": "042873fd",
   "metadata": {},
   "outputs": [
    {
     "data": {
      "text/html": [
       "<div>\n",
       "<style scoped>\n",
       "    .dataframe tbody tr th:only-of-type {\n",
       "        vertical-align: middle;\n",
       "    }\n",
       "\n",
       "    .dataframe tbody tr th {\n",
       "        vertical-align: top;\n",
       "    }\n",
       "\n",
       "    .dataframe thead th {\n",
       "        text-align: right;\n",
       "    }\n",
       "</style>\n",
       "<table border=\"1\" class=\"dataframe\">\n",
       "  <thead>\n",
       "    <tr style=\"text-align: right;\">\n",
       "      <th></th>\n",
       "      <th>Name</th>\n",
       "      <th>Total</th>\n",
       "      <th>Crop Amount</th>\n",
       "      <th>Crop Rate</th>\n",
       "      <th>Presto LR Mar-Mar F1 Score (no DW, band group encodings, no norm)</th>\n",
       "      <th>Presto LR Mar-Mar F1 Score (no DW, band group encodings, per group norm)</th>\n",
       "      <th>Presto LR Mar-Mar F1 Score (no DW, band group encodings, sklearn StandardScaler)</th>\n",
       "      <th>Presto LR Feb-Feb F1 Score (no DW, band group encodings, per group LayerNorm)</th>\n",
       "    </tr>\n",
       "  </thead>\n",
       "  <tbody>\n",
       "    <tr>\n",
       "      <th>1</th>\n",
       "      <td>Mali_lower_CEO_2019</td>\n",
       "      <td>271</td>\n",
       "      <td>94</td>\n",
       "      <td>0.347</td>\n",
       "      <td>0.602273</td>\n",
       "      <td>0.609195</td>\n",
       "      <td>0.576087</td>\n",
       "      <td>0.619883</td>\n",
       "    </tr>\n",
       "    <tr>\n",
       "      <th>3</th>\n",
       "      <td>Togo</td>\n",
       "      <td>310</td>\n",
       "      <td>107</td>\n",
       "      <td>0.345</td>\n",
       "      <td>0.742857</td>\n",
       "      <td>0.741935</td>\n",
       "      <td>0.742857</td>\n",
       "      <td>0.731707</td>\n",
       "    </tr>\n",
       "    <tr>\n",
       "      <th>4</th>\n",
       "      <td>Rwanda</td>\n",
       "      <td>555</td>\n",
       "      <td>191</td>\n",
       "      <td>0.344</td>\n",
       "      <td>0.666667</td>\n",
       "      <td>0.682927</td>\n",
       "      <td>0.663342</td>\n",
       "      <td>0.684729</td>\n",
       "    </tr>\n",
       "    <tr>\n",
       "      <th>5</th>\n",
       "      <td>Uganda</td>\n",
       "      <td>456</td>\n",
       "      <td>52</td>\n",
       "      <td>0.114</td>\n",
       "      <td>0.472050</td>\n",
       "      <td>0.465409</td>\n",
       "      <td>0.465409</td>\n",
       "      <td>0.509804</td>\n",
       "    </tr>\n",
       "    <tr>\n",
       "      <th>6</th>\n",
       "      <td>Ethiopia_Tigray_2020</td>\n",
       "      <td>507</td>\n",
       "      <td>139</td>\n",
       "      <td>0.274</td>\n",
       "      <td>0.666667</td>\n",
       "      <td>0.654412</td>\n",
       "      <td>0.654275</td>\n",
       "      <td>0.671480</td>\n",
       "    </tr>\n",
       "    <tr>\n",
       "      <th>7</th>\n",
       "      <td>Ethiopia_Tigray_2021</td>\n",
       "      <td>367</td>\n",
       "      <td>120</td>\n",
       "      <td>0.327</td>\n",
       "      <td>0.712963</td>\n",
       "      <td>0.694836</td>\n",
       "      <td>0.712329</td>\n",
       "      <td>0.722222</td>\n",
       "    </tr>\n",
       "    <tr>\n",
       "      <th>8</th>\n",
       "      <td>Ethiopia_Bure_Jimma_2019</td>\n",
       "      <td>498</td>\n",
       "      <td>161</td>\n",
       "      <td>0.323</td>\n",
       "      <td>0.868263</td>\n",
       "      <td>0.867257</td>\n",
       "      <td>0.861446</td>\n",
       "      <td>0.857143</td>\n",
       "    </tr>\n",
       "    <tr>\n",
       "      <th>9</th>\n",
       "      <td>Ethiopia_Bure_Jimma_2020</td>\n",
       "      <td>455</td>\n",
       "      <td>129</td>\n",
       "      <td>0.284</td>\n",
       "      <td>0.827338</td>\n",
       "      <td>0.845878</td>\n",
       "      <td>0.826568</td>\n",
       "      <td>0.867384</td>\n",
       "    </tr>\n",
       "    <tr>\n",
       "      <th>10</th>\n",
       "      <td>Malawi_CEO_2020</td>\n",
       "      <td>457</td>\n",
       "      <td>67</td>\n",
       "      <td>0.147</td>\n",
       "      <td>0.340659</td>\n",
       "      <td>0.381443</td>\n",
       "      <td>0.352273</td>\n",
       "      <td>0.407960</td>\n",
       "    </tr>\n",
       "    <tr>\n",
       "      <th>12</th>\n",
       "      <td>Tanzania_CEO_2019</td>\n",
       "      <td>2037</td>\n",
       "      <td>626</td>\n",
       "      <td>0.307</td>\n",
       "      <td>0.827200</td>\n",
       "      <td>0.843875</td>\n",
       "      <td>0.844051</td>\n",
       "      <td>0.831316</td>\n",
       "    </tr>\n",
       "    <tr>\n",
       "      <th>14</th>\n",
       "      <td>Sudan_Blue_Nile_CEO_2019</td>\n",
       "      <td>526</td>\n",
       "      <td>173</td>\n",
       "      <td>0.329</td>\n",
       "      <td>0.911602</td>\n",
       "      <td>0.922652</td>\n",
       "      <td>0.901099</td>\n",
       "      <td>0.920110</td>\n",
       "    </tr>\n",
       "    <tr>\n",
       "      <th>16</th>\n",
       "      <td>Senegal_CEO_2022</td>\n",
       "      <td>610</td>\n",
       "      <td>90</td>\n",
       "      <td>0.148</td>\n",
       "      <td>0.622642</td>\n",
       "      <td>0.611111</td>\n",
       "      <td>0.616114</td>\n",
       "      <td>0.624434</td>\n",
       "    </tr>\n",
       "    <tr>\n",
       "      <th>18</th>\n",
       "      <td>SudanBlueNileCEO2020</td>\n",
       "      <td>533</td>\n",
       "      <td>121</td>\n",
       "      <td>0.227</td>\n",
       "      <td>0.782007</td>\n",
       "      <td>0.787671</td>\n",
       "      <td>0.773050</td>\n",
       "      <td>0.778947</td>\n",
       "    </tr>\n",
       "    <tr>\n",
       "      <th>19</th>\n",
       "      <td>SudanAlGadarefCEO2019</td>\n",
       "      <td>533</td>\n",
       "      <td>135</td>\n",
       "      <td>0.253</td>\n",
       "      <td>0.602410</td>\n",
       "      <td>0.600000</td>\n",
       "      <td>0.591900</td>\n",
       "      <td>0.589286</td>\n",
       "    </tr>\n",
       "    <tr>\n",
       "      <th>21</th>\n",
       "      <td>SudanAlGadarefCEO2020</td>\n",
       "      <td>532</td>\n",
       "      <td>202</td>\n",
       "      <td>0.380</td>\n",
       "      <td>0.714588</td>\n",
       "      <td>0.700210</td>\n",
       "      <td>0.711864</td>\n",
       "      <td>0.720978</td>\n",
       "    </tr>\n",
       "    <tr>\n",
       "      <th>23</th>\n",
       "      <td>SudanGedarefDarfurAlJazirah2022</td>\n",
       "      <td>375</td>\n",
       "      <td>127</td>\n",
       "      <td>0.339</td>\n",
       "      <td>0.792857</td>\n",
       "      <td>0.767025</td>\n",
       "      <td>0.787234</td>\n",
       "      <td>0.761566</td>\n",
       "    </tr>\n",
       "    <tr>\n",
       "      <th>24</th>\n",
       "      <td>Uganda_NorthCEO2022</td>\n",
       "      <td>319</td>\n",
       "      <td>56</td>\n",
       "      <td>0.176</td>\n",
       "      <td>0.448000</td>\n",
       "      <td>0.466667</td>\n",
       "      <td>0.412698</td>\n",
       "      <td>0.433333</td>\n",
       "    </tr>\n",
       "  </tbody>\n",
       "</table>\n",
       "</div>"
      ],
      "text/plain": [
       "                               Name  Total  Crop Amount  Crop Rate  \\\n",
       "1               Mali_lower_CEO_2019    271           94      0.347   \n",
       "3                              Togo    310          107      0.345   \n",
       "4                            Rwanda    555          191      0.344   \n",
       "5                            Uganda    456           52      0.114   \n",
       "6              Ethiopia_Tigray_2020    507          139      0.274   \n",
       "7              Ethiopia_Tigray_2021    367          120      0.327   \n",
       "8          Ethiopia_Bure_Jimma_2019    498          161      0.323   \n",
       "9          Ethiopia_Bure_Jimma_2020    455          129      0.284   \n",
       "10                  Malawi_CEO_2020    457           67      0.147   \n",
       "12                Tanzania_CEO_2019   2037          626      0.307   \n",
       "14         Sudan_Blue_Nile_CEO_2019    526          173      0.329   \n",
       "16                 Senegal_CEO_2022    610           90      0.148   \n",
       "18             SudanBlueNileCEO2020    533          121      0.227   \n",
       "19            SudanAlGadarefCEO2019    533          135      0.253   \n",
       "21            SudanAlGadarefCEO2020    532          202      0.380   \n",
       "23  SudanGedarefDarfurAlJazirah2022    375          127      0.339   \n",
       "24              Uganda_NorthCEO2022    319           56      0.176   \n",
       "\n",
       "    Presto LR Mar-Mar F1 Score (no DW, band group encodings, no norm)  \\\n",
       "1                                            0.602273                   \n",
       "3                                            0.742857                   \n",
       "4                                            0.666667                   \n",
       "5                                            0.472050                   \n",
       "6                                            0.666667                   \n",
       "7                                            0.712963                   \n",
       "8                                            0.868263                   \n",
       "9                                            0.827338                   \n",
       "10                                           0.340659                   \n",
       "12                                           0.827200                   \n",
       "14                                           0.911602                   \n",
       "16                                           0.622642                   \n",
       "18                                           0.782007                   \n",
       "19                                           0.602410                   \n",
       "21                                           0.714588                   \n",
       "23                                           0.792857                   \n",
       "24                                           0.448000                   \n",
       "\n",
       "    Presto LR Mar-Mar F1 Score (no DW, band group encodings, per group norm)  \\\n",
       "1                                            0.609195                          \n",
       "3                                            0.741935                          \n",
       "4                                            0.682927                          \n",
       "5                                            0.465409                          \n",
       "6                                            0.654412                          \n",
       "7                                            0.694836                          \n",
       "8                                            0.867257                          \n",
       "9                                            0.845878                          \n",
       "10                                           0.381443                          \n",
       "12                                           0.843875                          \n",
       "14                                           0.922652                          \n",
       "16                                           0.611111                          \n",
       "18                                           0.787671                          \n",
       "19                                           0.600000                          \n",
       "21                                           0.700210                          \n",
       "23                                           0.767025                          \n",
       "24                                           0.466667                          \n",
       "\n",
       "    Presto LR Mar-Mar F1 Score (no DW, band group encodings, sklearn StandardScaler)  \\\n",
       "1                                            0.576087                                  \n",
       "3                                            0.742857                                  \n",
       "4                                            0.663342                                  \n",
       "5                                            0.465409                                  \n",
       "6                                            0.654275                                  \n",
       "7                                            0.712329                                  \n",
       "8                                            0.861446                                  \n",
       "9                                            0.826568                                  \n",
       "10                                           0.352273                                  \n",
       "12                                           0.844051                                  \n",
       "14                                           0.901099                                  \n",
       "16                                           0.616114                                  \n",
       "18                                           0.773050                                  \n",
       "19                                           0.591900                                  \n",
       "21                                           0.711864                                  \n",
       "23                                           0.787234                                  \n",
       "24                                           0.412698                                  \n",
       "\n",
       "    Presto LR Feb-Feb F1 Score (no DW, band group encodings, per group LayerNorm)  \n",
       "1                                            0.619883                              \n",
       "3                                            0.731707                              \n",
       "4                                            0.684729                              \n",
       "5                                            0.509804                              \n",
       "6                                            0.671480                              \n",
       "7                                            0.722222                              \n",
       "8                                            0.857143                              \n",
       "9                                            0.867384                              \n",
       "10                                           0.407960                              \n",
       "12                                           0.831316                              \n",
       "14                                           0.920110                              \n",
       "16                                           0.624434                              \n",
       "18                                           0.778947                              \n",
       "19                                           0.589286                              \n",
       "21                                           0.720978                              \n",
       "23                                           0.761566                              \n",
       "24                                           0.433333                              "
      ]
     },
     "execution_count": 106,
     "metadata": {},
     "output_type": "execute_result"
    }
   ],
   "source": [
    "presto_benchmark"
   ]
  },
  {
   "cell_type": "markdown",
   "id": "76639e91",
   "metadata": {},
   "source": [
    "## Presto Finetuning Benchmark"
   ]
  },
  {
   "cell_type": "code",
   "execution_count": 43,
   "id": "efd2a5d5",
   "metadata": {},
   "outputs": [],
   "source": [
    "from torch import nn\n",
    "from torch.optim import Adam"
   ]
  },
  {
   "cell_type": "code",
   "execution_count": 75,
   "id": "29e4f5a1",
   "metadata": {},
   "outputs": [],
   "source": [
    "lr = 3e-4\n",
    "batch_size = 64\n",
    "max_epochs = 10"
   ]
  },
  {
   "cell_type": "code",
   "execution_count": 84,
   "id": "a6173744",
   "metadata": {},
   "outputs": [],
   "source": [
    "dataset_name = \"Togo\"\n",
    "bbox_name = \"Togo\"\n",
    "\n",
    "is_local_lat = (df.lat >= (bboxes[bbox_name].min_lat - buf)) & (df.lat <= (bboxes[bbox_name].max_lat + buf))\n",
    "is_local_lon = (df.lon >= (bboxes[bbox_name].min_lon - buf)) & (df.lon <= (bboxes[bbox_name].max_lon + buf))\n",
    "\n",
    "is_test = (df[\"name\"] == dataset_name) & (df[\"subset\"] == \"testing\")\n",
    "is_val = (df[\"name\"] == dataset_name) & (df[\"subset\"] == \"validation\")\n",
    "test_df = df[is_test]    \n",
    "val_df = df[is_val]\n",
    "train_df = df[~is_test & ~is_val & is_local_lat & is_local_lon]\n",
    "\n",
    "train_dataset = PrestoDataset(train_df, start_month=1)\n",
    "val_dataset = PrestoDataset(val_df, start_month=1)\n",
    "test_dataset = PrestoDataset(test_df, start_month=1) \n",
    "\n",
    "train_dl = DataLoader(dataset=train_dataset, batch_size=batch_size, shuffle=True)\n",
    "val_dl = DataLoader(dataset=val_dataset, batch_size=batch_size, shuffle=False)\n",
    "test_dl = DataLoader(dataset=test_dataset, batch_size=batch_size, shuffle=False)"
   ]
  },
  {
   "cell_type": "code",
   "execution_count": 125,
   "id": "64687031",
   "metadata": {},
   "outputs": [],
   "source": [
    "def finetune_w_early_stopping(train_dl, val_dl, test_dl):\n",
    "    model = encoder_decoder.construct_finetuning_model(num_outputs=1, regression=False)\n",
    "\n",
    "    optimizer = Adam(model.parameters(), lr=lr) # TODO: Consider AdamW\n",
    "    loss_fn = nn.BCELoss()\n",
    "\n",
    "    train_loss = []\n",
    "    val_loss = []\n",
    "    best_loss = None\n",
    "    best_model_dict = None\n",
    "    epochs_since_improvement = 0\n",
    "    patience = 3\n",
    "\n",
    "    for _ in (pbar := tqdm(range(max_epochs), desc=\"Finetuning\")):\n",
    "        model.train()\n",
    "        epoch_train_loss = 0.0\n",
    "        for x, latlons, dw, month, y in tqdm(train_dl, desc=\"Training\", leave=False):\n",
    "            x, dw, latlons, y, month = [t.to(DEVICE) for t in (x, dw, latlons, y, month)]\n",
    "            optimizer.zero_grad()\n",
    "            preds = model(x, dynamic_world=dw, mask=None, latlons=latlons, month=month)\n",
    "            loss = loss_fn(preds, y.unsqueeze(dim=1))\n",
    "            epoch_train_loss += loss.item()\n",
    "            loss.backward()\n",
    "            optimizer.step()\n",
    "        train_loss.append(epoch_train_loss / len(train_dl))\n",
    "\n",
    "        model.eval()\n",
    "        all_preds, all_y = [], []\n",
    "        for x, latlons, dw, month, y in val_dl:\n",
    "            x, dw, latlons, y, month = [t.to(DEVICE) for t in (x, dw, latlons, y, month)]\n",
    "            with torch.no_grad():\n",
    "                preds = model(x, dynamic_world=dw, mask=None, latlons=latlons, month=month)\n",
    "                all_preds.append(preds)\n",
    "                all_y.append(y.unsqueeze(dim=1))\n",
    "\n",
    "        val_loss.append(loss_fn(torch.cat(all_preds), torch.cat(all_y)))\n",
    "        pbar.set_description(f\"Train metric: {train_loss[-1]}, Val metric: {val_loss[-1]}\")\n",
    "        if best_loss is None:\n",
    "            best_loss = val_loss[-1]\n",
    "            best_model_dict = deepcopy(model.state_dict())\n",
    "        else:\n",
    "            if val_loss[-1] < best_loss:\n",
    "                best_loss = val_loss[-1]\n",
    "                best_model_dict = deepcopy(model.state_dict())\n",
    "                epochs_since_improvement = 0\n",
    "            else:\n",
    "                epochs_since_improvement += 1\n",
    "                if epochs_since_improvement >= patience:\n",
    "                    print(\"Early stopping!\")\n",
    "                    break\n",
    "    assert best_model_dict is not None\n",
    "    model.load_state_dict(best_model_dict)\n",
    "    model.eval()\n",
    "\n",
    "    test_preds, test_y = [], []\n",
    "    for x, latlons, dw, month, y in test_dl:\n",
    "        x, dw, latlons, y, month = [t.to(DEVICE) for t in (x, dw, latlons, y, month)]\n",
    "        with torch.no_grad():\n",
    "            preds = model(x, dynamic_world=dw, mask=None, latlons=latlons, month=month)\n",
    "            test_preds += (preds.flatten().numpy() > 0.50).astype(int).tolist()\n",
    "            test_y += y.numpy().astype(int).tolist()\n",
    "\n",
    "    return f1_score(test_preds, test_y)"
   ]
  },
  {
   "cell_type": "code",
   "execution_count": 127,
   "id": "2840d968",
   "metadata": {
    "scrolled": true
   },
   "outputs": [
    {
     "data": {
      "application/vnd.jupyter.widget-view+json": {
       "model_id": "173f71f7c8894912841f9de41889693a",
       "version_major": 2,
       "version_minor": 0
      },
      "text/plain": [
       "  0%|          | 0/17 [00:00<?, ?it/s]"
      ]
     },
     "metadata": {},
     "output_type": "display_data"
    },
    {
     "data": {
      "application/vnd.jupyter.widget-view+json": {
       "model_id": "b9395d342e854edda247f1d89019c111",
       "version_major": 2,
       "version_minor": 0
      },
      "text/plain": [
       "Finetuning:   0%|          | 0/10 [00:00<?, ?it/s]"
      ]
     },
     "metadata": {},
     "output_type": "display_data"
    },
    {
     "data": {
      "application/vnd.jupyter.widget-view+json": {
       "model_id": "",
       "version_major": 2,
       "version_minor": 0
      },
      "text/plain": [
       "Training:   0%|          | 0/18 [00:00<?, ?it/s]"
      ]
     },
     "metadata": {},
     "output_type": "display_data"
    },
    {
     "data": {
      "application/vnd.jupyter.widget-view+json": {
       "model_id": "",
       "version_major": 2,
       "version_minor": 0
      },
      "text/plain": [
       "Training:   0%|          | 0/18 [00:00<?, ?it/s]"
      ]
     },
     "metadata": {},
     "output_type": "display_data"
    },
    {
     "data": {
      "application/vnd.jupyter.widget-view+json": {
       "model_id": "",
       "version_major": 2,
       "version_minor": 0
      },
      "text/plain": [
       "Training:   0%|          | 0/18 [00:00<?, ?it/s]"
      ]
     },
     "metadata": {},
     "output_type": "display_data"
    },
    {
     "data": {
      "application/vnd.jupyter.widget-view+json": {
       "model_id": "",
       "version_major": 2,
       "version_minor": 0
      },
      "text/plain": [
       "Training:   0%|          | 0/18 [00:00<?, ?it/s]"
      ]
     },
     "metadata": {},
     "output_type": "display_data"
    },
    {
     "data": {
      "application/vnd.jupyter.widget-view+json": {
       "model_id": "",
       "version_major": 2,
       "version_minor": 0
      },
      "text/plain": [
       "Training:   0%|          | 0/18 [00:00<?, ?it/s]"
      ]
     },
     "metadata": {},
     "output_type": "display_data"
    },
    {
     "name": "stdout",
     "output_type": "stream",
     "text": [
      "Early stopping!\n"
     ]
    },
    {
     "data": {
      "application/vnd.jupyter.widget-view+json": {
       "model_id": "19825e27b78f4e33b5482b620ca74faa",
       "version_major": 2,
       "version_minor": 0
      },
      "text/plain": [
       "Finetuning:   0%|          | 0/10 [00:00<?, ?it/s]"
      ]
     },
     "metadata": {},
     "output_type": "display_data"
    },
    {
     "data": {
      "application/vnd.jupyter.widget-view+json": {
       "model_id": "",
       "version_major": 2,
       "version_minor": 0
      },
      "text/plain": [
       "Training:   0%|          | 0/17 [00:00<?, ?it/s]"
      ]
     },
     "metadata": {},
     "output_type": "display_data"
    },
    {
     "data": {
      "application/vnd.jupyter.widget-view+json": {
       "model_id": "",
       "version_major": 2,
       "version_minor": 0
      },
      "text/plain": [
       "Training:   0%|          | 0/17 [00:00<?, ?it/s]"
      ]
     },
     "metadata": {},
     "output_type": "display_data"
    },
    {
     "data": {
      "application/vnd.jupyter.widget-view+json": {
       "model_id": "",
       "version_major": 2,
       "version_minor": 0
      },
      "text/plain": [
       "Training:   0%|          | 0/17 [00:00<?, ?it/s]"
      ]
     },
     "metadata": {},
     "output_type": "display_data"
    },
    {
     "data": {
      "application/vnd.jupyter.widget-view+json": {
       "model_id": "",
       "version_major": 2,
       "version_minor": 0
      },
      "text/plain": [
       "Training:   0%|          | 0/17 [00:00<?, ?it/s]"
      ]
     },
     "metadata": {},
     "output_type": "display_data"
    },
    {
     "data": {
      "application/vnd.jupyter.widget-view+json": {
       "model_id": "",
       "version_major": 2,
       "version_minor": 0
      },
      "text/plain": [
       "Training:   0%|          | 0/17 [00:00<?, ?it/s]"
      ]
     },
     "metadata": {},
     "output_type": "display_data"
    },
    {
     "data": {
      "application/vnd.jupyter.widget-view+json": {
       "model_id": "",
       "version_major": 2,
       "version_minor": 0
      },
      "text/plain": [
       "Training:   0%|          | 0/17 [00:00<?, ?it/s]"
      ]
     },
     "metadata": {},
     "output_type": "display_data"
    },
    {
     "data": {
      "application/vnd.jupyter.widget-view+json": {
       "model_id": "",
       "version_major": 2,
       "version_minor": 0
      },
      "text/plain": [
       "Training:   0%|          | 0/17 [00:00<?, ?it/s]"
      ]
     },
     "metadata": {},
     "output_type": "display_data"
    },
    {
     "data": {
      "application/vnd.jupyter.widget-view+json": {
       "model_id": "",
       "version_major": 2,
       "version_minor": 0
      },
      "text/plain": [
       "Training:   0%|          | 0/17 [00:00<?, ?it/s]"
      ]
     },
     "metadata": {},
     "output_type": "display_data"
    },
    {
     "data": {
      "application/vnd.jupyter.widget-view+json": {
       "model_id": "",
       "version_major": 2,
       "version_minor": 0
      },
      "text/plain": [
       "Training:   0%|          | 0/17 [00:00<?, ?it/s]"
      ]
     },
     "metadata": {},
     "output_type": "display_data"
    },
    {
     "data": {
      "application/vnd.jupyter.widget-view+json": {
       "model_id": "",
       "version_major": 2,
       "version_minor": 0
      },
      "text/plain": [
       "Training:   0%|          | 0/17 [00:00<?, ?it/s]"
      ]
     },
     "metadata": {},
     "output_type": "display_data"
    },
    {
     "data": {
      "application/vnd.jupyter.widget-view+json": {
       "model_id": "3745d321ec674b728c62c426a2656711",
       "version_major": 2,
       "version_minor": 0
      },
      "text/plain": [
       "Finetuning:   0%|          | 0/10 [00:00<?, ?it/s]"
      ]
     },
     "metadata": {},
     "output_type": "display_data"
    },
    {
     "data": {
      "application/vnd.jupyter.widget-view+json": {
       "model_id": "",
       "version_major": 2,
       "version_minor": 0
      },
      "text/plain": [
       "Training:   0%|          | 0/11 [00:00<?, ?it/s]"
      ]
     },
     "metadata": {},
     "output_type": "display_data"
    },
    {
     "data": {
      "application/vnd.jupyter.widget-view+json": {
       "model_id": "",
       "version_major": 2,
       "version_minor": 0
      },
      "text/plain": [
       "Training:   0%|          | 0/11 [00:00<?, ?it/s]"
      ]
     },
     "metadata": {},
     "output_type": "display_data"
    },
    {
     "data": {
      "application/vnd.jupyter.widget-view+json": {
       "model_id": "",
       "version_major": 2,
       "version_minor": 0
      },
      "text/plain": [
       "Training:   0%|          | 0/11 [00:00<?, ?it/s]"
      ]
     },
     "metadata": {},
     "output_type": "display_data"
    },
    {
     "data": {
      "application/vnd.jupyter.widget-view+json": {
       "model_id": "",
       "version_major": 2,
       "version_minor": 0
      },
      "text/plain": [
       "Training:   0%|          | 0/11 [00:00<?, ?it/s]"
      ]
     },
     "metadata": {},
     "output_type": "display_data"
    },
    {
     "data": {
      "application/vnd.jupyter.widget-view+json": {
       "model_id": "",
       "version_major": 2,
       "version_minor": 0
      },
      "text/plain": [
       "Training:   0%|          | 0/11 [00:00<?, ?it/s]"
      ]
     },
     "metadata": {},
     "output_type": "display_data"
    },
    {
     "data": {
      "application/vnd.jupyter.widget-view+json": {
       "model_id": "",
       "version_major": 2,
       "version_minor": 0
      },
      "text/plain": [
       "Training:   0%|          | 0/11 [00:00<?, ?it/s]"
      ]
     },
     "metadata": {},
     "output_type": "display_data"
    },
    {
     "data": {
      "application/vnd.jupyter.widget-view+json": {
       "model_id": "",
       "version_major": 2,
       "version_minor": 0
      },
      "text/plain": [
       "Training:   0%|          | 0/11 [00:00<?, ?it/s]"
      ]
     },
     "metadata": {},
     "output_type": "display_data"
    },
    {
     "data": {
      "application/vnd.jupyter.widget-view+json": {
       "model_id": "",
       "version_major": 2,
       "version_minor": 0
      },
      "text/plain": [
       "Training:   0%|          | 0/11 [00:00<?, ?it/s]"
      ]
     },
     "metadata": {},
     "output_type": "display_data"
    },
    {
     "name": "stdout",
     "output_type": "stream",
     "text": [
      "Early stopping!\n"
     ]
    },
    {
     "data": {
      "application/vnd.jupyter.widget-view+json": {
       "model_id": "c418f3e3d5ed4433a7e250cf69141137",
       "version_major": 2,
       "version_minor": 0
      },
      "text/plain": [
       "Finetuning:   0%|          | 0/10 [00:00<?, ?it/s]"
      ]
     },
     "metadata": {},
     "output_type": "display_data"
    },
    {
     "data": {
      "application/vnd.jupyter.widget-view+json": {
       "model_id": "",
       "version_major": 2,
       "version_minor": 0
      },
      "text/plain": [
       "Training:   0%|          | 0/312 [00:00<?, ?it/s]"
      ]
     },
     "metadata": {},
     "output_type": "display_data"
    },
    {
     "data": {
      "application/vnd.jupyter.widget-view+json": {
       "model_id": "",
       "version_major": 2,
       "version_minor": 0
      },
      "text/plain": [
       "Training:   0%|          | 0/312 [00:00<?, ?it/s]"
      ]
     },
     "metadata": {},
     "output_type": "display_data"
    },
    {
     "data": {
      "application/vnd.jupyter.widget-view+json": {
       "model_id": "",
       "version_major": 2,
       "version_minor": 0
      },
      "text/plain": [
       "Training:   0%|          | 0/312 [00:00<?, ?it/s]"
      ]
     },
     "metadata": {},
     "output_type": "display_data"
    },
    {
     "data": {
      "application/vnd.jupyter.widget-view+json": {
       "model_id": "",
       "version_major": 2,
       "version_minor": 0
      },
      "text/plain": [
       "Training:   0%|          | 0/312 [00:00<?, ?it/s]"
      ]
     },
     "metadata": {},
     "output_type": "display_data"
    },
    {
     "data": {
      "application/vnd.jupyter.widget-view+json": {
       "model_id": "",
       "version_major": 2,
       "version_minor": 0
      },
      "text/plain": [
       "Training:   0%|          | 0/312 [00:00<?, ?it/s]"
      ]
     },
     "metadata": {},
     "output_type": "display_data"
    },
    {
     "name": "stdout",
     "output_type": "stream",
     "text": [
      "Early stopping!\n"
     ]
    },
    {
     "data": {
      "application/vnd.jupyter.widget-view+json": {
       "model_id": "30a81d3c45f243b7960c844e163adf5b",
       "version_major": 2,
       "version_minor": 0
      },
      "text/plain": [
       "Finetuning:   0%|          | 0/10 [00:00<?, ?it/s]"
      ]
     },
     "metadata": {},
     "output_type": "display_data"
    },
    {
     "data": {
      "application/vnd.jupyter.widget-view+json": {
       "model_id": "",
       "version_major": 2,
       "version_minor": 0
      },
      "text/plain": [
       "Training:   0%|          | 0/77 [00:00<?, ?it/s]"
      ]
     },
     "metadata": {},
     "output_type": "display_data"
    },
    {
     "data": {
      "application/vnd.jupyter.widget-view+json": {
       "model_id": "",
       "version_major": 2,
       "version_minor": 0
      },
      "text/plain": [
       "Training:   0%|          | 0/77 [00:00<?, ?it/s]"
      ]
     },
     "metadata": {},
     "output_type": "display_data"
    },
    {
     "data": {
      "application/vnd.jupyter.widget-view+json": {
       "model_id": "",
       "version_major": 2,
       "version_minor": 0
      },
      "text/plain": [
       "Training:   0%|          | 0/77 [00:00<?, ?it/s]"
      ]
     },
     "metadata": {},
     "output_type": "display_data"
    },
    {
     "data": {
      "application/vnd.jupyter.widget-view+json": {
       "model_id": "",
       "version_major": 2,
       "version_minor": 0
      },
      "text/plain": [
       "Training:   0%|          | 0/77 [00:00<?, ?it/s]"
      ]
     },
     "metadata": {},
     "output_type": "display_data"
    },
    {
     "data": {
      "application/vnd.jupyter.widget-view+json": {
       "model_id": "",
       "version_major": 2,
       "version_minor": 0
      },
      "text/plain": [
       "Training:   0%|          | 0/77 [00:00<?, ?it/s]"
      ]
     },
     "metadata": {},
     "output_type": "display_data"
    },
    {
     "name": "stdout",
     "output_type": "stream",
     "text": [
      "Early stopping!\n"
     ]
    },
    {
     "data": {
      "application/vnd.jupyter.widget-view+json": {
       "model_id": "ebe572e6273c41e8a0e0bc3e0dd26449",
       "version_major": 2,
       "version_minor": 0
      },
      "text/plain": [
       "Finetuning:   0%|          | 0/10 [00:00<?, ?it/s]"
      ]
     },
     "metadata": {},
     "output_type": "display_data"
    },
    {
     "data": {
      "application/vnd.jupyter.widget-view+json": {
       "model_id": "",
       "version_major": 2,
       "version_minor": 0
      },
      "text/plain": [
       "Training:   0%|          | 0/82 [00:00<?, ?it/s]"
      ]
     },
     "metadata": {},
     "output_type": "display_data"
    },
    {
     "data": {
      "application/vnd.jupyter.widget-view+json": {
       "model_id": "",
       "version_major": 2,
       "version_minor": 0
      },
      "text/plain": [
       "Training:   0%|          | 0/82 [00:00<?, ?it/s]"
      ]
     },
     "metadata": {},
     "output_type": "display_data"
    },
    {
     "data": {
      "application/vnd.jupyter.widget-view+json": {
       "model_id": "",
       "version_major": 2,
       "version_minor": 0
      },
      "text/plain": [
       "Training:   0%|          | 0/82 [00:00<?, ?it/s]"
      ]
     },
     "metadata": {},
     "output_type": "display_data"
    },
    {
     "data": {
      "application/vnd.jupyter.widget-view+json": {
       "model_id": "",
       "version_major": 2,
       "version_minor": 0
      },
      "text/plain": [
       "Training:   0%|          | 0/82 [00:00<?, ?it/s]"
      ]
     },
     "metadata": {},
     "output_type": "display_data"
    },
    {
     "data": {
      "application/vnd.jupyter.widget-view+json": {
       "model_id": "",
       "version_major": 2,
       "version_minor": 0
      },
      "text/plain": [
       "Training:   0%|          | 0/82 [00:00<?, ?it/s]"
      ]
     },
     "metadata": {},
     "output_type": "display_data"
    },
    {
     "data": {
      "application/vnd.jupyter.widget-view+json": {
       "model_id": "",
       "version_major": 2,
       "version_minor": 0
      },
      "text/plain": [
       "Training:   0%|          | 0/82 [00:00<?, ?it/s]"
      ]
     },
     "metadata": {},
     "output_type": "display_data"
    },
    {
     "name": "stdout",
     "output_type": "stream",
     "text": [
      "Early stopping!\n"
     ]
    },
    {
     "data": {
      "application/vnd.jupyter.widget-view+json": {
       "model_id": "b546e6455f094d83a38723e4650b9293",
       "version_major": 2,
       "version_minor": 0
      },
      "text/plain": [
       "Finetuning:   0%|          | 0/10 [00:00<?, ?it/s]"
      ]
     },
     "metadata": {},
     "output_type": "display_data"
    },
    {
     "data": {
      "application/vnd.jupyter.widget-view+json": {
       "model_id": "",
       "version_major": 2,
       "version_minor": 0
      },
      "text/plain": [
       "Training:   0%|          | 0/25 [00:00<?, ?it/s]"
      ]
     },
     "metadata": {},
     "output_type": "display_data"
    },
    {
     "data": {
      "application/vnd.jupyter.widget-view+json": {
       "model_id": "",
       "version_major": 2,
       "version_minor": 0
      },
      "text/plain": [
       "Training:   0%|          | 0/25 [00:00<?, ?it/s]"
      ]
     },
     "metadata": {},
     "output_type": "display_data"
    },
    {
     "data": {
      "application/vnd.jupyter.widget-view+json": {
       "model_id": "",
       "version_major": 2,
       "version_minor": 0
      },
      "text/plain": [
       "Training:   0%|          | 0/25 [00:00<?, ?it/s]"
      ]
     },
     "metadata": {},
     "output_type": "display_data"
    },
    {
     "data": {
      "application/vnd.jupyter.widget-view+json": {
       "model_id": "",
       "version_major": 2,
       "version_minor": 0
      },
      "text/plain": [
       "Training:   0%|          | 0/25 [00:00<?, ?it/s]"
      ]
     },
     "metadata": {},
     "output_type": "display_data"
    },
    {
     "data": {
      "application/vnd.jupyter.widget-view+json": {
       "model_id": "",
       "version_major": 2,
       "version_minor": 0
      },
      "text/plain": [
       "Training:   0%|          | 0/25 [00:00<?, ?it/s]"
      ]
     },
     "metadata": {},
     "output_type": "display_data"
    },
    {
     "data": {
      "application/vnd.jupyter.widget-view+json": {
       "model_id": "",
       "version_major": 2,
       "version_minor": 0
      },
      "text/plain": [
       "Training:   0%|          | 0/25 [00:00<?, ?it/s]"
      ]
     },
     "metadata": {},
     "output_type": "display_data"
    },
    {
     "name": "stdout",
     "output_type": "stream",
     "text": [
      "Early stopping!\n"
     ]
    },
    {
     "data": {
      "application/vnd.jupyter.widget-view+json": {
       "model_id": "c4babf21c7054fb7a8f9dcfc06156fe7",
       "version_major": 2,
       "version_minor": 0
      },
      "text/plain": [
       "Finetuning:   0%|          | 0/10 [00:00<?, ?it/s]"
      ]
     },
     "metadata": {},
     "output_type": "display_data"
    },
    {
     "data": {
      "application/vnd.jupyter.widget-view+json": {
       "model_id": "",
       "version_major": 2,
       "version_minor": 0
      },
      "text/plain": [
       "Training:   0%|          | 0/26 [00:00<?, ?it/s]"
      ]
     },
     "metadata": {},
     "output_type": "display_data"
    },
    {
     "data": {
      "application/vnd.jupyter.widget-view+json": {
       "model_id": "",
       "version_major": 2,
       "version_minor": 0
      },
      "text/plain": [
       "Training:   0%|          | 0/26 [00:00<?, ?it/s]"
      ]
     },
     "metadata": {},
     "output_type": "display_data"
    },
    {
     "data": {
      "application/vnd.jupyter.widget-view+json": {
       "model_id": "",
       "version_major": 2,
       "version_minor": 0
      },
      "text/plain": [
       "Training:   0%|          | 0/26 [00:00<?, ?it/s]"
      ]
     },
     "metadata": {},
     "output_type": "display_data"
    },
    {
     "data": {
      "application/vnd.jupyter.widget-view+json": {
       "model_id": "",
       "version_major": 2,
       "version_minor": 0
      },
      "text/plain": [
       "Training:   0%|          | 0/26 [00:00<?, ?it/s]"
      ]
     },
     "metadata": {},
     "output_type": "display_data"
    },
    {
     "data": {
      "application/vnd.jupyter.widget-view+json": {
       "model_id": "",
       "version_major": 2,
       "version_minor": 0
      },
      "text/plain": [
       "Training:   0%|          | 0/26 [00:00<?, ?it/s]"
      ]
     },
     "metadata": {},
     "output_type": "display_data"
    },
    {
     "name": "stdout",
     "output_type": "stream",
     "text": [
      "Early stopping!\n"
     ]
    },
    {
     "data": {
      "application/vnd.jupyter.widget-view+json": {
       "model_id": "2e23e91379dc493eb164bb76fead077c",
       "version_major": 2,
       "version_minor": 0
      },
      "text/plain": [
       "Finetuning:   0%|          | 0/10 [00:00<?, ?it/s]"
      ]
     },
     "metadata": {},
     "output_type": "display_data"
    },
    {
     "data": {
      "application/vnd.jupyter.widget-view+json": {
       "model_id": "",
       "version_major": 2,
       "version_minor": 0
      },
      "text/plain": [
       "Training:   0%|          | 0/109 [00:00<?, ?it/s]"
      ]
     },
     "metadata": {},
     "output_type": "display_data"
    },
    {
     "data": {
      "application/vnd.jupyter.widget-view+json": {
       "model_id": "",
       "version_major": 2,
       "version_minor": 0
      },
      "text/plain": [
       "Training:   0%|          | 0/109 [00:00<?, ?it/s]"
      ]
     },
     "metadata": {},
     "output_type": "display_data"
    },
    {
     "data": {
      "application/vnd.jupyter.widget-view+json": {
       "model_id": "",
       "version_major": 2,
       "version_minor": 0
      },
      "text/plain": [
       "Training:   0%|          | 0/109 [00:00<?, ?it/s]"
      ]
     },
     "metadata": {},
     "output_type": "display_data"
    },
    {
     "data": {
      "application/vnd.jupyter.widget-view+json": {
       "model_id": "",
       "version_major": 2,
       "version_minor": 0
      },
      "text/plain": [
       "Training:   0%|          | 0/109 [00:00<?, ?it/s]"
      ]
     },
     "metadata": {},
     "output_type": "display_data"
    },
    {
     "name": "stdout",
     "output_type": "stream",
     "text": [
      "Early stopping!\n"
     ]
    },
    {
     "data": {
      "application/vnd.jupyter.widget-view+json": {
       "model_id": "6295d4d23705454cb5f4d573004217d9",
       "version_major": 2,
       "version_minor": 0
      },
      "text/plain": [
       "Finetuning:   0%|          | 0/10 [00:00<?, ?it/s]"
      ]
     },
     "metadata": {},
     "output_type": "display_data"
    },
    {
     "data": {
      "application/vnd.jupyter.widget-view+json": {
       "model_id": "",
       "version_major": 2,
       "version_minor": 0
      },
      "text/plain": [
       "Training:   0%|          | 0/376 [00:00<?, ?it/s]"
      ]
     },
     "metadata": {},
     "output_type": "display_data"
    },
    {
     "data": {
      "application/vnd.jupyter.widget-view+json": {
       "model_id": "",
       "version_major": 2,
       "version_minor": 0
      },
      "text/plain": [
       "Training:   0%|          | 0/376 [00:00<?, ?it/s]"
      ]
     },
     "metadata": {},
     "output_type": "display_data"
    },
    {
     "data": {
      "application/vnd.jupyter.widget-view+json": {
       "model_id": "",
       "version_major": 2,
       "version_minor": 0
      },
      "text/plain": [
       "Training:   0%|          | 0/376 [00:00<?, ?it/s]"
      ]
     },
     "metadata": {},
     "output_type": "display_data"
    },
    {
     "data": {
      "application/vnd.jupyter.widget-view+json": {
       "model_id": "",
       "version_major": 2,
       "version_minor": 0
      },
      "text/plain": [
       "Training:   0%|          | 0/376 [00:00<?, ?it/s]"
      ]
     },
     "metadata": {},
     "output_type": "display_data"
    },
    {
     "data": {
      "application/vnd.jupyter.widget-view+json": {
       "model_id": "",
       "version_major": 2,
       "version_minor": 0
      },
      "text/plain": [
       "Training:   0%|          | 0/376 [00:00<?, ?it/s]"
      ]
     },
     "metadata": {},
     "output_type": "display_data"
    },
    {
     "data": {
      "application/vnd.jupyter.widget-view+json": {
       "model_id": "",
       "version_major": 2,
       "version_minor": 0
      },
      "text/plain": [
       "Training:   0%|          | 0/376 [00:00<?, ?it/s]"
      ]
     },
     "metadata": {},
     "output_type": "display_data"
    },
    {
     "data": {
      "application/vnd.jupyter.widget-view+json": {
       "model_id": "",
       "version_major": 2,
       "version_minor": 0
      },
      "text/plain": [
       "Training:   0%|          | 0/376 [00:00<?, ?it/s]"
      ]
     },
     "metadata": {},
     "output_type": "display_data"
    },
    {
     "name": "stdout",
     "output_type": "stream",
     "text": [
      "Early stopping!\n"
     ]
    },
    {
     "data": {
      "application/vnd.jupyter.widget-view+json": {
       "model_id": "71059a3565cf484eb141c7b8f35dd122",
       "version_major": 2,
       "version_minor": 0
      },
      "text/plain": [
       "Finetuning:   0%|          | 0/10 [00:00<?, ?it/s]"
      ]
     },
     "metadata": {},
     "output_type": "display_data"
    },
    {
     "data": {
      "application/vnd.jupyter.widget-view+json": {
       "model_id": "",
       "version_major": 2,
       "version_minor": 0
      },
      "text/plain": [
       "Training:   0%|          | 0/31 [00:00<?, ?it/s]"
      ]
     },
     "metadata": {},
     "output_type": "display_data"
    },
    {
     "data": {
      "application/vnd.jupyter.widget-view+json": {
       "model_id": "",
       "version_major": 2,
       "version_minor": 0
      },
      "text/plain": [
       "Training:   0%|          | 0/31 [00:00<?, ?it/s]"
      ]
     },
     "metadata": {},
     "output_type": "display_data"
    },
    {
     "data": {
      "application/vnd.jupyter.widget-view+json": {
       "model_id": "",
       "version_major": 2,
       "version_minor": 0
      },
      "text/plain": [
       "Training:   0%|          | 0/31 [00:00<?, ?it/s]"
      ]
     },
     "metadata": {},
     "output_type": "display_data"
    },
    {
     "data": {
      "application/vnd.jupyter.widget-view+json": {
       "model_id": "",
       "version_major": 2,
       "version_minor": 0
      },
      "text/plain": [
       "Training:   0%|          | 0/31 [00:00<?, ?it/s]"
      ]
     },
     "metadata": {},
     "output_type": "display_data"
    },
    {
     "data": {
      "application/vnd.jupyter.widget-view+json": {
       "model_id": "",
       "version_major": 2,
       "version_minor": 0
      },
      "text/plain": [
       "Training:   0%|          | 0/31 [00:00<?, ?it/s]"
      ]
     },
     "metadata": {},
     "output_type": "display_data"
    },
    {
     "data": {
      "application/vnd.jupyter.widget-view+json": {
       "model_id": "",
       "version_major": 2,
       "version_minor": 0
      },
      "text/plain": [
       "Training:   0%|          | 0/31 [00:00<?, ?it/s]"
      ]
     },
     "metadata": {},
     "output_type": "display_data"
    },
    {
     "data": {
      "application/vnd.jupyter.widget-view+json": {
       "model_id": "",
       "version_major": 2,
       "version_minor": 0
      },
      "text/plain": [
       "Training:   0%|          | 0/31 [00:00<?, ?it/s]"
      ]
     },
     "metadata": {},
     "output_type": "display_data"
    },
    {
     "name": "stdout",
     "output_type": "stream",
     "text": [
      "Early stopping!\n"
     ]
    },
    {
     "data": {
      "application/vnd.jupyter.widget-view+json": {
       "model_id": "920e9d7a10984188bb37a993be20fca8",
       "version_major": 2,
       "version_minor": 0
      },
      "text/plain": [
       "Finetuning:   0%|          | 0/10 [00:00<?, ?it/s]"
      ]
     },
     "metadata": {},
     "output_type": "display_data"
    },
    {
     "data": {
      "application/vnd.jupyter.widget-view+json": {
       "model_id": "",
       "version_major": 2,
       "version_minor": 0
      },
      "text/plain": [
       "Training:   0%|          | 0/31 [00:00<?, ?it/s]"
      ]
     },
     "metadata": {},
     "output_type": "display_data"
    },
    {
     "data": {
      "application/vnd.jupyter.widget-view+json": {
       "model_id": "",
       "version_major": 2,
       "version_minor": 0
      },
      "text/plain": [
       "Training:   0%|          | 0/31 [00:00<?, ?it/s]"
      ]
     },
     "metadata": {},
     "output_type": "display_data"
    },
    {
     "data": {
      "application/vnd.jupyter.widget-view+json": {
       "model_id": "",
       "version_major": 2,
       "version_minor": 0
      },
      "text/plain": [
       "Training:   0%|          | 0/31 [00:00<?, ?it/s]"
      ]
     },
     "metadata": {},
     "output_type": "display_data"
    },
    {
     "data": {
      "application/vnd.jupyter.widget-view+json": {
       "model_id": "",
       "version_major": 2,
       "version_minor": 0
      },
      "text/plain": [
       "Training:   0%|          | 0/31 [00:00<?, ?it/s]"
      ]
     },
     "metadata": {},
     "output_type": "display_data"
    },
    {
     "data": {
      "application/vnd.jupyter.widget-view+json": {
       "model_id": "",
       "version_major": 2,
       "version_minor": 0
      },
      "text/plain": [
       "Training:   0%|          | 0/31 [00:00<?, ?it/s]"
      ]
     },
     "metadata": {},
     "output_type": "display_data"
    },
    {
     "data": {
      "application/vnd.jupyter.widget-view+json": {
       "model_id": "",
       "version_major": 2,
       "version_minor": 0
      },
      "text/plain": [
       "Training:   0%|          | 0/31 [00:00<?, ?it/s]"
      ]
     },
     "metadata": {},
     "output_type": "display_data"
    },
    {
     "data": {
      "application/vnd.jupyter.widget-view+json": {
       "model_id": "",
       "version_major": 2,
       "version_minor": 0
      },
      "text/plain": [
       "Training:   0%|          | 0/31 [00:00<?, ?it/s]"
      ]
     },
     "metadata": {},
     "output_type": "display_data"
    },
    {
     "data": {
      "application/vnd.jupyter.widget-view+json": {
       "model_id": "",
       "version_major": 2,
       "version_minor": 0
      },
      "text/plain": [
       "Training:   0%|          | 0/31 [00:00<?, ?it/s]"
      ]
     },
     "metadata": {},
     "output_type": "display_data"
    },
    {
     "data": {
      "application/vnd.jupyter.widget-view+json": {
       "model_id": "",
       "version_major": 2,
       "version_minor": 0
      },
      "text/plain": [
       "Training:   0%|          | 0/31 [00:00<?, ?it/s]"
      ]
     },
     "metadata": {},
     "output_type": "display_data"
    },
    {
     "name": "stdout",
     "output_type": "stream",
     "text": [
      "Early stopping!\n"
     ]
    },
    {
     "data": {
      "application/vnd.jupyter.widget-view+json": {
       "model_id": "653954fa935344c6baec38f13668048a",
       "version_major": 2,
       "version_minor": 0
      },
      "text/plain": [
       "Finetuning:   0%|          | 0/10 [00:00<?, ?it/s]"
      ]
     },
     "metadata": {},
     "output_type": "display_data"
    },
    {
     "data": {
      "application/vnd.jupyter.widget-view+json": {
       "model_id": "",
       "version_major": 2,
       "version_minor": 0
      },
      "text/plain": [
       "Training:   0%|          | 0/10 [00:00<?, ?it/s]"
      ]
     },
     "metadata": {},
     "output_type": "display_data"
    },
    {
     "data": {
      "application/vnd.jupyter.widget-view+json": {
       "model_id": "",
       "version_major": 2,
       "version_minor": 0
      },
      "text/plain": [
       "Training:   0%|          | 0/10 [00:00<?, ?it/s]"
      ]
     },
     "metadata": {},
     "output_type": "display_data"
    },
    {
     "data": {
      "application/vnd.jupyter.widget-view+json": {
       "model_id": "",
       "version_major": 2,
       "version_minor": 0
      },
      "text/plain": [
       "Training:   0%|          | 0/10 [00:00<?, ?it/s]"
      ]
     },
     "metadata": {},
     "output_type": "display_data"
    },
    {
     "data": {
      "application/vnd.jupyter.widget-view+json": {
       "model_id": "",
       "version_major": 2,
       "version_minor": 0
      },
      "text/plain": [
       "Training:   0%|          | 0/10 [00:00<?, ?it/s]"
      ]
     },
     "metadata": {},
     "output_type": "display_data"
    },
    {
     "data": {
      "application/vnd.jupyter.widget-view+json": {
       "model_id": "",
       "version_major": 2,
       "version_minor": 0
      },
      "text/plain": [
       "Training:   0%|          | 0/10 [00:00<?, ?it/s]"
      ]
     },
     "metadata": {},
     "output_type": "display_data"
    },
    {
     "data": {
      "application/vnd.jupyter.widget-view+json": {
       "model_id": "",
       "version_major": 2,
       "version_minor": 0
      },
      "text/plain": [
       "Training:   0%|          | 0/10 [00:00<?, ?it/s]"
      ]
     },
     "metadata": {},
     "output_type": "display_data"
    },
    {
     "data": {
      "application/vnd.jupyter.widget-view+json": {
       "model_id": "",
       "version_major": 2,
       "version_minor": 0
      },
      "text/plain": [
       "Training:   0%|          | 0/10 [00:00<?, ?it/s]"
      ]
     },
     "metadata": {},
     "output_type": "display_data"
    },
    {
     "data": {
      "application/vnd.jupyter.widget-view+json": {
       "model_id": "",
       "version_major": 2,
       "version_minor": 0
      },
      "text/plain": [
       "Training:   0%|          | 0/10 [00:00<?, ?it/s]"
      ]
     },
     "metadata": {},
     "output_type": "display_data"
    },
    {
     "data": {
      "application/vnd.jupyter.widget-view+json": {
       "model_id": "",
       "version_major": 2,
       "version_minor": 0
      },
      "text/plain": [
       "Training:   0%|          | 0/10 [00:00<?, ?it/s]"
      ]
     },
     "metadata": {},
     "output_type": "display_data"
    },
    {
     "data": {
      "application/vnd.jupyter.widget-view+json": {
       "model_id": "",
       "version_major": 2,
       "version_minor": 0
      },
      "text/plain": [
       "Training:   0%|          | 0/10 [00:00<?, ?it/s]"
      ]
     },
     "metadata": {},
     "output_type": "display_data"
    },
    {
     "data": {
      "application/vnd.jupyter.widget-view+json": {
       "model_id": "2090b4787fdd4464ad637af84ff80bef",
       "version_major": 2,
       "version_minor": 0
      },
      "text/plain": [
       "Finetuning:   0%|          | 0/10 [00:00<?, ?it/s]"
      ]
     },
     "metadata": {},
     "output_type": "display_data"
    },
    {
     "data": {
      "application/vnd.jupyter.widget-view+json": {
       "model_id": "",
       "version_major": 2,
       "version_minor": 0
      },
      "text/plain": [
       "Training:   0%|          | 0/45 [00:00<?, ?it/s]"
      ]
     },
     "metadata": {},
     "output_type": "display_data"
    },
    {
     "data": {
      "application/vnd.jupyter.widget-view+json": {
       "model_id": "",
       "version_major": 2,
       "version_minor": 0
      },
      "text/plain": [
       "Training:   0%|          | 0/45 [00:00<?, ?it/s]"
      ]
     },
     "metadata": {},
     "output_type": "display_data"
    },
    {
     "data": {
      "application/vnd.jupyter.widget-view+json": {
       "model_id": "",
       "version_major": 2,
       "version_minor": 0
      },
      "text/plain": [
       "Training:   0%|          | 0/45 [00:00<?, ?it/s]"
      ]
     },
     "metadata": {},
     "output_type": "display_data"
    },
    {
     "data": {
      "application/vnd.jupyter.widget-view+json": {
       "model_id": "",
       "version_major": 2,
       "version_minor": 0
      },
      "text/plain": [
       "Training:   0%|          | 0/45 [00:00<?, ?it/s]"
      ]
     },
     "metadata": {},
     "output_type": "display_data"
    },
    {
     "name": "stdout",
     "output_type": "stream",
     "text": [
      "Early stopping!\n"
     ]
    },
    {
     "data": {
      "application/vnd.jupyter.widget-view+json": {
       "model_id": "2feb78b754fb4c53a6fdb11e7ade9eab",
       "version_major": 2,
       "version_minor": 0
      },
      "text/plain": [
       "Finetuning:   0%|          | 0/10 [00:00<?, ?it/s]"
      ]
     },
     "metadata": {},
     "output_type": "display_data"
    },
    {
     "data": {
      "application/vnd.jupyter.widget-view+json": {
       "model_id": "",
       "version_major": 2,
       "version_minor": 0
      },
      "text/plain": [
       "Training:   0%|          | 0/45 [00:00<?, ?it/s]"
      ]
     },
     "metadata": {},
     "output_type": "display_data"
    },
    {
     "data": {
      "application/vnd.jupyter.widget-view+json": {
       "model_id": "",
       "version_major": 2,
       "version_minor": 0
      },
      "text/plain": [
       "Training:   0%|          | 0/45 [00:00<?, ?it/s]"
      ]
     },
     "metadata": {},
     "output_type": "display_data"
    },
    {
     "data": {
      "application/vnd.jupyter.widget-view+json": {
       "model_id": "",
       "version_major": 2,
       "version_minor": 0
      },
      "text/plain": [
       "Training:   0%|          | 0/45 [00:00<?, ?it/s]"
      ]
     },
     "metadata": {},
     "output_type": "display_data"
    },
    {
     "data": {
      "application/vnd.jupyter.widget-view+json": {
       "model_id": "",
       "version_major": 2,
       "version_minor": 0
      },
      "text/plain": [
       "Training:   0%|          | 0/45 [00:00<?, ?it/s]"
      ]
     },
     "metadata": {},
     "output_type": "display_data"
    },
    {
     "data": {
      "application/vnd.jupyter.widget-view+json": {
       "model_id": "",
       "version_major": 2,
       "version_minor": 0
      },
      "text/plain": [
       "Training:   0%|          | 0/45 [00:00<?, ?it/s]"
      ]
     },
     "metadata": {},
     "output_type": "display_data"
    },
    {
     "data": {
      "application/vnd.jupyter.widget-view+json": {
       "model_id": "",
       "version_major": 2,
       "version_minor": 0
      },
      "text/plain": [
       "Training:   0%|          | 0/45 [00:00<?, ?it/s]"
      ]
     },
     "metadata": {},
     "output_type": "display_data"
    },
    {
     "data": {
      "application/vnd.jupyter.widget-view+json": {
       "model_id": "",
       "version_major": 2,
       "version_minor": 0
      },
      "text/plain": [
       "Training:   0%|          | 0/45 [00:00<?, ?it/s]"
      ]
     },
     "metadata": {},
     "output_type": "display_data"
    },
    {
     "data": {
      "application/vnd.jupyter.widget-view+json": {
       "model_id": "",
       "version_major": 2,
       "version_minor": 0
      },
      "text/plain": [
       "Training:   0%|          | 0/45 [00:00<?, ?it/s]"
      ]
     },
     "metadata": {},
     "output_type": "display_data"
    },
    {
     "data": {
      "application/vnd.jupyter.widget-view+json": {
       "model_id": "",
       "version_major": 2,
       "version_minor": 0
      },
      "text/plain": [
       "Training:   0%|          | 0/45 [00:00<?, ?it/s]"
      ]
     },
     "metadata": {},
     "output_type": "display_data"
    },
    {
     "name": "stdout",
     "output_type": "stream",
     "text": [
      "Early stopping!\n"
     ]
    },
    {
     "data": {
      "application/vnd.jupyter.widget-view+json": {
       "model_id": "e5aabe6fb31147eda1c365c84a631e1b",
       "version_major": 2,
       "version_minor": 0
      },
      "text/plain": [
       "Finetuning:   0%|          | 0/10 [00:00<?, ?it/s]"
      ]
     },
     "metadata": {},
     "output_type": "display_data"
    },
    {
     "data": {
      "application/vnd.jupyter.widget-view+json": {
       "model_id": "",
       "version_major": 2,
       "version_minor": 0
      },
      "text/plain": [
       "Training:   0%|          | 0/135 [00:00<?, ?it/s]"
      ]
     },
     "metadata": {},
     "output_type": "display_data"
    },
    {
     "data": {
      "application/vnd.jupyter.widget-view+json": {
       "model_id": "",
       "version_major": 2,
       "version_minor": 0
      },
      "text/plain": [
       "Training:   0%|          | 0/135 [00:00<?, ?it/s]"
      ]
     },
     "metadata": {},
     "output_type": "display_data"
    },
    {
     "data": {
      "application/vnd.jupyter.widget-view+json": {
       "model_id": "",
       "version_major": 2,
       "version_minor": 0
      },
      "text/plain": [
       "Training:   0%|          | 0/135 [00:00<?, ?it/s]"
      ]
     },
     "metadata": {},
     "output_type": "display_data"
    },
    {
     "data": {
      "application/vnd.jupyter.widget-view+json": {
       "model_id": "",
       "version_major": 2,
       "version_minor": 0
      },
      "text/plain": [
       "Training:   0%|          | 0/135 [00:00<?, ?it/s]"
      ]
     },
     "metadata": {},
     "output_type": "display_data"
    },
    {
     "data": {
      "application/vnd.jupyter.widget-view+json": {
       "model_id": "",
       "version_major": 2,
       "version_minor": 0
      },
      "text/plain": [
       "Training:   0%|          | 0/135 [00:00<?, ?it/s]"
      ]
     },
     "metadata": {},
     "output_type": "display_data"
    },
    {
     "data": {
      "application/vnd.jupyter.widget-view+json": {
       "model_id": "",
       "version_major": 2,
       "version_minor": 0
      },
      "text/plain": [
       "Training:   0%|          | 0/135 [00:00<?, ?it/s]"
      ]
     },
     "metadata": {},
     "output_type": "display_data"
    },
    {
     "data": {
      "application/vnd.jupyter.widget-view+json": {
       "model_id": "",
       "version_major": 2,
       "version_minor": 0
      },
      "text/plain": [
       "Training:   0%|          | 0/135 [00:00<?, ?it/s]"
      ]
     },
     "metadata": {},
     "output_type": "display_data"
    },
    {
     "data": {
      "application/vnd.jupyter.widget-view+json": {
       "model_id": "",
       "version_major": 2,
       "version_minor": 0
      },
      "text/plain": [
       "Training:   0%|          | 0/135 [00:00<?, ?it/s]"
      ]
     },
     "metadata": {},
     "output_type": "display_data"
    },
    {
     "name": "stdout",
     "output_type": "stream",
     "text": [
      "Early stopping!\n"
     ]
    },
    {
     "data": {
      "application/vnd.jupyter.widget-view+json": {
       "model_id": "5093616ea69148ebbfd6f67b2a90d960",
       "version_major": 2,
       "version_minor": 0
      },
      "text/plain": [
       "Finetuning:   0%|          | 0/10 [00:00<?, ?it/s]"
      ]
     },
     "metadata": {},
     "output_type": "display_data"
    },
    {
     "data": {
      "application/vnd.jupyter.widget-view+json": {
       "model_id": "",
       "version_major": 2,
       "version_minor": 0
      },
      "text/plain": [
       "Training:   0%|          | 0/317 [00:00<?, ?it/s]"
      ]
     },
     "metadata": {},
     "output_type": "display_data"
    },
    {
     "data": {
      "application/vnd.jupyter.widget-view+json": {
       "model_id": "",
       "version_major": 2,
       "version_minor": 0
      },
      "text/plain": [
       "Training:   0%|          | 0/317 [00:00<?, ?it/s]"
      ]
     },
     "metadata": {},
     "output_type": "display_data"
    },
    {
     "data": {
      "application/vnd.jupyter.widget-view+json": {
       "model_id": "",
       "version_major": 2,
       "version_minor": 0
      },
      "text/plain": [
       "Training:   0%|          | 0/317 [00:00<?, ?it/s]"
      ]
     },
     "metadata": {},
     "output_type": "display_data"
    },
    {
     "data": {
      "application/vnd.jupyter.widget-view+json": {
       "model_id": "",
       "version_major": 2,
       "version_minor": 0
      },
      "text/plain": [
       "Training:   0%|          | 0/317 [00:00<?, ?it/s]"
      ]
     },
     "metadata": {},
     "output_type": "display_data"
    },
    {
     "data": {
      "application/vnd.jupyter.widget-view+json": {
       "model_id": "",
       "version_major": 2,
       "version_minor": 0
      },
      "text/plain": [
       "Training:   0%|          | 0/317 [00:00<?, ?it/s]"
      ]
     },
     "metadata": {},
     "output_type": "display_data"
    },
    {
     "data": {
      "application/vnd.jupyter.widget-view+json": {
       "model_id": "",
       "version_major": 2,
       "version_minor": 0
      },
      "text/plain": [
       "Training:   0%|          | 0/317 [00:00<?, ?it/s]"
      ]
     },
     "metadata": {},
     "output_type": "display_data"
    },
    {
     "data": {
      "application/vnd.jupyter.widget-view+json": {
       "model_id": "",
       "version_major": 2,
       "version_minor": 0
      },
      "text/plain": [
       "Training:   0%|          | 0/317 [00:00<?, ?it/s]"
      ]
     },
     "metadata": {},
     "output_type": "display_data"
    },
    {
     "data": {
      "application/vnd.jupyter.widget-view+json": {
       "model_id": "",
       "version_major": 2,
       "version_minor": 0
      },
      "text/plain": [
       "Training:   0%|          | 0/317 [00:00<?, ?it/s]"
      ]
     },
     "metadata": {},
     "output_type": "display_data"
    },
    {
     "name": "stdout",
     "output_type": "stream",
     "text": [
      "Early stopping!\n"
     ]
    }
   ],
   "source": [
    "f1_scores = {}\n",
    "for dataset_name, bbox_name in tqdm(dataset_name_to_bbox_name.items()):\n",
    "\n",
    "    is_local_lat = (df.lat >= bboxes[bbox_name].min_lat) & (df.lat <= bboxes[bbox_name].max_lat)\n",
    "    is_local_lon = (df.lon >= bboxes[bbox_name].min_lon) & (df.lon <= bboxes[bbox_name].max_lon)\n",
    "    \n",
    "    is_test = (df[\"name\"] == dataset_name) & (df[\"subset\"] == \"testing\")\n",
    "    is_val = (df[\"name\"] == dataset_name) & (df[\"subset\"] == \"validation\")\n",
    "    test_df = df[is_test]    \n",
    "    val_df = df[is_val]\n",
    "    train_df = df[~is_test & ~is_val & is_local_lat & is_local_lon]\n",
    "\n",
    "    train_dataset = PrestoDataset(train_df, start_month=1)\n",
    "    val_dataset = PrestoDataset(val_df, start_month=1)\n",
    "    test_dataset = PrestoDataset(test_df, start_month=1) \n",
    "\n",
    "    train_dl = DataLoader(dataset=train_dataset, batch_size=batch_size, shuffle=True)\n",
    "    val_dl = DataLoader(dataset=val_dataset, batch_size=batch_size, shuffle=False)\n",
    "    test_dl = DataLoader(dataset=test_dataset, batch_size=batch_size, shuffle=False)\n",
    "    \n",
    "    f1_scores[dataset_name] = finetune_w_early_stopping(train_dl, val_dl, test_dl)"
   ]
  },
  {
   "cell_type": "code",
   "execution_count": 130,
   "id": "b2ff437c",
   "metadata": {},
   "outputs": [],
   "source": [
    "for dataset, f1 in f1_scores.items():\n",
    "    presto_benchmark.loc[presto_benchmark[\"Name\"] == dataset, \"Presto Finetuning w Early Stopping Feb-Feb F1 Score (no DW)\"] = f1"
   ]
  },
  {
   "cell_type": "code",
   "execution_count": 131,
   "id": "bc1d7c0d",
   "metadata": {},
   "outputs": [
    {
     "data": {
      "text/html": [
       "<div>\n",
       "<style scoped>\n",
       "    .dataframe tbody tr th:only-of-type {\n",
       "        vertical-align: middle;\n",
       "    }\n",
       "\n",
       "    .dataframe tbody tr th {\n",
       "        vertical-align: top;\n",
       "    }\n",
       "\n",
       "    .dataframe thead th {\n",
       "        text-align: right;\n",
       "    }\n",
       "</style>\n",
       "<table border=\"1\" class=\"dataframe\">\n",
       "  <thead>\n",
       "    <tr style=\"text-align: right;\">\n",
       "      <th></th>\n",
       "      <th>Name</th>\n",
       "      <th>Total</th>\n",
       "      <th>Crop Amount</th>\n",
       "      <th>Crop Rate</th>\n",
       "      <th>Presto RF Mar-Mar F1 Score (no DW)</th>\n",
       "      <th>Presto RF Feb-Feb F1 Score (no DW)</th>\n",
       "      <th>Presto Finetuning w Early Stopping Feb-Feb F1 Score (no DW)</th>\n",
       "    </tr>\n",
       "  </thead>\n",
       "  <tbody>\n",
       "    <tr>\n",
       "      <th>1</th>\n",
       "      <td>Mali_lower_CEO_2019</td>\n",
       "      <td>271</td>\n",
       "      <td>94</td>\n",
       "      <td>0.347</td>\n",
       "      <td>0.588235</td>\n",
       "      <td>0.641711</td>\n",
       "      <td>0.592593</td>\n",
       "    </tr>\n",
       "    <tr>\n",
       "      <th>3</th>\n",
       "      <td>Togo</td>\n",
       "      <td>310</td>\n",
       "      <td>107</td>\n",
       "      <td>0.345</td>\n",
       "      <td>0.756303</td>\n",
       "      <td>0.742857</td>\n",
       "      <td>0.731092</td>\n",
       "    </tr>\n",
       "    <tr>\n",
       "      <th>4</th>\n",
       "      <td>Rwanda</td>\n",
       "      <td>555</td>\n",
       "      <td>191</td>\n",
       "      <td>0.344</td>\n",
       "      <td>0.627346</td>\n",
       "      <td>0.576819</td>\n",
       "      <td>0.604534</td>\n",
       "    </tr>\n",
       "    <tr>\n",
       "      <th>5</th>\n",
       "      <td>Uganda</td>\n",
       "      <td>456</td>\n",
       "      <td>52</td>\n",
       "      <td>0.114</td>\n",
       "      <td>0.464646</td>\n",
       "      <td>0.437500</td>\n",
       "      <td>0.500000</td>\n",
       "    </tr>\n",
       "    <tr>\n",
       "      <th>6</th>\n",
       "      <td>Ethiopia_Tigray_2020</td>\n",
       "      <td>507</td>\n",
       "      <td>139</td>\n",
       "      <td>0.274</td>\n",
       "      <td>0.641221</td>\n",
       "      <td>0.651341</td>\n",
       "      <td>0.666667</td>\n",
       "    </tr>\n",
       "    <tr>\n",
       "      <th>7</th>\n",
       "      <td>Ethiopia_Tigray_2021</td>\n",
       "      <td>367</td>\n",
       "      <td>120</td>\n",
       "      <td>0.327</td>\n",
       "      <td>0.669903</td>\n",
       "      <td>0.689320</td>\n",
       "      <td>0.682692</td>\n",
       "    </tr>\n",
       "    <tr>\n",
       "      <th>8</th>\n",
       "      <td>Ethiopia_Bure_Jimma_2019</td>\n",
       "      <td>498</td>\n",
       "      <td>161</td>\n",
       "      <td>0.323</td>\n",
       "      <td>0.819355</td>\n",
       "      <td>0.825806</td>\n",
       "      <td>0.808642</td>\n",
       "    </tr>\n",
       "    <tr>\n",
       "      <th>9</th>\n",
       "      <td>Ethiopia_Bure_Jimma_2020</td>\n",
       "      <td>455</td>\n",
       "      <td>129</td>\n",
       "      <td>0.284</td>\n",
       "      <td>0.880309</td>\n",
       "      <td>0.849421</td>\n",
       "      <td>0.838951</td>\n",
       "    </tr>\n",
       "    <tr>\n",
       "      <th>10</th>\n",
       "      <td>Malawi_CEO_2020</td>\n",
       "      <td>457</td>\n",
       "      <td>67</td>\n",
       "      <td>0.147</td>\n",
       "      <td>0.142857</td>\n",
       "      <td>0.117647</td>\n",
       "      <td>0.113475</td>\n",
       "    </tr>\n",
       "    <tr>\n",
       "      <th>12</th>\n",
       "      <td>Tanzania_CEO_2019</td>\n",
       "      <td>2037</td>\n",
       "      <td>626</td>\n",
       "      <td>0.307</td>\n",
       "      <td>0.803220</td>\n",
       "      <td>0.809991</td>\n",
       "      <td>0.770306</td>\n",
       "    </tr>\n",
       "    <tr>\n",
       "      <th>14</th>\n",
       "      <td>Sudan_Blue_Nile_CEO_2019</td>\n",
       "      <td>526</td>\n",
       "      <td>173</td>\n",
       "      <td>0.329</td>\n",
       "      <td>0.858934</td>\n",
       "      <td>0.863354</td>\n",
       "      <td>0.916667</td>\n",
       "    </tr>\n",
       "    <tr>\n",
       "      <th>16</th>\n",
       "      <td>Senegal_CEO_2022</td>\n",
       "      <td>610</td>\n",
       "      <td>90</td>\n",
       "      <td>0.148</td>\n",
       "      <td>0.444444</td>\n",
       "      <td>0.458333</td>\n",
       "      <td>0.405229</td>\n",
       "    </tr>\n",
       "    <tr>\n",
       "      <th>18</th>\n",
       "      <td>SudanBlueNileCEO2020</td>\n",
       "      <td>533</td>\n",
       "      <td>121</td>\n",
       "      <td>0.227</td>\n",
       "      <td>0.768061</td>\n",
       "      <td>0.783270</td>\n",
       "      <td>0.757447</td>\n",
       "    </tr>\n",
       "    <tr>\n",
       "      <th>19</th>\n",
       "      <td>SudanAlGadarefCEO2019</td>\n",
       "      <td>533</td>\n",
       "      <td>135</td>\n",
       "      <td>0.253</td>\n",
       "      <td>0.599303</td>\n",
       "      <td>0.578397</td>\n",
       "      <td>0.407767</td>\n",
       "    </tr>\n",
       "    <tr>\n",
       "      <th>21</th>\n",
       "      <td>SudanAlGadarefCEO2020</td>\n",
       "      <td>532</td>\n",
       "      <td>202</td>\n",
       "      <td>0.380</td>\n",
       "      <td>0.622222</td>\n",
       "      <td>0.630986</td>\n",
       "      <td>0.699332</td>\n",
       "    </tr>\n",
       "    <tr>\n",
       "      <th>23</th>\n",
       "      <td>SudanGedarefDarfurAlJazirah2022</td>\n",
       "      <td>375</td>\n",
       "      <td>127</td>\n",
       "      <td>0.339</td>\n",
       "      <td>0.763158</td>\n",
       "      <td>0.741379</td>\n",
       "      <td>0.746888</td>\n",
       "    </tr>\n",
       "    <tr>\n",
       "      <th>24</th>\n",
       "      <td>Uganda_NorthCEO2022</td>\n",
       "      <td>319</td>\n",
       "      <td>56</td>\n",
       "      <td>0.176</td>\n",
       "      <td>0.282051</td>\n",
       "      <td>0.271605</td>\n",
       "      <td>0.233766</td>\n",
       "    </tr>\n",
       "  </tbody>\n",
       "</table>\n",
       "</div>"
      ],
      "text/plain": [
       "                               Name  Total  Crop Amount  Crop Rate  \\\n",
       "1               Mali_lower_CEO_2019    271           94      0.347   \n",
       "3                              Togo    310          107      0.345   \n",
       "4                            Rwanda    555          191      0.344   \n",
       "5                            Uganda    456           52      0.114   \n",
       "6              Ethiopia_Tigray_2020    507          139      0.274   \n",
       "7              Ethiopia_Tigray_2021    367          120      0.327   \n",
       "8          Ethiopia_Bure_Jimma_2019    498          161      0.323   \n",
       "9          Ethiopia_Bure_Jimma_2020    455          129      0.284   \n",
       "10                  Malawi_CEO_2020    457           67      0.147   \n",
       "12                Tanzania_CEO_2019   2037          626      0.307   \n",
       "14         Sudan_Blue_Nile_CEO_2019    526          173      0.329   \n",
       "16                 Senegal_CEO_2022    610           90      0.148   \n",
       "18             SudanBlueNileCEO2020    533          121      0.227   \n",
       "19            SudanAlGadarefCEO2019    533          135      0.253   \n",
       "21            SudanAlGadarefCEO2020    532          202      0.380   \n",
       "23  SudanGedarefDarfurAlJazirah2022    375          127      0.339   \n",
       "24              Uganda_NorthCEO2022    319           56      0.176   \n",
       "\n",
       "    Presto RF Mar-Mar F1 Score (no DW)  Presto RF Feb-Feb F1 Score (no DW)  \\\n",
       "1                             0.588235                            0.641711   \n",
       "3                             0.756303                            0.742857   \n",
       "4                             0.627346                            0.576819   \n",
       "5                             0.464646                            0.437500   \n",
       "6                             0.641221                            0.651341   \n",
       "7                             0.669903                            0.689320   \n",
       "8                             0.819355                            0.825806   \n",
       "9                             0.880309                            0.849421   \n",
       "10                            0.142857                            0.117647   \n",
       "12                            0.803220                            0.809991   \n",
       "14                            0.858934                            0.863354   \n",
       "16                            0.444444                            0.458333   \n",
       "18                            0.768061                            0.783270   \n",
       "19                            0.599303                            0.578397   \n",
       "21                            0.622222                            0.630986   \n",
       "23                            0.763158                            0.741379   \n",
       "24                            0.282051                            0.271605   \n",
       "\n",
       "    Presto Finetuning w Early Stopping Feb-Feb F1 Score (no DW)  \n",
       "1                                            0.592593            \n",
       "3                                            0.731092            \n",
       "4                                            0.604534            \n",
       "5                                            0.500000            \n",
       "6                                            0.666667            \n",
       "7                                            0.682692            \n",
       "8                                            0.808642            \n",
       "9                                            0.838951            \n",
       "10                                           0.113475            \n",
       "12                                           0.770306            \n",
       "14                                           0.916667            \n",
       "16                                           0.405229            \n",
       "18                                           0.757447            \n",
       "19                                           0.407767            \n",
       "21                                           0.699332            \n",
       "23                                           0.746888            \n",
       "24                                           0.233766            "
      ]
     },
     "execution_count": 131,
     "metadata": {},
     "output_type": "execute_result"
    }
   ],
   "source": [
    "presto_benchmark"
   ]
  },
  {
   "cell_type": "code",
   "execution_count": 132,
   "id": "aee968c2",
   "metadata": {},
   "outputs": [],
   "source": [
    "def finetune(train_dl, test_dl):\n",
    "    model = encoder_decoder.construct_finetuning_model(num_outputs=1, regression=False)\n",
    "\n",
    "    optimizer = Adam(model.parameters(), lr=lr) # TODO: Consider AdamW\n",
    "    loss_fn = nn.BCELoss()\n",
    "\n",
    "    train_loss = []\n",
    "\n",
    "    for _ in (pbar := tqdm(range(max_epochs), desc=\"Finetuning\")):\n",
    "        model.train()\n",
    "        epoch_train_loss = 0.0\n",
    "        for x, latlons, dw, month, y in tqdm(train_dl, desc=\"Training\", leave=False):\n",
    "            x, dw, latlons, y, month = [t.to(DEVICE) for t in (x, dw, latlons, y, month)]\n",
    "            optimizer.zero_grad()\n",
    "            preds = model(x, dynamic_world=dw, mask=None, latlons=latlons, month=month)\n",
    "            loss = loss_fn(preds, y.unsqueeze(dim=1))\n",
    "            epoch_train_loss += loss.item()\n",
    "            loss.backward()\n",
    "            optimizer.step()\n",
    "        train_loss.append(epoch_train_loss / len(train_dl))\n",
    "\n",
    "    model.eval()\n",
    "\n",
    "    test_preds, test_y = [], []\n",
    "    for x, latlons, dw, month, y in test_dl:\n",
    "        x, dw, latlons, y, month = [t.to(DEVICE) for t in (x, dw, latlons, y, month)]\n",
    "        with torch.no_grad():\n",
    "            preds = model(x, dynamic_world=dw, mask=None, latlons=latlons, month=month)\n",
    "            test_preds += (preds.flatten().numpy() > 0.50).astype(int).tolist()\n",
    "            test_y += y.numpy().astype(int).tolist()\n",
    "\n",
    "    return f1_score(test_preds, test_y)"
   ]
  },
  {
   "cell_type": "code",
   "execution_count": 134,
   "id": "80bed719",
   "metadata": {},
   "outputs": [
    {
     "data": {
      "application/vnd.jupyter.widget-view+json": {
       "model_id": "13c43abe60be4c418761394009a2dcfd",
       "version_major": 2,
       "version_minor": 0
      },
      "text/plain": [
       "  0%|          | 0/17 [00:00<?, ?it/s]"
      ]
     },
     "metadata": {},
     "output_type": "display_data"
    },
    {
     "data": {
      "application/vnd.jupyter.widget-view+json": {
       "model_id": "285b8da0bafa412d9288e0475e900615",
       "version_major": 2,
       "version_minor": 0
      },
      "text/plain": [
       "Finetuning:   0%|          | 0/10 [00:00<?, ?it/s]"
      ]
     },
     "metadata": {},
     "output_type": "display_data"
    },
    {
     "data": {
      "application/vnd.jupyter.widget-view+json": {
       "model_id": "",
       "version_major": 2,
       "version_minor": 0
      },
      "text/plain": [
       "Training:   0%|          | 0/22 [00:00<?, ?it/s]"
      ]
     },
     "metadata": {},
     "output_type": "display_data"
    },
    {
     "data": {
      "application/vnd.jupyter.widget-view+json": {
       "model_id": "",
       "version_major": 2,
       "version_minor": 0
      },
      "text/plain": [
       "Training:   0%|          | 0/22 [00:00<?, ?it/s]"
      ]
     },
     "metadata": {},
     "output_type": "display_data"
    },
    {
     "data": {
      "application/vnd.jupyter.widget-view+json": {
       "model_id": "",
       "version_major": 2,
       "version_minor": 0
      },
      "text/plain": [
       "Training:   0%|          | 0/22 [00:00<?, ?it/s]"
      ]
     },
     "metadata": {},
     "output_type": "display_data"
    },
    {
     "data": {
      "application/vnd.jupyter.widget-view+json": {
       "model_id": "",
       "version_major": 2,
       "version_minor": 0
      },
      "text/plain": [
       "Training:   0%|          | 0/22 [00:00<?, ?it/s]"
      ]
     },
     "metadata": {},
     "output_type": "display_data"
    },
    {
     "data": {
      "application/vnd.jupyter.widget-view+json": {
       "model_id": "",
       "version_major": 2,
       "version_minor": 0
      },
      "text/plain": [
       "Training:   0%|          | 0/22 [00:00<?, ?it/s]"
      ]
     },
     "metadata": {},
     "output_type": "display_data"
    },
    {
     "data": {
      "application/vnd.jupyter.widget-view+json": {
       "model_id": "",
       "version_major": 2,
       "version_minor": 0
      },
      "text/plain": [
       "Training:   0%|          | 0/22 [00:00<?, ?it/s]"
      ]
     },
     "metadata": {},
     "output_type": "display_data"
    },
    {
     "data": {
      "application/vnd.jupyter.widget-view+json": {
       "model_id": "",
       "version_major": 2,
       "version_minor": 0
      },
      "text/plain": [
       "Training:   0%|          | 0/22 [00:00<?, ?it/s]"
      ]
     },
     "metadata": {},
     "output_type": "display_data"
    },
    {
     "data": {
      "application/vnd.jupyter.widget-view+json": {
       "model_id": "",
       "version_major": 2,
       "version_minor": 0
      },
      "text/plain": [
       "Training:   0%|          | 0/22 [00:00<?, ?it/s]"
      ]
     },
     "metadata": {},
     "output_type": "display_data"
    },
    {
     "data": {
      "application/vnd.jupyter.widget-view+json": {
       "model_id": "",
       "version_major": 2,
       "version_minor": 0
      },
      "text/plain": [
       "Training:   0%|          | 0/22 [00:00<?, ?it/s]"
      ]
     },
     "metadata": {},
     "output_type": "display_data"
    },
    {
     "data": {
      "application/vnd.jupyter.widget-view+json": {
       "model_id": "",
       "version_major": 2,
       "version_minor": 0
      },
      "text/plain": [
       "Training:   0%|          | 0/22 [00:00<?, ?it/s]"
      ]
     },
     "metadata": {},
     "output_type": "display_data"
    },
    {
     "data": {
      "application/vnd.jupyter.widget-view+json": {
       "model_id": "33b491db1cb34b1ea464f79858f30a60",
       "version_major": 2,
       "version_minor": 0
      },
      "text/plain": [
       "Finetuning:   0%|          | 0/10 [00:00<?, ?it/s]"
      ]
     },
     "metadata": {},
     "output_type": "display_data"
    },
    {
     "data": {
      "application/vnd.jupyter.widget-view+json": {
       "model_id": "",
       "version_major": 2,
       "version_minor": 0
      },
      "text/plain": [
       "Training:   0%|          | 0/21 [00:00<?, ?it/s]"
      ]
     },
     "metadata": {},
     "output_type": "display_data"
    },
    {
     "data": {
      "application/vnd.jupyter.widget-view+json": {
       "model_id": "",
       "version_major": 2,
       "version_minor": 0
      },
      "text/plain": [
       "Training:   0%|          | 0/21 [00:00<?, ?it/s]"
      ]
     },
     "metadata": {},
     "output_type": "display_data"
    },
    {
     "data": {
      "application/vnd.jupyter.widget-view+json": {
       "model_id": "",
       "version_major": 2,
       "version_minor": 0
      },
      "text/plain": [
       "Training:   0%|          | 0/21 [00:00<?, ?it/s]"
      ]
     },
     "metadata": {},
     "output_type": "display_data"
    },
    {
     "data": {
      "application/vnd.jupyter.widget-view+json": {
       "model_id": "",
       "version_major": 2,
       "version_minor": 0
      },
      "text/plain": [
       "Training:   0%|          | 0/21 [00:00<?, ?it/s]"
      ]
     },
     "metadata": {},
     "output_type": "display_data"
    },
    {
     "data": {
      "application/vnd.jupyter.widget-view+json": {
       "model_id": "",
       "version_major": 2,
       "version_minor": 0
      },
      "text/plain": [
       "Training:   0%|          | 0/21 [00:00<?, ?it/s]"
      ]
     },
     "metadata": {},
     "output_type": "display_data"
    },
    {
     "data": {
      "application/vnd.jupyter.widget-view+json": {
       "model_id": "",
       "version_major": 2,
       "version_minor": 0
      },
      "text/plain": [
       "Training:   0%|          | 0/21 [00:00<?, ?it/s]"
      ]
     },
     "metadata": {},
     "output_type": "display_data"
    },
    {
     "data": {
      "application/vnd.jupyter.widget-view+json": {
       "model_id": "",
       "version_major": 2,
       "version_minor": 0
      },
      "text/plain": [
       "Training:   0%|          | 0/21 [00:00<?, ?it/s]"
      ]
     },
     "metadata": {},
     "output_type": "display_data"
    },
    {
     "data": {
      "application/vnd.jupyter.widget-view+json": {
       "model_id": "",
       "version_major": 2,
       "version_minor": 0
      },
      "text/plain": [
       "Training:   0%|          | 0/21 [00:00<?, ?it/s]"
      ]
     },
     "metadata": {},
     "output_type": "display_data"
    },
    {
     "data": {
      "application/vnd.jupyter.widget-view+json": {
       "model_id": "",
       "version_major": 2,
       "version_minor": 0
      },
      "text/plain": [
       "Training:   0%|          | 0/21 [00:00<?, ?it/s]"
      ]
     },
     "metadata": {},
     "output_type": "display_data"
    },
    {
     "data": {
      "application/vnd.jupyter.widget-view+json": {
       "model_id": "",
       "version_major": 2,
       "version_minor": 0
      },
      "text/plain": [
       "Training:   0%|          | 0/21 [00:00<?, ?it/s]"
      ]
     },
     "metadata": {},
     "output_type": "display_data"
    },
    {
     "data": {
      "application/vnd.jupyter.widget-view+json": {
       "model_id": "6f32031f2d6d45c3a934e3cf9119d40b",
       "version_major": 2,
       "version_minor": 0
      },
      "text/plain": [
       "Finetuning:   0%|          | 0/10 [00:00<?, ?it/s]"
      ]
     },
     "metadata": {},
     "output_type": "display_data"
    },
    {
     "data": {
      "application/vnd.jupyter.widget-view+json": {
       "model_id": "",
       "version_major": 2,
       "version_minor": 0
      },
      "text/plain": [
       "Training:   0%|          | 0/19 [00:00<?, ?it/s]"
      ]
     },
     "metadata": {},
     "output_type": "display_data"
    },
    {
     "data": {
      "application/vnd.jupyter.widget-view+json": {
       "model_id": "",
       "version_major": 2,
       "version_minor": 0
      },
      "text/plain": [
       "Training:   0%|          | 0/19 [00:00<?, ?it/s]"
      ]
     },
     "metadata": {},
     "output_type": "display_data"
    },
    {
     "data": {
      "application/vnd.jupyter.widget-view+json": {
       "model_id": "",
       "version_major": 2,
       "version_minor": 0
      },
      "text/plain": [
       "Training:   0%|          | 0/19 [00:00<?, ?it/s]"
      ]
     },
     "metadata": {},
     "output_type": "display_data"
    },
    {
     "data": {
      "application/vnd.jupyter.widget-view+json": {
       "model_id": "",
       "version_major": 2,
       "version_minor": 0
      },
      "text/plain": [
       "Training:   0%|          | 0/19 [00:00<?, ?it/s]"
      ]
     },
     "metadata": {},
     "output_type": "display_data"
    },
    {
     "data": {
      "application/vnd.jupyter.widget-view+json": {
       "model_id": "",
       "version_major": 2,
       "version_minor": 0
      },
      "text/plain": [
       "Training:   0%|          | 0/19 [00:00<?, ?it/s]"
      ]
     },
     "metadata": {},
     "output_type": "display_data"
    },
    {
     "data": {
      "application/vnd.jupyter.widget-view+json": {
       "model_id": "",
       "version_major": 2,
       "version_minor": 0
      },
      "text/plain": [
       "Training:   0%|          | 0/19 [00:00<?, ?it/s]"
      ]
     },
     "metadata": {},
     "output_type": "display_data"
    },
    {
     "data": {
      "application/vnd.jupyter.widget-view+json": {
       "model_id": "",
       "version_major": 2,
       "version_minor": 0
      },
      "text/plain": [
       "Training:   0%|          | 0/19 [00:00<?, ?it/s]"
      ]
     },
     "metadata": {},
     "output_type": "display_data"
    },
    {
     "data": {
      "application/vnd.jupyter.widget-view+json": {
       "model_id": "",
       "version_major": 2,
       "version_minor": 0
      },
      "text/plain": [
       "Training:   0%|          | 0/19 [00:00<?, ?it/s]"
      ]
     },
     "metadata": {},
     "output_type": "display_data"
    },
    {
     "data": {
      "application/vnd.jupyter.widget-view+json": {
       "model_id": "",
       "version_major": 2,
       "version_minor": 0
      },
      "text/plain": [
       "Training:   0%|          | 0/19 [00:00<?, ?it/s]"
      ]
     },
     "metadata": {},
     "output_type": "display_data"
    },
    {
     "data": {
      "application/vnd.jupyter.widget-view+json": {
       "model_id": "",
       "version_major": 2,
       "version_minor": 0
      },
      "text/plain": [
       "Training:   0%|          | 0/19 [00:00<?, ?it/s]"
      ]
     },
     "metadata": {},
     "output_type": "display_data"
    },
    {
     "data": {
      "application/vnd.jupyter.widget-view+json": {
       "model_id": "74023d37d7b241d9987b1a58a100f867",
       "version_major": 2,
       "version_minor": 0
      },
      "text/plain": [
       "Finetuning:   0%|          | 0/10 [00:00<?, ?it/s]"
      ]
     },
     "metadata": {},
     "output_type": "display_data"
    },
    {
     "data": {
      "application/vnd.jupyter.widget-view+json": {
       "model_id": "",
       "version_major": 2,
       "version_minor": 0
      },
      "text/plain": [
       "Training:   0%|          | 0/319 [00:00<?, ?it/s]"
      ]
     },
     "metadata": {},
     "output_type": "display_data"
    },
    {
     "data": {
      "application/vnd.jupyter.widget-view+json": {
       "model_id": "",
       "version_major": 2,
       "version_minor": 0
      },
      "text/plain": [
       "Training:   0%|          | 0/319 [00:00<?, ?it/s]"
      ]
     },
     "metadata": {},
     "output_type": "display_data"
    },
    {
     "data": {
      "application/vnd.jupyter.widget-view+json": {
       "model_id": "",
       "version_major": 2,
       "version_minor": 0
      },
      "text/plain": [
       "Training:   0%|          | 0/319 [00:00<?, ?it/s]"
      ]
     },
     "metadata": {},
     "output_type": "display_data"
    },
    {
     "data": {
      "application/vnd.jupyter.widget-view+json": {
       "model_id": "",
       "version_major": 2,
       "version_minor": 0
      },
      "text/plain": [
       "Training:   0%|          | 0/319 [00:00<?, ?it/s]"
      ]
     },
     "metadata": {},
     "output_type": "display_data"
    },
    {
     "data": {
      "application/vnd.jupyter.widget-view+json": {
       "model_id": "",
       "version_major": 2,
       "version_minor": 0
      },
      "text/plain": [
       "Training:   0%|          | 0/319 [00:00<?, ?it/s]"
      ]
     },
     "metadata": {},
     "output_type": "display_data"
    },
    {
     "data": {
      "application/vnd.jupyter.widget-view+json": {
       "model_id": "",
       "version_major": 2,
       "version_minor": 0
      },
      "text/plain": [
       "Training:   0%|          | 0/319 [00:00<?, ?it/s]"
      ]
     },
     "metadata": {},
     "output_type": "display_data"
    },
    {
     "data": {
      "application/vnd.jupyter.widget-view+json": {
       "model_id": "",
       "version_major": 2,
       "version_minor": 0
      },
      "text/plain": [
       "Training:   0%|          | 0/319 [00:00<?, ?it/s]"
      ]
     },
     "metadata": {},
     "output_type": "display_data"
    },
    {
     "data": {
      "application/vnd.jupyter.widget-view+json": {
       "model_id": "",
       "version_major": 2,
       "version_minor": 0
      },
      "text/plain": [
       "Training:   0%|          | 0/319 [00:00<?, ?it/s]"
      ]
     },
     "metadata": {},
     "output_type": "display_data"
    },
    {
     "data": {
      "application/vnd.jupyter.widget-view+json": {
       "model_id": "",
       "version_major": 2,
       "version_minor": 0
      },
      "text/plain": [
       "Training:   0%|          | 0/319 [00:00<?, ?it/s]"
      ]
     },
     "metadata": {},
     "output_type": "display_data"
    },
    {
     "data": {
      "application/vnd.jupyter.widget-view+json": {
       "model_id": "",
       "version_major": 2,
       "version_minor": 0
      },
      "text/plain": [
       "Training:   0%|          | 0/319 [00:00<?, ?it/s]"
      ]
     },
     "metadata": {},
     "output_type": "display_data"
    },
    {
     "data": {
      "application/vnd.jupyter.widget-view+json": {
       "model_id": "8af962379d9744568dba3ca034c2dfb1",
       "version_major": 2,
       "version_minor": 0
      },
      "text/plain": [
       "Finetuning:   0%|          | 0/10 [00:00<?, ?it/s]"
      ]
     },
     "metadata": {},
     "output_type": "display_data"
    },
    {
     "data": {
      "application/vnd.jupyter.widget-view+json": {
       "model_id": "",
       "version_major": 2,
       "version_minor": 0
      },
      "text/plain": [
       "Training:   0%|          | 0/85 [00:00<?, ?it/s]"
      ]
     },
     "metadata": {},
     "output_type": "display_data"
    },
    {
     "data": {
      "application/vnd.jupyter.widget-view+json": {
       "model_id": "",
       "version_major": 2,
       "version_minor": 0
      },
      "text/plain": [
       "Training:   0%|          | 0/85 [00:00<?, ?it/s]"
      ]
     },
     "metadata": {},
     "output_type": "display_data"
    },
    {
     "data": {
      "application/vnd.jupyter.widget-view+json": {
       "model_id": "",
       "version_major": 2,
       "version_minor": 0
      },
      "text/plain": [
       "Training:   0%|          | 0/85 [00:00<?, ?it/s]"
      ]
     },
     "metadata": {},
     "output_type": "display_data"
    },
    {
     "data": {
      "application/vnd.jupyter.widget-view+json": {
       "model_id": "",
       "version_major": 2,
       "version_minor": 0
      },
      "text/plain": [
       "Training:   0%|          | 0/85 [00:00<?, ?it/s]"
      ]
     },
     "metadata": {},
     "output_type": "display_data"
    },
    {
     "data": {
      "application/vnd.jupyter.widget-view+json": {
       "model_id": "",
       "version_major": 2,
       "version_minor": 0
      },
      "text/plain": [
       "Training:   0%|          | 0/85 [00:00<?, ?it/s]"
      ]
     },
     "metadata": {},
     "output_type": "display_data"
    },
    {
     "data": {
      "application/vnd.jupyter.widget-view+json": {
       "model_id": "",
       "version_major": 2,
       "version_minor": 0
      },
      "text/plain": [
       "Training:   0%|          | 0/85 [00:00<?, ?it/s]"
      ]
     },
     "metadata": {},
     "output_type": "display_data"
    },
    {
     "data": {
      "application/vnd.jupyter.widget-view+json": {
       "model_id": "",
       "version_major": 2,
       "version_minor": 0
      },
      "text/plain": [
       "Training:   0%|          | 0/85 [00:00<?, ?it/s]"
      ]
     },
     "metadata": {},
     "output_type": "display_data"
    },
    {
     "data": {
      "application/vnd.jupyter.widget-view+json": {
       "model_id": "",
       "version_major": 2,
       "version_minor": 0
      },
      "text/plain": [
       "Training:   0%|          | 0/85 [00:00<?, ?it/s]"
      ]
     },
     "metadata": {},
     "output_type": "display_data"
    },
    {
     "data": {
      "application/vnd.jupyter.widget-view+json": {
       "model_id": "",
       "version_major": 2,
       "version_minor": 0
      },
      "text/plain": [
       "Training:   0%|          | 0/85 [00:00<?, ?it/s]"
      ]
     },
     "metadata": {},
     "output_type": "display_data"
    },
    {
     "data": {
      "application/vnd.jupyter.widget-view+json": {
       "model_id": "",
       "version_major": 2,
       "version_minor": 0
      },
      "text/plain": [
       "Training:   0%|          | 0/85 [00:00<?, ?it/s]"
      ]
     },
     "metadata": {},
     "output_type": "display_data"
    },
    {
     "data": {
      "application/vnd.jupyter.widget-view+json": {
       "model_id": "7bb7eb94c5eb4b5fb4c13f03a2fade68",
       "version_major": 2,
       "version_minor": 0
      },
      "text/plain": [
       "Finetuning:   0%|          | 0/10 [00:00<?, ?it/s]"
      ]
     },
     "metadata": {},
     "output_type": "display_data"
    },
    {
     "data": {
      "application/vnd.jupyter.widget-view+json": {
       "model_id": "",
       "version_major": 2,
       "version_minor": 0
      },
      "text/plain": [
       "Training:   0%|          | 0/88 [00:00<?, ?it/s]"
      ]
     },
     "metadata": {},
     "output_type": "display_data"
    },
    {
     "data": {
      "application/vnd.jupyter.widget-view+json": {
       "model_id": "",
       "version_major": 2,
       "version_minor": 0
      },
      "text/plain": [
       "Training:   0%|          | 0/88 [00:00<?, ?it/s]"
      ]
     },
     "metadata": {},
     "output_type": "display_data"
    },
    {
     "data": {
      "application/vnd.jupyter.widget-view+json": {
       "model_id": "",
       "version_major": 2,
       "version_minor": 0
      },
      "text/plain": [
       "Training:   0%|          | 0/88 [00:00<?, ?it/s]"
      ]
     },
     "metadata": {},
     "output_type": "display_data"
    },
    {
     "data": {
      "application/vnd.jupyter.widget-view+json": {
       "model_id": "",
       "version_major": 2,
       "version_minor": 0
      },
      "text/plain": [
       "Training:   0%|          | 0/88 [00:00<?, ?it/s]"
      ]
     },
     "metadata": {},
     "output_type": "display_data"
    },
    {
     "data": {
      "application/vnd.jupyter.widget-view+json": {
       "model_id": "",
       "version_major": 2,
       "version_minor": 0
      },
      "text/plain": [
       "Training:   0%|          | 0/88 [00:00<?, ?it/s]"
      ]
     },
     "metadata": {},
     "output_type": "display_data"
    },
    {
     "data": {
      "application/vnd.jupyter.widget-view+json": {
       "model_id": "",
       "version_major": 2,
       "version_minor": 0
      },
      "text/plain": [
       "Training:   0%|          | 0/88 [00:00<?, ?it/s]"
      ]
     },
     "metadata": {},
     "output_type": "display_data"
    },
    {
     "data": {
      "application/vnd.jupyter.widget-view+json": {
       "model_id": "",
       "version_major": 2,
       "version_minor": 0
      },
      "text/plain": [
       "Training:   0%|          | 0/88 [00:00<?, ?it/s]"
      ]
     },
     "metadata": {},
     "output_type": "display_data"
    },
    {
     "data": {
      "application/vnd.jupyter.widget-view+json": {
       "model_id": "",
       "version_major": 2,
       "version_minor": 0
      },
      "text/plain": [
       "Training:   0%|          | 0/88 [00:00<?, ?it/s]"
      ]
     },
     "metadata": {},
     "output_type": "display_data"
    },
    {
     "data": {
      "application/vnd.jupyter.widget-view+json": {
       "model_id": "",
       "version_major": 2,
       "version_minor": 0
      },
      "text/plain": [
       "Training:   0%|          | 0/88 [00:00<?, ?it/s]"
      ]
     },
     "metadata": {},
     "output_type": "display_data"
    },
    {
     "data": {
      "application/vnd.jupyter.widget-view+json": {
       "model_id": "",
       "version_major": 2,
       "version_minor": 0
      },
      "text/plain": [
       "Training:   0%|          | 0/88 [00:00<?, ?it/s]"
      ]
     },
     "metadata": {},
     "output_type": "display_data"
    },
    {
     "data": {
      "application/vnd.jupyter.widget-view+json": {
       "model_id": "d5521f5ce9294209ac80816861f2ebe9",
       "version_major": 2,
       "version_minor": 0
      },
      "text/plain": [
       "Finetuning:   0%|          | 0/10 [00:00<?, ?it/s]"
      ]
     },
     "metadata": {},
     "output_type": "display_data"
    },
    {
     "data": {
      "application/vnd.jupyter.widget-view+json": {
       "model_id": "",
       "version_major": 2,
       "version_minor": 0
      },
      "text/plain": [
       "Training:   0%|          | 0/33 [00:00<?, ?it/s]"
      ]
     },
     "metadata": {},
     "output_type": "display_data"
    },
    {
     "data": {
      "application/vnd.jupyter.widget-view+json": {
       "model_id": "",
       "version_major": 2,
       "version_minor": 0
      },
      "text/plain": [
       "Training:   0%|          | 0/33 [00:00<?, ?it/s]"
      ]
     },
     "metadata": {},
     "output_type": "display_data"
    },
    {
     "data": {
      "application/vnd.jupyter.widget-view+json": {
       "model_id": "",
       "version_major": 2,
       "version_minor": 0
      },
      "text/plain": [
       "Training:   0%|          | 0/33 [00:00<?, ?it/s]"
      ]
     },
     "metadata": {},
     "output_type": "display_data"
    },
    {
     "data": {
      "application/vnd.jupyter.widget-view+json": {
       "model_id": "",
       "version_major": 2,
       "version_minor": 0
      },
      "text/plain": [
       "Training:   0%|          | 0/33 [00:00<?, ?it/s]"
      ]
     },
     "metadata": {},
     "output_type": "display_data"
    },
    {
     "data": {
      "application/vnd.jupyter.widget-view+json": {
       "model_id": "",
       "version_major": 2,
       "version_minor": 0
      },
      "text/plain": [
       "Training:   0%|          | 0/33 [00:00<?, ?it/s]"
      ]
     },
     "metadata": {},
     "output_type": "display_data"
    },
    {
     "data": {
      "application/vnd.jupyter.widget-view+json": {
       "model_id": "",
       "version_major": 2,
       "version_minor": 0
      },
      "text/plain": [
       "Training:   0%|          | 0/33 [00:00<?, ?it/s]"
      ]
     },
     "metadata": {},
     "output_type": "display_data"
    },
    {
     "data": {
      "application/vnd.jupyter.widget-view+json": {
       "model_id": "",
       "version_major": 2,
       "version_minor": 0
      },
      "text/plain": [
       "Training:   0%|          | 0/33 [00:00<?, ?it/s]"
      ]
     },
     "metadata": {},
     "output_type": "display_data"
    },
    {
     "data": {
      "application/vnd.jupyter.widget-view+json": {
       "model_id": "",
       "version_major": 2,
       "version_minor": 0
      },
      "text/plain": [
       "Training:   0%|          | 0/33 [00:00<?, ?it/s]"
      ]
     },
     "metadata": {},
     "output_type": "display_data"
    },
    {
     "data": {
      "application/vnd.jupyter.widget-view+json": {
       "model_id": "",
       "version_major": 2,
       "version_minor": 0
      },
      "text/plain": [
       "Training:   0%|          | 0/33 [00:00<?, ?it/s]"
      ]
     },
     "metadata": {},
     "output_type": "display_data"
    },
    {
     "data": {
      "application/vnd.jupyter.widget-view+json": {
       "model_id": "",
       "version_major": 2,
       "version_minor": 0
      },
      "text/plain": [
       "Training:   0%|          | 0/33 [00:00<?, ?it/s]"
      ]
     },
     "metadata": {},
     "output_type": "display_data"
    },
    {
     "data": {
      "application/vnd.jupyter.widget-view+json": {
       "model_id": "232337af67504cafa4ec67cedb46b6e7",
       "version_major": 2,
       "version_minor": 0
      },
      "text/plain": [
       "Finetuning:   0%|          | 0/10 [00:00<?, ?it/s]"
      ]
     },
     "metadata": {},
     "output_type": "display_data"
    },
    {
     "data": {
      "application/vnd.jupyter.widget-view+json": {
       "model_id": "",
       "version_major": 2,
       "version_minor": 0
      },
      "text/plain": [
       "Training:   0%|          | 0/34 [00:00<?, ?it/s]"
      ]
     },
     "metadata": {},
     "output_type": "display_data"
    },
    {
     "data": {
      "application/vnd.jupyter.widget-view+json": {
       "model_id": "",
       "version_major": 2,
       "version_minor": 0
      },
      "text/plain": [
       "Training:   0%|          | 0/34 [00:00<?, ?it/s]"
      ]
     },
     "metadata": {},
     "output_type": "display_data"
    },
    {
     "data": {
      "application/vnd.jupyter.widget-view+json": {
       "model_id": "",
       "version_major": 2,
       "version_minor": 0
      },
      "text/plain": [
       "Training:   0%|          | 0/34 [00:00<?, ?it/s]"
      ]
     },
     "metadata": {},
     "output_type": "display_data"
    },
    {
     "data": {
      "application/vnd.jupyter.widget-view+json": {
       "model_id": "",
       "version_major": 2,
       "version_minor": 0
      },
      "text/plain": [
       "Training:   0%|          | 0/34 [00:00<?, ?it/s]"
      ]
     },
     "metadata": {},
     "output_type": "display_data"
    },
    {
     "data": {
      "application/vnd.jupyter.widget-view+json": {
       "model_id": "",
       "version_major": 2,
       "version_minor": 0
      },
      "text/plain": [
       "Training:   0%|          | 0/34 [00:00<?, ?it/s]"
      ]
     },
     "metadata": {},
     "output_type": "display_data"
    },
    {
     "data": {
      "application/vnd.jupyter.widget-view+json": {
       "model_id": "",
       "version_major": 2,
       "version_minor": 0
      },
      "text/plain": [
       "Training:   0%|          | 0/34 [00:00<?, ?it/s]"
      ]
     },
     "metadata": {},
     "output_type": "display_data"
    },
    {
     "data": {
      "application/vnd.jupyter.widget-view+json": {
       "model_id": "",
       "version_major": 2,
       "version_minor": 0
      },
      "text/plain": [
       "Training:   0%|          | 0/34 [00:00<?, ?it/s]"
      ]
     },
     "metadata": {},
     "output_type": "display_data"
    },
    {
     "data": {
      "application/vnd.jupyter.widget-view+json": {
       "model_id": "",
       "version_major": 2,
       "version_minor": 0
      },
      "text/plain": [
       "Training:   0%|          | 0/34 [00:00<?, ?it/s]"
      ]
     },
     "metadata": {},
     "output_type": "display_data"
    },
    {
     "data": {
      "application/vnd.jupyter.widget-view+json": {
       "model_id": "",
       "version_major": 2,
       "version_minor": 0
      },
      "text/plain": [
       "Training:   0%|          | 0/34 [00:00<?, ?it/s]"
      ]
     },
     "metadata": {},
     "output_type": "display_data"
    },
    {
     "data": {
      "application/vnd.jupyter.widget-view+json": {
       "model_id": "",
       "version_major": 2,
       "version_minor": 0
      },
      "text/plain": [
       "Training:   0%|          | 0/34 [00:00<?, ?it/s]"
      ]
     },
     "metadata": {},
     "output_type": "display_data"
    },
    {
     "data": {
      "application/vnd.jupyter.widget-view+json": {
       "model_id": "11aba93a9f4f49b2b40476789c3baa78",
       "version_major": 2,
       "version_minor": 0
      },
      "text/plain": [
       "Finetuning:   0%|          | 0/10 [00:00<?, ?it/s]"
      ]
     },
     "metadata": {},
     "output_type": "display_data"
    },
    {
     "data": {
      "application/vnd.jupyter.widget-view+json": {
       "model_id": "",
       "version_major": 2,
       "version_minor": 0
      },
      "text/plain": [
       "Training:   0%|          | 0/116 [00:00<?, ?it/s]"
      ]
     },
     "metadata": {},
     "output_type": "display_data"
    },
    {
     "data": {
      "application/vnd.jupyter.widget-view+json": {
       "model_id": "",
       "version_major": 2,
       "version_minor": 0
      },
      "text/plain": [
       "Training:   0%|          | 0/116 [00:00<?, ?it/s]"
      ]
     },
     "metadata": {},
     "output_type": "display_data"
    },
    {
     "data": {
      "application/vnd.jupyter.widget-view+json": {
       "model_id": "",
       "version_major": 2,
       "version_minor": 0
      },
      "text/plain": [
       "Training:   0%|          | 0/116 [00:00<?, ?it/s]"
      ]
     },
     "metadata": {},
     "output_type": "display_data"
    },
    {
     "data": {
      "application/vnd.jupyter.widget-view+json": {
       "model_id": "",
       "version_major": 2,
       "version_minor": 0
      },
      "text/plain": [
       "Training:   0%|          | 0/116 [00:00<?, ?it/s]"
      ]
     },
     "metadata": {},
     "output_type": "display_data"
    },
    {
     "data": {
      "application/vnd.jupyter.widget-view+json": {
       "model_id": "",
       "version_major": 2,
       "version_minor": 0
      },
      "text/plain": [
       "Training:   0%|          | 0/116 [00:00<?, ?it/s]"
      ]
     },
     "metadata": {},
     "output_type": "display_data"
    },
    {
     "data": {
      "application/vnd.jupyter.widget-view+json": {
       "model_id": "",
       "version_major": 2,
       "version_minor": 0
      },
      "text/plain": [
       "Training:   0%|          | 0/116 [00:00<?, ?it/s]"
      ]
     },
     "metadata": {},
     "output_type": "display_data"
    },
    {
     "data": {
      "application/vnd.jupyter.widget-view+json": {
       "model_id": "",
       "version_major": 2,
       "version_minor": 0
      },
      "text/plain": [
       "Training:   0%|          | 0/116 [00:00<?, ?it/s]"
      ]
     },
     "metadata": {},
     "output_type": "display_data"
    },
    {
     "data": {
      "application/vnd.jupyter.widget-view+json": {
       "model_id": "",
       "version_major": 2,
       "version_minor": 0
      },
      "text/plain": [
       "Training:   0%|          | 0/116 [00:00<?, ?it/s]"
      ]
     },
     "metadata": {},
     "output_type": "display_data"
    },
    {
     "data": {
      "application/vnd.jupyter.widget-view+json": {
       "model_id": "",
       "version_major": 2,
       "version_minor": 0
      },
      "text/plain": [
       "Training:   0%|          | 0/116 [00:00<?, ?it/s]"
      ]
     },
     "metadata": {},
     "output_type": "display_data"
    },
    {
     "data": {
      "application/vnd.jupyter.widget-view+json": {
       "model_id": "",
       "version_major": 2,
       "version_minor": 0
      },
      "text/plain": [
       "Training:   0%|          | 0/116 [00:00<?, ?it/s]"
      ]
     },
     "metadata": {},
     "output_type": "display_data"
    },
    {
     "data": {
      "application/vnd.jupyter.widget-view+json": {
       "model_id": "96abc52ce76a4b268ceb4593a388faaa",
       "version_major": 2,
       "version_minor": 0
      },
      "text/plain": [
       "Finetuning:   0%|          | 0/10 [00:00<?, ?it/s]"
      ]
     },
     "metadata": {},
     "output_type": "display_data"
    },
    {
     "data": {
      "application/vnd.jupyter.widget-view+json": {
       "model_id": "",
       "version_major": 2,
       "version_minor": 0
      },
      "text/plain": [
       "Training:   0%|          | 0/408 [00:00<?, ?it/s]"
      ]
     },
     "metadata": {},
     "output_type": "display_data"
    },
    {
     "data": {
      "application/vnd.jupyter.widget-view+json": {
       "model_id": "",
       "version_major": 2,
       "version_minor": 0
      },
      "text/plain": [
       "Training:   0%|          | 0/408 [00:00<?, ?it/s]"
      ]
     },
     "metadata": {},
     "output_type": "display_data"
    },
    {
     "data": {
      "application/vnd.jupyter.widget-view+json": {
       "model_id": "",
       "version_major": 2,
       "version_minor": 0
      },
      "text/plain": [
       "Training:   0%|          | 0/408 [00:00<?, ?it/s]"
      ]
     },
     "metadata": {},
     "output_type": "display_data"
    },
    {
     "data": {
      "application/vnd.jupyter.widget-view+json": {
       "model_id": "",
       "version_major": 2,
       "version_minor": 0
      },
      "text/plain": [
       "Training:   0%|          | 0/408 [00:00<?, ?it/s]"
      ]
     },
     "metadata": {},
     "output_type": "display_data"
    },
    {
     "data": {
      "application/vnd.jupyter.widget-view+json": {
       "model_id": "",
       "version_major": 2,
       "version_minor": 0
      },
      "text/plain": [
       "Training:   0%|          | 0/408 [00:00<?, ?it/s]"
      ]
     },
     "metadata": {},
     "output_type": "display_data"
    },
    {
     "data": {
      "application/vnd.jupyter.widget-view+json": {
       "model_id": "",
       "version_major": 2,
       "version_minor": 0
      },
      "text/plain": [
       "Training:   0%|          | 0/408 [00:00<?, ?it/s]"
      ]
     },
     "metadata": {},
     "output_type": "display_data"
    },
    {
     "data": {
      "application/vnd.jupyter.widget-view+json": {
       "model_id": "",
       "version_major": 2,
       "version_minor": 0
      },
      "text/plain": [
       "Training:   0%|          | 0/408 [00:00<?, ?it/s]"
      ]
     },
     "metadata": {},
     "output_type": "display_data"
    },
    {
     "data": {
      "application/vnd.jupyter.widget-view+json": {
       "model_id": "",
       "version_major": 2,
       "version_minor": 0
      },
      "text/plain": [
       "Training:   0%|          | 0/408 [00:00<?, ?it/s]"
      ]
     },
     "metadata": {},
     "output_type": "display_data"
    },
    {
     "data": {
      "application/vnd.jupyter.widget-view+json": {
       "model_id": "",
       "version_major": 2,
       "version_minor": 0
      },
      "text/plain": [
       "Training:   0%|          | 0/408 [00:00<?, ?it/s]"
      ]
     },
     "metadata": {},
     "output_type": "display_data"
    },
    {
     "data": {
      "application/vnd.jupyter.widget-view+json": {
       "model_id": "",
       "version_major": 2,
       "version_minor": 0
      },
      "text/plain": [
       "Training:   0%|          | 0/408 [00:00<?, ?it/s]"
      ]
     },
     "metadata": {},
     "output_type": "display_data"
    },
    {
     "data": {
      "application/vnd.jupyter.widget-view+json": {
       "model_id": "142d786cc9584a8b8ff7194df0cd0227",
       "version_major": 2,
       "version_minor": 0
      },
      "text/plain": [
       "Finetuning:   0%|          | 0/10 [00:00<?, ?it/s]"
      ]
     },
     "metadata": {},
     "output_type": "display_data"
    },
    {
     "data": {
      "application/vnd.jupyter.widget-view+json": {
       "model_id": "",
       "version_major": 2,
       "version_minor": 0
      },
      "text/plain": [
       "Training:   0%|          | 0/39 [00:00<?, ?it/s]"
      ]
     },
     "metadata": {},
     "output_type": "display_data"
    },
    {
     "data": {
      "application/vnd.jupyter.widget-view+json": {
       "model_id": "",
       "version_major": 2,
       "version_minor": 0
      },
      "text/plain": [
       "Training:   0%|          | 0/39 [00:00<?, ?it/s]"
      ]
     },
     "metadata": {},
     "output_type": "display_data"
    },
    {
     "data": {
      "application/vnd.jupyter.widget-view+json": {
       "model_id": "",
       "version_major": 2,
       "version_minor": 0
      },
      "text/plain": [
       "Training:   0%|          | 0/39 [00:00<?, ?it/s]"
      ]
     },
     "metadata": {},
     "output_type": "display_data"
    },
    {
     "data": {
      "application/vnd.jupyter.widget-view+json": {
       "model_id": "",
       "version_major": 2,
       "version_minor": 0
      },
      "text/plain": [
       "Training:   0%|          | 0/39 [00:00<?, ?it/s]"
      ]
     },
     "metadata": {},
     "output_type": "display_data"
    },
    {
     "data": {
      "application/vnd.jupyter.widget-view+json": {
       "model_id": "",
       "version_major": 2,
       "version_minor": 0
      },
      "text/plain": [
       "Training:   0%|          | 0/39 [00:00<?, ?it/s]"
      ]
     },
     "metadata": {},
     "output_type": "display_data"
    },
    {
     "data": {
      "application/vnd.jupyter.widget-view+json": {
       "model_id": "",
       "version_major": 2,
       "version_minor": 0
      },
      "text/plain": [
       "Training:   0%|          | 0/39 [00:00<?, ?it/s]"
      ]
     },
     "metadata": {},
     "output_type": "display_data"
    },
    {
     "data": {
      "application/vnd.jupyter.widget-view+json": {
       "model_id": "",
       "version_major": 2,
       "version_minor": 0
      },
      "text/plain": [
       "Training:   0%|          | 0/39 [00:00<?, ?it/s]"
      ]
     },
     "metadata": {},
     "output_type": "display_data"
    },
    {
     "data": {
      "application/vnd.jupyter.widget-view+json": {
       "model_id": "",
       "version_major": 2,
       "version_minor": 0
      },
      "text/plain": [
       "Training:   0%|          | 0/39 [00:00<?, ?it/s]"
      ]
     },
     "metadata": {},
     "output_type": "display_data"
    },
    {
     "data": {
      "application/vnd.jupyter.widget-view+json": {
       "model_id": "",
       "version_major": 2,
       "version_minor": 0
      },
      "text/plain": [
       "Training:   0%|          | 0/39 [00:00<?, ?it/s]"
      ]
     },
     "metadata": {},
     "output_type": "display_data"
    },
    {
     "data": {
      "application/vnd.jupyter.widget-view+json": {
       "model_id": "",
       "version_major": 2,
       "version_minor": 0
      },
      "text/plain": [
       "Training:   0%|          | 0/39 [00:00<?, ?it/s]"
      ]
     },
     "metadata": {},
     "output_type": "display_data"
    },
    {
     "data": {
      "application/vnd.jupyter.widget-view+json": {
       "model_id": "a3ce15c013e34da2a6754af68631afed",
       "version_major": 2,
       "version_minor": 0
      },
      "text/plain": [
       "Finetuning:   0%|          | 0/10 [00:00<?, ?it/s]"
      ]
     },
     "metadata": {},
     "output_type": "display_data"
    },
    {
     "data": {
      "application/vnd.jupyter.widget-view+json": {
       "model_id": "",
       "version_major": 2,
       "version_minor": 0
      },
      "text/plain": [
       "Training:   0%|          | 0/39 [00:00<?, ?it/s]"
      ]
     },
     "metadata": {},
     "output_type": "display_data"
    },
    {
     "data": {
      "application/vnd.jupyter.widget-view+json": {
       "model_id": "",
       "version_major": 2,
       "version_minor": 0
      },
      "text/plain": [
       "Training:   0%|          | 0/39 [00:00<?, ?it/s]"
      ]
     },
     "metadata": {},
     "output_type": "display_data"
    },
    {
     "data": {
      "application/vnd.jupyter.widget-view+json": {
       "model_id": "",
       "version_major": 2,
       "version_minor": 0
      },
      "text/plain": [
       "Training:   0%|          | 0/39 [00:00<?, ?it/s]"
      ]
     },
     "metadata": {},
     "output_type": "display_data"
    },
    {
     "data": {
      "application/vnd.jupyter.widget-view+json": {
       "model_id": "",
       "version_major": 2,
       "version_minor": 0
      },
      "text/plain": [
       "Training:   0%|          | 0/39 [00:00<?, ?it/s]"
      ]
     },
     "metadata": {},
     "output_type": "display_data"
    },
    {
     "data": {
      "application/vnd.jupyter.widget-view+json": {
       "model_id": "",
       "version_major": 2,
       "version_minor": 0
      },
      "text/plain": [
       "Training:   0%|          | 0/39 [00:00<?, ?it/s]"
      ]
     },
     "metadata": {},
     "output_type": "display_data"
    },
    {
     "data": {
      "application/vnd.jupyter.widget-view+json": {
       "model_id": "",
       "version_major": 2,
       "version_minor": 0
      },
      "text/plain": [
       "Training:   0%|          | 0/39 [00:00<?, ?it/s]"
      ]
     },
     "metadata": {},
     "output_type": "display_data"
    },
    {
     "data": {
      "application/vnd.jupyter.widget-view+json": {
       "model_id": "",
       "version_major": 2,
       "version_minor": 0
      },
      "text/plain": [
       "Training:   0%|          | 0/39 [00:00<?, ?it/s]"
      ]
     },
     "metadata": {},
     "output_type": "display_data"
    },
    {
     "data": {
      "application/vnd.jupyter.widget-view+json": {
       "model_id": "",
       "version_major": 2,
       "version_minor": 0
      },
      "text/plain": [
       "Training:   0%|          | 0/39 [00:00<?, ?it/s]"
      ]
     },
     "metadata": {},
     "output_type": "display_data"
    },
    {
     "data": {
      "application/vnd.jupyter.widget-view+json": {
       "model_id": "",
       "version_major": 2,
       "version_minor": 0
      },
      "text/plain": [
       "Training:   0%|          | 0/39 [00:00<?, ?it/s]"
      ]
     },
     "metadata": {},
     "output_type": "display_data"
    },
    {
     "data": {
      "application/vnd.jupyter.widget-view+json": {
       "model_id": "",
       "version_major": 2,
       "version_minor": 0
      },
      "text/plain": [
       "Training:   0%|          | 0/39 [00:00<?, ?it/s]"
      ]
     },
     "metadata": {},
     "output_type": "display_data"
    },
    {
     "data": {
      "application/vnd.jupyter.widget-view+json": {
       "model_id": "3b8f4e338d7643d4a12fd7c04bc1b99e",
       "version_major": 2,
       "version_minor": 0
      },
      "text/plain": [
       "Finetuning:   0%|          | 0/10 [00:00<?, ?it/s]"
      ]
     },
     "metadata": {},
     "output_type": "display_data"
    },
    {
     "data": {
      "application/vnd.jupyter.widget-view+json": {
       "model_id": "",
       "version_major": 2,
       "version_minor": 0
      },
      "text/plain": [
       "Training:   0%|          | 0/19 [00:00<?, ?it/s]"
      ]
     },
     "metadata": {},
     "output_type": "display_data"
    },
    {
     "data": {
      "application/vnd.jupyter.widget-view+json": {
       "model_id": "",
       "version_major": 2,
       "version_minor": 0
      },
      "text/plain": [
       "Training:   0%|          | 0/19 [00:00<?, ?it/s]"
      ]
     },
     "metadata": {},
     "output_type": "display_data"
    },
    {
     "data": {
      "application/vnd.jupyter.widget-view+json": {
       "model_id": "",
       "version_major": 2,
       "version_minor": 0
      },
      "text/plain": [
       "Training:   0%|          | 0/19 [00:00<?, ?it/s]"
      ]
     },
     "metadata": {},
     "output_type": "display_data"
    },
    {
     "data": {
      "application/vnd.jupyter.widget-view+json": {
       "model_id": "",
       "version_major": 2,
       "version_minor": 0
      },
      "text/plain": [
       "Training:   0%|          | 0/19 [00:00<?, ?it/s]"
      ]
     },
     "metadata": {},
     "output_type": "display_data"
    },
    {
     "data": {
      "application/vnd.jupyter.widget-view+json": {
       "model_id": "",
       "version_major": 2,
       "version_minor": 0
      },
      "text/plain": [
       "Training:   0%|          | 0/19 [00:00<?, ?it/s]"
      ]
     },
     "metadata": {},
     "output_type": "display_data"
    },
    {
     "data": {
      "application/vnd.jupyter.widget-view+json": {
       "model_id": "",
       "version_major": 2,
       "version_minor": 0
      },
      "text/plain": [
       "Training:   0%|          | 0/19 [00:00<?, ?it/s]"
      ]
     },
     "metadata": {},
     "output_type": "display_data"
    },
    {
     "data": {
      "application/vnd.jupyter.widget-view+json": {
       "model_id": "",
       "version_major": 2,
       "version_minor": 0
      },
      "text/plain": [
       "Training:   0%|          | 0/19 [00:00<?, ?it/s]"
      ]
     },
     "metadata": {},
     "output_type": "display_data"
    },
    {
     "data": {
      "application/vnd.jupyter.widget-view+json": {
       "model_id": "",
       "version_major": 2,
       "version_minor": 0
      },
      "text/plain": [
       "Training:   0%|          | 0/19 [00:00<?, ?it/s]"
      ]
     },
     "metadata": {},
     "output_type": "display_data"
    },
    {
     "data": {
      "application/vnd.jupyter.widget-view+json": {
       "model_id": "",
       "version_major": 2,
       "version_minor": 0
      },
      "text/plain": [
       "Training:   0%|          | 0/19 [00:00<?, ?it/s]"
      ]
     },
     "metadata": {},
     "output_type": "display_data"
    },
    {
     "data": {
      "application/vnd.jupyter.widget-view+json": {
       "model_id": "",
       "version_major": 2,
       "version_minor": 0
      },
      "text/plain": [
       "Training:   0%|          | 0/19 [00:00<?, ?it/s]"
      ]
     },
     "metadata": {},
     "output_type": "display_data"
    },
    {
     "data": {
      "application/vnd.jupyter.widget-view+json": {
       "model_id": "e4decab0c28f46bf92d1691f1b841459",
       "version_major": 2,
       "version_minor": 0
      },
      "text/plain": [
       "Finetuning:   0%|          | 0/10 [00:00<?, ?it/s]"
      ]
     },
     "metadata": {},
     "output_type": "display_data"
    },
    {
     "data": {
      "application/vnd.jupyter.widget-view+json": {
       "model_id": "",
       "version_major": 2,
       "version_minor": 0
      },
      "text/plain": [
       "Training:   0%|          | 0/54 [00:00<?, ?it/s]"
      ]
     },
     "metadata": {},
     "output_type": "display_data"
    },
    {
     "data": {
      "application/vnd.jupyter.widget-view+json": {
       "model_id": "",
       "version_major": 2,
       "version_minor": 0
      },
      "text/plain": [
       "Training:   0%|          | 0/54 [00:00<?, ?it/s]"
      ]
     },
     "metadata": {},
     "output_type": "display_data"
    },
    {
     "data": {
      "application/vnd.jupyter.widget-view+json": {
       "model_id": "",
       "version_major": 2,
       "version_minor": 0
      },
      "text/plain": [
       "Training:   0%|          | 0/54 [00:00<?, ?it/s]"
      ]
     },
     "metadata": {},
     "output_type": "display_data"
    },
    {
     "data": {
      "application/vnd.jupyter.widget-view+json": {
       "model_id": "",
       "version_major": 2,
       "version_minor": 0
      },
      "text/plain": [
       "Training:   0%|          | 0/54 [00:00<?, ?it/s]"
      ]
     },
     "metadata": {},
     "output_type": "display_data"
    },
    {
     "data": {
      "application/vnd.jupyter.widget-view+json": {
       "model_id": "",
       "version_major": 2,
       "version_minor": 0
      },
      "text/plain": [
       "Training:   0%|          | 0/54 [00:00<?, ?it/s]"
      ]
     },
     "metadata": {},
     "output_type": "display_data"
    },
    {
     "data": {
      "application/vnd.jupyter.widget-view+json": {
       "model_id": "",
       "version_major": 2,
       "version_minor": 0
      },
      "text/plain": [
       "Training:   0%|          | 0/54 [00:00<?, ?it/s]"
      ]
     },
     "metadata": {},
     "output_type": "display_data"
    },
    {
     "data": {
      "application/vnd.jupyter.widget-view+json": {
       "model_id": "",
       "version_major": 2,
       "version_minor": 0
      },
      "text/plain": [
       "Training:   0%|          | 0/54 [00:00<?, ?it/s]"
      ]
     },
     "metadata": {},
     "output_type": "display_data"
    },
    {
     "data": {
      "application/vnd.jupyter.widget-view+json": {
       "model_id": "",
       "version_major": 2,
       "version_minor": 0
      },
      "text/plain": [
       "Training:   0%|          | 0/54 [00:00<?, ?it/s]"
      ]
     },
     "metadata": {},
     "output_type": "display_data"
    },
    {
     "data": {
      "application/vnd.jupyter.widget-view+json": {
       "model_id": "",
       "version_major": 2,
       "version_minor": 0
      },
      "text/plain": [
       "Training:   0%|          | 0/54 [00:00<?, ?it/s]"
      ]
     },
     "metadata": {},
     "output_type": "display_data"
    },
    {
     "data": {
      "application/vnd.jupyter.widget-view+json": {
       "model_id": "",
       "version_major": 2,
       "version_minor": 0
      },
      "text/plain": [
       "Training:   0%|          | 0/54 [00:00<?, ?it/s]"
      ]
     },
     "metadata": {},
     "output_type": "display_data"
    },
    {
     "data": {
      "application/vnd.jupyter.widget-view+json": {
       "model_id": "d91327377be04b308e09c5657f425917",
       "version_major": 2,
       "version_minor": 0
      },
      "text/plain": [
       "Finetuning:   0%|          | 0/10 [00:00<?, ?it/s]"
      ]
     },
     "metadata": {},
     "output_type": "display_data"
    },
    {
     "data": {
      "application/vnd.jupyter.widget-view+json": {
       "model_id": "",
       "version_major": 2,
       "version_minor": 0
      },
      "text/plain": [
       "Training:   0%|          | 0/54 [00:00<?, ?it/s]"
      ]
     },
     "metadata": {},
     "output_type": "display_data"
    },
    {
     "data": {
      "application/vnd.jupyter.widget-view+json": {
       "model_id": "",
       "version_major": 2,
       "version_minor": 0
      },
      "text/plain": [
       "Training:   0%|          | 0/54 [00:00<?, ?it/s]"
      ]
     },
     "metadata": {},
     "output_type": "display_data"
    },
    {
     "data": {
      "application/vnd.jupyter.widget-view+json": {
       "model_id": "",
       "version_major": 2,
       "version_minor": 0
      },
      "text/plain": [
       "Training:   0%|          | 0/54 [00:00<?, ?it/s]"
      ]
     },
     "metadata": {},
     "output_type": "display_data"
    },
    {
     "data": {
      "application/vnd.jupyter.widget-view+json": {
       "model_id": "",
       "version_major": 2,
       "version_minor": 0
      },
      "text/plain": [
       "Training:   0%|          | 0/54 [00:00<?, ?it/s]"
      ]
     },
     "metadata": {},
     "output_type": "display_data"
    },
    {
     "data": {
      "application/vnd.jupyter.widget-view+json": {
       "model_id": "",
       "version_major": 2,
       "version_minor": 0
      },
      "text/plain": [
       "Training:   0%|          | 0/54 [00:00<?, ?it/s]"
      ]
     },
     "metadata": {},
     "output_type": "display_data"
    },
    {
     "data": {
      "application/vnd.jupyter.widget-view+json": {
       "model_id": "",
       "version_major": 2,
       "version_minor": 0
      },
      "text/plain": [
       "Training:   0%|          | 0/54 [00:00<?, ?it/s]"
      ]
     },
     "metadata": {},
     "output_type": "display_data"
    },
    {
     "data": {
      "application/vnd.jupyter.widget-view+json": {
       "model_id": "",
       "version_major": 2,
       "version_minor": 0
      },
      "text/plain": [
       "Training:   0%|          | 0/54 [00:00<?, ?it/s]"
      ]
     },
     "metadata": {},
     "output_type": "display_data"
    },
    {
     "data": {
      "application/vnd.jupyter.widget-view+json": {
       "model_id": "",
       "version_major": 2,
       "version_minor": 0
      },
      "text/plain": [
       "Training:   0%|          | 0/54 [00:00<?, ?it/s]"
      ]
     },
     "metadata": {},
     "output_type": "display_data"
    },
    {
     "data": {
      "application/vnd.jupyter.widget-view+json": {
       "model_id": "",
       "version_major": 2,
       "version_minor": 0
      },
      "text/plain": [
       "Training:   0%|          | 0/54 [00:00<?, ?it/s]"
      ]
     },
     "metadata": {},
     "output_type": "display_data"
    },
    {
     "data": {
      "application/vnd.jupyter.widget-view+json": {
       "model_id": "",
       "version_major": 2,
       "version_minor": 0
      },
      "text/plain": [
       "Training:   0%|          | 0/54 [00:00<?, ?it/s]"
      ]
     },
     "metadata": {},
     "output_type": "display_data"
    },
    {
     "data": {
      "application/vnd.jupyter.widget-view+json": {
       "model_id": "3c71797b625d470298062cb249b128a3",
       "version_major": 2,
       "version_minor": 0
      },
      "text/plain": [
       "Finetuning:   0%|          | 0/10 [00:00<?, ?it/s]"
      ]
     },
     "metadata": {},
     "output_type": "display_data"
    },
    {
     "data": {
      "application/vnd.jupyter.widget-view+json": {
       "model_id": "",
       "version_major": 2,
       "version_minor": 0
      },
      "text/plain": [
       "Training:   0%|          | 0/140 [00:00<?, ?it/s]"
      ]
     },
     "metadata": {},
     "output_type": "display_data"
    },
    {
     "data": {
      "application/vnd.jupyter.widget-view+json": {
       "model_id": "",
       "version_major": 2,
       "version_minor": 0
      },
      "text/plain": [
       "Training:   0%|          | 0/140 [00:00<?, ?it/s]"
      ]
     },
     "metadata": {},
     "output_type": "display_data"
    },
    {
     "data": {
      "application/vnd.jupyter.widget-view+json": {
       "model_id": "",
       "version_major": 2,
       "version_minor": 0
      },
      "text/plain": [
       "Training:   0%|          | 0/140 [00:00<?, ?it/s]"
      ]
     },
     "metadata": {},
     "output_type": "display_data"
    },
    {
     "data": {
      "application/vnd.jupyter.widget-view+json": {
       "model_id": "",
       "version_major": 2,
       "version_minor": 0
      },
      "text/plain": [
       "Training:   0%|          | 0/140 [00:00<?, ?it/s]"
      ]
     },
     "metadata": {},
     "output_type": "display_data"
    },
    {
     "data": {
      "application/vnd.jupyter.widget-view+json": {
       "model_id": "",
       "version_major": 2,
       "version_minor": 0
      },
      "text/plain": [
       "Training:   0%|          | 0/140 [00:00<?, ?it/s]"
      ]
     },
     "metadata": {},
     "output_type": "display_data"
    },
    {
     "data": {
      "application/vnd.jupyter.widget-view+json": {
       "model_id": "",
       "version_major": 2,
       "version_minor": 0
      },
      "text/plain": [
       "Training:   0%|          | 0/140 [00:00<?, ?it/s]"
      ]
     },
     "metadata": {},
     "output_type": "display_data"
    },
    {
     "data": {
      "application/vnd.jupyter.widget-view+json": {
       "model_id": "",
       "version_major": 2,
       "version_minor": 0
      },
      "text/plain": [
       "Training:   0%|          | 0/140 [00:00<?, ?it/s]"
      ]
     },
     "metadata": {},
     "output_type": "display_data"
    },
    {
     "data": {
      "application/vnd.jupyter.widget-view+json": {
       "model_id": "",
       "version_major": 2,
       "version_minor": 0
      },
      "text/plain": [
       "Training:   0%|          | 0/140 [00:00<?, ?it/s]"
      ]
     },
     "metadata": {},
     "output_type": "display_data"
    },
    {
     "data": {
      "application/vnd.jupyter.widget-view+json": {
       "model_id": "",
       "version_major": 2,
       "version_minor": 0
      },
      "text/plain": [
       "Training:   0%|          | 0/140 [00:00<?, ?it/s]"
      ]
     },
     "metadata": {},
     "output_type": "display_data"
    },
    {
     "data": {
      "application/vnd.jupyter.widget-view+json": {
       "model_id": "",
       "version_major": 2,
       "version_minor": 0
      },
      "text/plain": [
       "Training:   0%|          | 0/140 [00:00<?, ?it/s]"
      ]
     },
     "metadata": {},
     "output_type": "display_data"
    },
    {
     "data": {
      "application/vnd.jupyter.widget-view+json": {
       "model_id": "11699bb830504357907ba68cea2b0059",
       "version_major": 2,
       "version_minor": 0
      },
      "text/plain": [
       "Finetuning:   0%|          | 0/10 [00:00<?, ?it/s]"
      ]
     },
     "metadata": {},
     "output_type": "display_data"
    },
    {
     "data": {
      "application/vnd.jupyter.widget-view+json": {
       "model_id": "",
       "version_major": 2,
       "version_minor": 0
      },
      "text/plain": [
       "Training:   0%|          | 0/321 [00:00<?, ?it/s]"
      ]
     },
     "metadata": {},
     "output_type": "display_data"
    },
    {
     "data": {
      "application/vnd.jupyter.widget-view+json": {
       "model_id": "",
       "version_major": 2,
       "version_minor": 0
      },
      "text/plain": [
       "Training:   0%|          | 0/321 [00:00<?, ?it/s]"
      ]
     },
     "metadata": {},
     "output_type": "display_data"
    },
    {
     "data": {
      "application/vnd.jupyter.widget-view+json": {
       "model_id": "",
       "version_major": 2,
       "version_minor": 0
      },
      "text/plain": [
       "Training:   0%|          | 0/321 [00:00<?, ?it/s]"
      ]
     },
     "metadata": {},
     "output_type": "display_data"
    },
    {
     "data": {
      "application/vnd.jupyter.widget-view+json": {
       "model_id": "",
       "version_major": 2,
       "version_minor": 0
      },
      "text/plain": [
       "Training:   0%|          | 0/321 [00:00<?, ?it/s]"
      ]
     },
     "metadata": {},
     "output_type": "display_data"
    },
    {
     "data": {
      "application/vnd.jupyter.widget-view+json": {
       "model_id": "",
       "version_major": 2,
       "version_minor": 0
      },
      "text/plain": [
       "Training:   0%|          | 0/321 [00:00<?, ?it/s]"
      ]
     },
     "metadata": {},
     "output_type": "display_data"
    },
    {
     "data": {
      "application/vnd.jupyter.widget-view+json": {
       "model_id": "",
       "version_major": 2,
       "version_minor": 0
      },
      "text/plain": [
       "Training:   0%|          | 0/321 [00:00<?, ?it/s]"
      ]
     },
     "metadata": {},
     "output_type": "display_data"
    },
    {
     "data": {
      "application/vnd.jupyter.widget-view+json": {
       "model_id": "",
       "version_major": 2,
       "version_minor": 0
      },
      "text/plain": [
       "Training:   0%|          | 0/321 [00:00<?, ?it/s]"
      ]
     },
     "metadata": {},
     "output_type": "display_data"
    },
    {
     "data": {
      "application/vnd.jupyter.widget-view+json": {
       "model_id": "",
       "version_major": 2,
       "version_minor": 0
      },
      "text/plain": [
       "Training:   0%|          | 0/321 [00:00<?, ?it/s]"
      ]
     },
     "metadata": {},
     "output_type": "display_data"
    },
    {
     "data": {
      "application/vnd.jupyter.widget-view+json": {
       "model_id": "",
       "version_major": 2,
       "version_minor": 0
      },
      "text/plain": [
       "Training:   0%|          | 0/321 [00:00<?, ?it/s]"
      ]
     },
     "metadata": {},
     "output_type": "display_data"
    },
    {
     "data": {
      "application/vnd.jupyter.widget-view+json": {
       "model_id": "",
       "version_major": 2,
       "version_minor": 0
      },
      "text/plain": [
       "Training:   0%|          | 0/321 [00:00<?, ?it/s]"
      ]
     },
     "metadata": {},
     "output_type": "display_data"
    }
   ],
   "source": [
    "f1_scores = {}\n",
    "for dataset_name, bbox_name in tqdm(dataset_name_to_bbox_name.items()):\n",
    "\n",
    "    is_local_lat = (df.lat >= bboxes[bbox_name].min_lat) & (df.lat <= bboxes[bbox_name].max_lat)\n",
    "    is_local_lon = (df.lon >= bboxes[bbox_name].min_lon) & (df.lon <= bboxes[bbox_name].max_lon)\n",
    "    \n",
    "    is_test = (df[\"name\"] == dataset_name) & (df[\"subset\"] == \"testing\")\n",
    "    test_df = df[is_test]    \n",
    "    train_df = df[~is_test & is_local_lat & is_local_lon]\n",
    "\n",
    "    train_dataset = PrestoDataset(train_df, start_month=1)\n",
    "    test_dataset = PrestoDataset(test_df, start_month=1) \n",
    "\n",
    "    train_dl = DataLoader(dataset=train_dataset, batch_size=batch_size, shuffle=True)\n",
    "    test_dl = DataLoader(dataset=test_dataset, batch_size=batch_size, shuffle=False)\n",
    "    \n",
    "    f1_scores[dataset_name] = finetune(train_dl, test_dl)"
   ]
  },
  {
   "cell_type": "code",
   "execution_count": 135,
   "id": "e42cf389",
   "metadata": {},
   "outputs": [],
   "source": [
    "for dataset, f1 in f1_scores.items():\n",
    "    presto_benchmark.loc[presto_benchmark[\"Name\"] == dataset, \"Presto Finetuning Feb-Feb F1 Score (no DW)\"] = f1"
   ]
  },
  {
   "cell_type": "code",
   "execution_count": 136,
   "id": "22fb45b3",
   "metadata": {},
   "outputs": [
    {
     "data": {
      "text/html": [
       "<div>\n",
       "<style scoped>\n",
       "    .dataframe tbody tr th:only-of-type {\n",
       "        vertical-align: middle;\n",
       "    }\n",
       "\n",
       "    .dataframe tbody tr th {\n",
       "        vertical-align: top;\n",
       "    }\n",
       "\n",
       "    .dataframe thead th {\n",
       "        text-align: right;\n",
       "    }\n",
       "</style>\n",
       "<table border=\"1\" class=\"dataframe\">\n",
       "  <thead>\n",
       "    <tr style=\"text-align: right;\">\n",
       "      <th></th>\n",
       "      <th>Name</th>\n",
       "      <th>Total</th>\n",
       "      <th>Crop Amount</th>\n",
       "      <th>Crop Rate</th>\n",
       "      <th>Presto RF Mar-Mar F1 Score (no DW)</th>\n",
       "      <th>Presto RF Feb-Feb F1 Score (no DW)</th>\n",
       "      <th>Presto Finetuning w Early Stopping Feb-Feb F1 Score (no DW)</th>\n",
       "      <th>Presto Finetuning Feb-Feb F1 Score (no DW)</th>\n",
       "    </tr>\n",
       "  </thead>\n",
       "  <tbody>\n",
       "    <tr>\n",
       "      <th>1</th>\n",
       "      <td>Mali_lower_CEO_2019</td>\n",
       "      <td>271</td>\n",
       "      <td>94</td>\n",
       "      <td>0.347</td>\n",
       "      <td>0.588235</td>\n",
       "      <td>0.641711</td>\n",
       "      <td>0.592593</td>\n",
       "      <td>0.642487</td>\n",
       "    </tr>\n",
       "    <tr>\n",
       "      <th>3</th>\n",
       "      <td>Togo</td>\n",
       "      <td>310</td>\n",
       "      <td>107</td>\n",
       "      <td>0.345</td>\n",
       "      <td>0.756303</td>\n",
       "      <td>0.742857</td>\n",
       "      <td>0.731092</td>\n",
       "      <td>0.736842</td>\n",
       "    </tr>\n",
       "    <tr>\n",
       "      <th>4</th>\n",
       "      <td>Rwanda</td>\n",
       "      <td>555</td>\n",
       "      <td>191</td>\n",
       "      <td>0.344</td>\n",
       "      <td>0.627346</td>\n",
       "      <td>0.576819</td>\n",
       "      <td>0.604534</td>\n",
       "      <td>0.571429</td>\n",
       "    </tr>\n",
       "    <tr>\n",
       "      <th>5</th>\n",
       "      <td>Uganda</td>\n",
       "      <td>456</td>\n",
       "      <td>52</td>\n",
       "      <td>0.114</td>\n",
       "      <td>0.464646</td>\n",
       "      <td>0.437500</td>\n",
       "      <td>0.500000</td>\n",
       "      <td>0.533333</td>\n",
       "    </tr>\n",
       "    <tr>\n",
       "      <th>6</th>\n",
       "      <td>Ethiopia_Tigray_2020</td>\n",
       "      <td>507</td>\n",
       "      <td>139</td>\n",
       "      <td>0.274</td>\n",
       "      <td>0.641221</td>\n",
       "      <td>0.651341</td>\n",
       "      <td>0.666667</td>\n",
       "      <td>0.706714</td>\n",
       "    </tr>\n",
       "    <tr>\n",
       "      <th>7</th>\n",
       "      <td>Ethiopia_Tigray_2021</td>\n",
       "      <td>367</td>\n",
       "      <td>120</td>\n",
       "      <td>0.327</td>\n",
       "      <td>0.669903</td>\n",
       "      <td>0.689320</td>\n",
       "      <td>0.682692</td>\n",
       "      <td>0.756757</td>\n",
       "    </tr>\n",
       "    <tr>\n",
       "      <th>8</th>\n",
       "      <td>Ethiopia_Bure_Jimma_2019</td>\n",
       "      <td>498</td>\n",
       "      <td>161</td>\n",
       "      <td>0.323</td>\n",
       "      <td>0.819355</td>\n",
       "      <td>0.825806</td>\n",
       "      <td>0.808642</td>\n",
       "      <td>0.839117</td>\n",
       "    </tr>\n",
       "    <tr>\n",
       "      <th>9</th>\n",
       "      <td>Ethiopia_Bure_Jimma_2020</td>\n",
       "      <td>455</td>\n",
       "      <td>129</td>\n",
       "      <td>0.284</td>\n",
       "      <td>0.880309</td>\n",
       "      <td>0.849421</td>\n",
       "      <td>0.838951</td>\n",
       "      <td>0.844106</td>\n",
       "    </tr>\n",
       "    <tr>\n",
       "      <th>10</th>\n",
       "      <td>Malawi_CEO_2020</td>\n",
       "      <td>457</td>\n",
       "      <td>67</td>\n",
       "      <td>0.147</td>\n",
       "      <td>0.142857</td>\n",
       "      <td>0.117647</td>\n",
       "      <td>0.113475</td>\n",
       "      <td>0.217687</td>\n",
       "    </tr>\n",
       "    <tr>\n",
       "      <th>12</th>\n",
       "      <td>Tanzania_CEO_2019</td>\n",
       "      <td>2037</td>\n",
       "      <td>626</td>\n",
       "      <td>0.307</td>\n",
       "      <td>0.803220</td>\n",
       "      <td>0.809991</td>\n",
       "      <td>0.770306</td>\n",
       "      <td>0.808394</td>\n",
       "    </tr>\n",
       "    <tr>\n",
       "      <th>14</th>\n",
       "      <td>Sudan_Blue_Nile_CEO_2019</td>\n",
       "      <td>526</td>\n",
       "      <td>173</td>\n",
       "      <td>0.329</td>\n",
       "      <td>0.858934</td>\n",
       "      <td>0.863354</td>\n",
       "      <td>0.916667</td>\n",
       "      <td>0.926027</td>\n",
       "    </tr>\n",
       "    <tr>\n",
       "      <th>16</th>\n",
       "      <td>Senegal_CEO_2022</td>\n",
       "      <td>610</td>\n",
       "      <td>90</td>\n",
       "      <td>0.148</td>\n",
       "      <td>0.444444</td>\n",
       "      <td>0.458333</td>\n",
       "      <td>0.405229</td>\n",
       "      <td>0.601093</td>\n",
       "    </tr>\n",
       "    <tr>\n",
       "      <th>18</th>\n",
       "      <td>SudanBlueNileCEO2020</td>\n",
       "      <td>533</td>\n",
       "      <td>121</td>\n",
       "      <td>0.227</td>\n",
       "      <td>0.768061</td>\n",
       "      <td>0.783270</td>\n",
       "      <td>0.757447</td>\n",
       "      <td>0.746269</td>\n",
       "    </tr>\n",
       "    <tr>\n",
       "      <th>19</th>\n",
       "      <td>SudanAlGadarefCEO2019</td>\n",
       "      <td>533</td>\n",
       "      <td>135</td>\n",
       "      <td>0.253</td>\n",
       "      <td>0.599303</td>\n",
       "      <td>0.578397</td>\n",
       "      <td>0.407767</td>\n",
       "      <td>0.569492</td>\n",
       "    </tr>\n",
       "    <tr>\n",
       "      <th>21</th>\n",
       "      <td>SudanAlGadarefCEO2020</td>\n",
       "      <td>532</td>\n",
       "      <td>202</td>\n",
       "      <td>0.380</td>\n",
       "      <td>0.622222</td>\n",
       "      <td>0.630986</td>\n",
       "      <td>0.699332</td>\n",
       "      <td>0.701754</td>\n",
       "    </tr>\n",
       "    <tr>\n",
       "      <th>23</th>\n",
       "      <td>SudanGedarefDarfurAlJazirah2022</td>\n",
       "      <td>375</td>\n",
       "      <td>127</td>\n",
       "      <td>0.339</td>\n",
       "      <td>0.763158</td>\n",
       "      <td>0.741379</td>\n",
       "      <td>0.746888</td>\n",
       "      <td>0.740741</td>\n",
       "    </tr>\n",
       "    <tr>\n",
       "      <th>24</th>\n",
       "      <td>Uganda_NorthCEO2022</td>\n",
       "      <td>319</td>\n",
       "      <td>56</td>\n",
       "      <td>0.176</td>\n",
       "      <td>0.282051</td>\n",
       "      <td>0.271605</td>\n",
       "      <td>0.233766</td>\n",
       "      <td>0.246575</td>\n",
       "    </tr>\n",
       "  </tbody>\n",
       "</table>\n",
       "</div>"
      ],
      "text/plain": [
       "                               Name  Total  Crop Amount  Crop Rate  \\\n",
       "1               Mali_lower_CEO_2019    271           94      0.347   \n",
       "3                              Togo    310          107      0.345   \n",
       "4                            Rwanda    555          191      0.344   \n",
       "5                            Uganda    456           52      0.114   \n",
       "6              Ethiopia_Tigray_2020    507          139      0.274   \n",
       "7              Ethiopia_Tigray_2021    367          120      0.327   \n",
       "8          Ethiopia_Bure_Jimma_2019    498          161      0.323   \n",
       "9          Ethiopia_Bure_Jimma_2020    455          129      0.284   \n",
       "10                  Malawi_CEO_2020    457           67      0.147   \n",
       "12                Tanzania_CEO_2019   2037          626      0.307   \n",
       "14         Sudan_Blue_Nile_CEO_2019    526          173      0.329   \n",
       "16                 Senegal_CEO_2022    610           90      0.148   \n",
       "18             SudanBlueNileCEO2020    533          121      0.227   \n",
       "19            SudanAlGadarefCEO2019    533          135      0.253   \n",
       "21            SudanAlGadarefCEO2020    532          202      0.380   \n",
       "23  SudanGedarefDarfurAlJazirah2022    375          127      0.339   \n",
       "24              Uganda_NorthCEO2022    319           56      0.176   \n",
       "\n",
       "    Presto RF Mar-Mar F1 Score (no DW)  Presto RF Feb-Feb F1 Score (no DW)  \\\n",
       "1                             0.588235                            0.641711   \n",
       "3                             0.756303                            0.742857   \n",
       "4                             0.627346                            0.576819   \n",
       "5                             0.464646                            0.437500   \n",
       "6                             0.641221                            0.651341   \n",
       "7                             0.669903                            0.689320   \n",
       "8                             0.819355                            0.825806   \n",
       "9                             0.880309                            0.849421   \n",
       "10                            0.142857                            0.117647   \n",
       "12                            0.803220                            0.809991   \n",
       "14                            0.858934                            0.863354   \n",
       "16                            0.444444                            0.458333   \n",
       "18                            0.768061                            0.783270   \n",
       "19                            0.599303                            0.578397   \n",
       "21                            0.622222                            0.630986   \n",
       "23                            0.763158                            0.741379   \n",
       "24                            0.282051                            0.271605   \n",
       "\n",
       "    Presto Finetuning w Early Stopping Feb-Feb F1 Score (no DW)  \\\n",
       "1                                            0.592593             \n",
       "3                                            0.731092             \n",
       "4                                            0.604534             \n",
       "5                                            0.500000             \n",
       "6                                            0.666667             \n",
       "7                                            0.682692             \n",
       "8                                            0.808642             \n",
       "9                                            0.838951             \n",
       "10                                           0.113475             \n",
       "12                                           0.770306             \n",
       "14                                           0.916667             \n",
       "16                                           0.405229             \n",
       "18                                           0.757447             \n",
       "19                                           0.407767             \n",
       "21                                           0.699332             \n",
       "23                                           0.746888             \n",
       "24                                           0.233766             \n",
       "\n",
       "    Presto Finetuning Feb-Feb F1 Score (no DW)  \n",
       "1                                     0.642487  \n",
       "3                                     0.736842  \n",
       "4                                     0.571429  \n",
       "5                                     0.533333  \n",
       "6                                     0.706714  \n",
       "7                                     0.756757  \n",
       "8                                     0.839117  \n",
       "9                                     0.844106  \n",
       "10                                    0.217687  \n",
       "12                                    0.808394  \n",
       "14                                    0.926027  \n",
       "16                                    0.601093  \n",
       "18                                    0.746269  \n",
       "19                                    0.569492  \n",
       "21                                    0.701754  \n",
       "23                                    0.740741  \n",
       "24                                    0.246575  "
      ]
     },
     "execution_count": 136,
     "metadata": {},
     "output_type": "execute_result"
    }
   ],
   "source": [
    "presto_benchmark"
   ]
  },
  {
   "cell_type": "code",
   "execution_count": null,
   "id": "dea1e739",
   "metadata": {},
   "outputs": [],
   "source": []
  }
 ],
 "metadata": {
  "kernelspec": {
   "display_name": "Python 3 (ipykernel)",
   "language": "python",
   "name": "python3"
  },
  "language_info": {
   "codemirror_mode": {
    "name": "ipython",
    "version": 3
   },
   "file_extension": ".py",
   "mimetype": "text/x-python",
   "name": "python",
   "nbconvert_exporter": "python",
   "pygments_lexer": "ipython3",
   "version": "3.9.16"
  }
 },
 "nbformat": 4,
 "nbformat_minor": 5
}
