{
 "cells": [
  {
   "cell_type": "code",
   "execution_count": 3,
   "id": "e254889a",
   "metadata": {},
   "outputs": [],
   "source": [
    "import pandas as pd\n",
    "\n",
    "from pathlib import Path"
   ]
  },
  {
   "cell_type": "code",
   "execution_count": 9,
   "id": "70a1e87f",
   "metadata": {},
   "outputs": [],
   "source": [
    "dataset_paths = list(Path(\"../data/datasets\").glob(\"*.csv\"))"
   ]
  },
  {
   "cell_type": "code",
   "execution_count": 28,
   "id": "2c210497",
   "metadata": {},
   "outputs": [
    {
     "name": "stderr",
     "output_type": "stream",
     "text": [
      "/var/folders/1v/87y9n_d5143c_6cp072v3b1c0000gn/T/ipykernel_25844/2820510693.py:1: DtypeWarning: Columns (17) have mixed types.Specify dtype option on import or set low_memory=False.\n",
      "  datasets = {p.stem: pd.read_csv(p) for p in dataset_paths}\n"
     ]
    }
   ],
   "source": [
    "datasets = {p.stem: pd.read_csv(p) for p in dataset_paths}"
   ]
  },
  {
   "cell_type": "code",
   "execution_count": 29,
   "id": "9175909a",
   "metadata": {},
   "outputs": [],
   "source": [
    "cleaned_datasets = {}"
   ]
  },
  {
   "cell_type": "code",
   "execution_count": 45,
   "id": "24c01407",
   "metadata": {},
   "outputs": [],
   "source": [
    "for p, df in datasets.items():\n",
    "    if \"testing\" not in df[\"subset\"].unique():\n",
    "        continue\n",
    "        \n",
    "    clean_df = df[df[\"class_probability\"] != 0.5].copy()\n",
    "    \n",
    "    clean_df = clean_df.rename(columns={\"class_probability\": \"is_crop\", \"lat\": \"latitude\", \"lon\": \"longitude\"})\n",
    "    \n",
    "    if clean_df[\"is_crop\"].value_counts(normalize=True)[1.0] < 0.2:\n",
    "        continue\n",
    "    \n",
    "    cleaned_datasets[p] = clean_df[[\"is_crop\", \"latitude\", \"longitude\", \"subset\"]]"
   ]
  },
  {
   "cell_type": "code",
   "execution_count": 46,
   "id": "ec5b3998",
   "metadata": {},
   "outputs": [
    {
     "data": {
      "text/plain": [
       "['Uganda_NorthCEO2022',\n",
       " 'Mali_lower_CEO_2019',\n",
       " 'SudanBlueNileCEO2020',\n",
       " 'Togo',\n",
       " 'Tanzania_CEO_2019',\n",
       " 'Uganda',\n",
       " 'SudanAlGadarefCEO2019',\n",
       " 'SudanGedarefDarfurAlJazirah2022_v1',\n",
       " 'Ethiopia_Tigray_2020',\n",
       " 'Ethiopia_Tigray_2021',\n",
       " 'Sudan_Blue_Nile_CEO_2019',\n",
       " 'SudanAlGadarefCEO2020',\n",
       " 'Ethiopia_Bure_Jimma_2020',\n",
       " 'Kenya',\n",
       " 'SudanGedarefDarfurAlJazirah2022',\n",
       " 'Ethiopia_Bure_Jimma_2019',\n",
       " 'SudanGedarefDarfurAlJazirah2023']"
      ]
     },
     "execution_count": 46,
     "metadata": {},
     "output_type": "execute_result"
    }
   ],
   "source": [
    "list(cleaned_datasets.keys())"
   ]
  },
  {
   "cell_type": "markdown",
   "id": "56bdea95",
   "metadata": {},
   "source": [
    "## Areas\n",
    "\n",
    "- Uganda North: 12 Mha ?\n",
    "\n",
    "- Mali_lower: need more info\n",
    "\n",
    "- Sudan Blue Nile: 45,844 km2 -> 4.58 Mha\n",
    "\n",
    "- Togo: 56,785 km2 -> 5.68 Mha\n",
    "\n",
    "- Tanzania: 945,087 km² -> 94.5 Mha\n",
    "\n",
    "- Uganda: 41,040 km² -> 24.1 Mha\n",
    "\n",
    "- Sudan Al Gadaref: ?\n",
    "\n",
    "- Ethiopia Tigray: 50,079 km² -> 5.0 Mha\n",
    "\n",
    "Final options will be:\n",
    "\n",
    "- Togo (one year)\n",
    "\n",
    "- Sudan, Blue Nile (two years)\n",
    "\n",
    "- Ethiopia, Tigray (two years)"
   ]
  },
  {
   "cell_type": "code",
   "execution_count": 47,
   "id": "166f1bf4",
   "metadata": {},
   "outputs": [],
   "source": [
    "cleaned_datasets[\"Togo\"].to_csv(\"Togo_points_2019.csv\", index=False)"
   ]
  },
  {
   "cell_type": "code",
   "execution_count": 48,
   "id": "472a9293",
   "metadata": {},
   "outputs": [],
   "source": [
    "cleaned_datasets[\"SudanBlueNileCEO2020\"].to_csv(\"Sudan_Blue_Nile_points_2020.csv\", index=False)"
   ]
  },
  {
   "cell_type": "code",
   "execution_count": 49,
   "id": "695ba08a",
   "metadata": {},
   "outputs": [],
   "source": [
    "cleaned_datasets[\"Sudan_Blue_Nile_CEO_2019\"].to_csv(\"Sudan_Blue_Nile_points_2019.csv\", index=False)"
   ]
  },
  {
   "cell_type": "code",
   "execution_count": 50,
   "id": "c6cc2ddf",
   "metadata": {},
   "outputs": [],
   "source": [
    "cleaned_datasets[\"Ethiopia_Tigray_2020\"].to_csv(\"Ethiopia_Tigray_points_2020.csv\", index=False)"
   ]
  },
  {
   "cell_type": "code",
   "execution_count": 51,
   "id": "0512cde3",
   "metadata": {},
   "outputs": [],
   "source": [
    "cleaned_datasets[\"Ethiopia_Tigray_2021\"].to_csv(\"Ethiopia_Tigray_points_2021.csv\", index=False)"
   ]
  },
  {
   "cell_type": "code",
   "execution_count": null,
   "id": "5ebb9b27",
   "metadata": {},
   "outputs": [],
   "source": []
  }
 ],
 "metadata": {
  "kernelspec": {
   "display_name": "Python 3 (ipykernel)",
   "language": "python",
   "name": "python3"
  },
  "language_info": {
   "codemirror_mode": {
    "name": "ipython",
    "version": 3
   },
   "file_extension": ".py",
   "mimetype": "text/x-python",
   "name": "python",
   "nbconvert_exporter": "python",
   "pygments_lexer": "ipython3",
   "version": "3.9.16"
  }
 },
 "nbformat": 4,
 "nbformat_minor": 5
}
